{
 "cells": [
  {
   "cell_type": "markdown",
   "metadata": {},
   "source": [
    "DS 8014 Graph Mining\n",
    "Assignment 1\n",
    "\n",
    "Gorkem Sarp;\n",
    "Richa Sharma"
   ]
  },
  {
   "cell_type": "code",
   "execution_count": 1,
   "metadata": {},
   "outputs": [],
   "source": [
    "## In addition to sources provided, some of the code was taken from our labs, ie: \n",
    "## https://github.com/ftheberge/GraphMiningNotebooks"
   ]
  },
  {
   "cell_type": "code",
   "execution_count": 2,
   "metadata": {},
   "outputs": [],
   "source": [
    "## required packages \n",
    "import igraph as ig\n",
    "import numpy as np\n",
    "import pandas as pd\n",
    "import matplotlib.pyplot as plt\n",
    "from sklearn.linear_model import LinearRegression\n",
    "from collections import Counter\n",
    "from statsmodels.distributions.empirical_distribution import ECDF as ecdf\n",
    "import random\n",
    "from geopy.distance import geodesic\n",
    "from scipy.stats import pearsonr"
   ]
  },
  {
   "cell_type": "markdown",
   "metadata": {},
   "source": [
    "# Question 2"
   ]
  },
  {
   "cell_type": "code",
   "execution_count": 3,
   "metadata": {},
   "outputs": [
    {
     "data": {
      "text/plain": [
       "<igraph.Graph at 0x1cf5824bc70>"
      ]
     },
     "execution_count": 3,
     "metadata": {},
     "output_type": "execute_result"
    }
   ],
   "source": [
    "D = pd.read_csv(\"gridkit_north_america-highvoltage-links.csv\")\n",
    "tuples = [tuple(x) for x in zip(D[\"v_id_1\"],D[\"v_id_2\"])]\n",
    "gr = ig.Graph.TupleList(tuples,directed = False )\n",
    "X = pd.read_csv(\"gridkit_north_america-highvoltage-vertices.csv\")\n",
    "gr.simplify()"
   ]
  },
  {
   "cell_type": "code",
   "execution_count": 4,
   "metadata": {},
   "outputs": [],
   "source": [
    "idx = [int(i) for i in gr.vs['name']]\n",
    "sorterIndex = dict(zip(idx,range(len(idx))))\n",
    "X['Rank'] = X['v_id'].map(sorterIndex)\n",
    "X.sort_values(['Rank'], ascending=[True],inplace=True)\n",
    "X.dropna(inplace=True)"
   ]
  },
  {
   "cell_type": "code",
   "execution_count": 5,
   "metadata": {},
   "outputs": [
    {
     "data": {
      "text/html": [
       "<div>\n",
       "<style scoped>\n",
       "    .dataframe tbody tr th:only-of-type {\n",
       "        vertical-align: middle;\n",
       "    }\n",
       "\n",
       "    .dataframe tbody tr th {\n",
       "        vertical-align: top;\n",
       "    }\n",
       "\n",
       "    .dataframe thead th {\n",
       "        text-align: right;\n",
       "    }\n",
       "</style>\n",
       "<table border=\"1\" class=\"dataframe\">\n",
       "  <thead>\n",
       "    <tr style=\"text-align: right;\">\n",
       "      <th></th>\n",
       "      <th>0</th>\n",
       "    </tr>\n",
       "  </thead>\n",
       "  <tbody>\n",
       "    <tr>\n",
       "      <th>graph</th>\n",
       "      <td>Grid Graph</td>\n",
       "    </tr>\n",
       "    <tr>\n",
       "      <th>nodes</th>\n",
       "      <td>16167</td>\n",
       "    </tr>\n",
       "    <tr>\n",
       "      <th>edges</th>\n",
       "      <td>20242</td>\n",
       "    </tr>\n",
       "    <tr>\n",
       "      <th>$d_{min}$</th>\n",
       "      <td>1</td>\n",
       "    </tr>\n",
       "    <tr>\n",
       "      <th>$d_{mean}$</th>\n",
       "      <td>2.504113</td>\n",
       "    </tr>\n",
       "    <tr>\n",
       "      <th>$d_{median}$</th>\n",
       "      <td>2.0</td>\n",
       "    </tr>\n",
       "    <tr>\n",
       "      <th>$d_{quant_{99}}$</th>\n",
       "      <td>7.0</td>\n",
       "    </tr>\n",
       "    <tr>\n",
       "      <th>$d_{max}$</th>\n",
       "      <td>22</td>\n",
       "    </tr>\n",
       "    <tr>\n",
       "      <th>diameter</th>\n",
       "      <td>138</td>\n",
       "    </tr>\n",
       "    <tr>\n",
       "      <th>components</th>\n",
       "      <td>34</td>\n",
       "    </tr>\n",
       "    <tr>\n",
       "      <th>largest</th>\n",
       "      <td>14990</td>\n",
       "    </tr>\n",
       "    <tr>\n",
       "      <th>isolates</th>\n",
       "      <td>0</td>\n",
       "    </tr>\n",
       "    <tr>\n",
       "      <th>$C_{glob}$</th>\n",
       "      <td>0.102377</td>\n",
       "    </tr>\n",
       "    <tr>\n",
       "      <th>$C_{loc}$</th>\n",
       "      <td>0.104157</td>\n",
       "    </tr>\n",
       "  </tbody>\n",
       "</table>\n",
       "</div>"
      ],
      "text/plain": [
       "                           0\n",
       "graph             Grid Graph\n",
       "nodes                  16167\n",
       "edges                  20242\n",
       "$d_{min}$                  1\n",
       "$d_{mean}$          2.504113\n",
       "$d_{median}$             2.0\n",
       "$d_{quant_{99}}$         7.0\n",
       "$d_{max}$                 22\n",
       "diameter                 138\n",
       "components                34\n",
       "largest                14990\n",
       "isolates                   0\n",
       "$C_{glob}$          0.102377\n",
       "$C_{loc}$           0.104157"
      ]
     },
     "execution_count": 5,
     "metadata": {},
     "output_type": "execute_result"
    }
   ],
   "source": [
    "def baseStats(G):\n",
    "    deg = G.degree()\n",
    "    return [G.vcount(),G.ecount(),np.min(deg),np.mean(deg),np.median(deg),np.quantile(deg,.99),\n",
    "            np.max(deg),G.diameter(),np.max(G.clusters().membership)+1,G.clusters().giant().vcount(),\n",
    "            sum([x==0 for x in G.degree()]),G.transitivity_undirected(mode='nan'),\n",
    "            G.transitivity_avglocal_undirected(mode='nan')]\n",
    "S = []\n",
    "\n",
    "S.append(['Grid Graph'] + baseStats(gr))\n",
    "D = pd.DataFrame(S,columns=['graph','nodes','edges',r'$d_{min}$',r'$d_{mean}$',r'$d_{median}$',\n",
    "                            r'$d_{quant_{99}}$',r'$d_{max}$','diameter','components','largest',\n",
    "                            'isolates',r'$C_{glob}$',r'$C_{loc}$']).transpose()\n",
    "D"
   ]
  },
  {
   "cell_type": "markdown",
   "metadata": {},
   "source": [
    "# Question 3"
   ]
  },
  {
   "cell_type": "markdown",
   "metadata": {},
   "source": [
    "# (a)"
   ]
  },
  {
   "cell_type": "code",
   "execution_count": 6,
   "metadata": {},
   "outputs": [
    {
     "data": {
      "text/plain": [
       "9739"
      ]
     },
     "execution_count": 6,
     "metadata": {},
     "output_type": "execute_result"
    }
   ],
   "source": [
    "##Below was taken from our lab\n",
    "\n",
    "## read the GitHub edge list as tuples and build undirected graph\n",
    "\n",
    "D = pd.read_csv('musae_git_edges.csv')\n",
    "tuples = [tuple(x) for x in D.values]\n",
    "gh = ig.Graph.TupleList(tuples, directed = False)\n",
    "\n",
    "\n",
    "## read node features\n",
    "X = pd.read_csv('musae_git_target.csv')\n",
    "\n",
    "## map node names in edgelist to indices in the graph\n",
    "idx = [int(i) for i in gh.vs['name']]\n",
    "sorterIndex = dict(zip(idx,range(len(idx))))\n",
    "X['Rank'] = X['id'].map(sorterIndex) \n",
    "X.sort_values(['Rank'], ascending=[True],inplace=True)\n",
    "X.dropna(inplace=True)\n",
    "\n",
    "cls = ['grey','black'] ## node colors\n",
    "lbl = ['web','ml']     ## node labels\n",
    "gh.es['color'] = 'grey' ## edge color\n",
    "\n",
    "## there are 2 node types: ml or web\n",
    "gh.vs['color'] = [cls[i] for i in list(X['ml_target'])]\n",
    "gh.vs['lbl'] = [lbl[i] for i in list(X['ml_target'])]\n",
    "\n",
    "## build the subgraphs\n",
    "gh_ml = gh.subgraph([v for v in gh.vs() if v['lbl']=='ml'])\n",
    "gh_ml.vcount()"
   ]
  },
  {
   "cell_type": "code",
   "execution_count": 7,
   "metadata": {},
   "outputs": [
    {
     "name": "stdout",
     "output_type": "stream",
     "text": [
      "number of walks of length 5 is:  36175204754.0\n"
     ]
    }
   ],
   "source": [
    "#Regular adjacency matrix took too long to calculate\n",
    "adj_matrix = gh_ml.get_adjacency()\n",
    "#np_adj_matrix = np.array(adj_matrix.data)\n",
    "#np_adj_matrix.shape\n",
    "#np_adj_matrix_power5 = np.linalg.matrix_power(np_adj_matrix,5)\n",
    "\n",
    "sparse_adj_matrix = gh_ml.get_adjacency_sparse()\n",
    "sparse_adj_matrix_power5 = sparse_adj_matrix**5 #using ** since it's a sparse matrix, instead of power\n",
    "print(\"number of walks of length 5 is: \", sparse_adj_matrix_power5.sum())"
   ]
  },
  {
   "cell_type": "markdown",
   "metadata": {},
   "source": [
    "# (b)"
   ]
  },
  {
   "cell_type": "code",
   "execution_count": 8,
   "metadata": {},
   "outputs": [],
   "source": [
    "# The following code was taken from\n",
    "# https://www.geeksforgeeks.org/cycles-of-length-n-in-an-undirected-and-connected-graph/\n",
    "\n",
    "\n",
    "V = gh_ml.vcount() # Number of vertices\n",
    " \n",
    "def DFS(graph, mark, n, vert, start, count): #depth first search, n is number of cycles\n",
    " \n",
    "    mark[vert] = True # mark the vertex vert as visited\n",
    "  \n",
    "    # we use (n-1) length paths because nth edge will close the cycle \n",
    "    # if there is (n-1) length path \n",
    "    if n == 0:\n",
    " \n",
    "        # mark vert to make it usable again\n",
    "        mark[vert] = False\n",
    "  \n",
    "        # If vertex vert can end with vertex start, add to count\n",
    "        if graph[vert][start] == 1:\n",
    "            count = count + 1\n",
    "            return count\n",
    "        else:\n",
    "            return count\n",
    "  \n",
    "    # All possible paths of length (n-1)\n",
    "    for i in range(V):\n",
    "        if mark[i] == False and graph[vert][i] == 1:\n",
    " \n",
    "            # depth first search with n-1\n",
    "            count = DFS(graph, mark, n-1, i, start, count)\n",
    "  \n",
    "    # mark vert to make it usable again\n",
    "    mark[vert] = False\n",
    "    return count\n",
    "  \n",
    "\n",
    "def cycle_count(graph, n):\n",
    " \n",
    "    \n",
    "    mark = [False] * V # marking all vertices as unvisited \n",
    "  \n",
    "    # using v-n+1 vertices to search for cycle\n",
    "    count = 0\n",
    "    for i in range(V-(n-1)):\n",
    "        count = DFS(graph, mark, n-1, i, i, count)\n",
    "  \n",
    "        # ith vertex is marked so that it won't be visited again \n",
    "        mark[i] = True\n",
    "     \n",
    "    return int(count/2)"
   ]
  },
  {
   "cell_type": "code",
   "execution_count": 9,
   "metadata": {},
   "outputs": [
    {
     "name": "stdout",
     "output_type": "stream",
     "text": [
      "number of cycles of length 4 is  151228\n"
     ]
    }
   ],
   "source": [
    "adj_matrix_array = adj_matrix.data\n",
    "print(\"number of cycles of length 4 is \",cycle_count(adj_matrix_array,4))"
   ]
  },
  {
   "cell_type": "markdown",
   "metadata": {},
   "source": [
    "\n",
    "# Question 4"
   ]
  },
  {
   "cell_type": "markdown",
   "metadata": {},
   "source": [
    "# (a)"
   ]
  },
  {
   "cell_type": "code",
   "execution_count": 10,
   "metadata": {},
   "outputs": [],
   "source": [
    "A = pd.read_csv(\"connections.csv\")"
   ]
  },
  {
   "cell_type": "code",
   "execution_count": 11,
   "metadata": {},
   "outputs": [
    {
     "data": {
      "text/html": [
       "<div>\n",
       "<style scoped>\n",
       "    .dataframe tbody tr th:only-of-type {\n",
       "        vertical-align: middle;\n",
       "    }\n",
       "\n",
       "    .dataframe tbody tr th {\n",
       "        vertical-align: top;\n",
       "    }\n",
       "\n",
       "    .dataframe thead th {\n",
       "        text-align: right;\n",
       "    }\n",
       "</style>\n",
       "<table border=\"1\" class=\"dataframe\">\n",
       "  <thead>\n",
       "    <tr style=\"text-align: right;\">\n",
       "      <th></th>\n",
       "      <th>orig_airport</th>\n",
       "      <th>dest_airport</th>\n",
       "      <th>total_passengers</th>\n",
       "    </tr>\n",
       "  </thead>\n",
       "  <tbody>\n",
       "    <tr>\n",
       "      <th>0</th>\n",
       "      <td>SFO</td>\n",
       "      <td>LAX</td>\n",
       "      <td>1442105</td>\n",
       "    </tr>\n",
       "    <tr>\n",
       "      <th>1</th>\n",
       "      <td>LAX</td>\n",
       "      <td>SFO</td>\n",
       "      <td>1438639</td>\n",
       "    </tr>\n",
       "    <tr>\n",
       "      <th>2</th>\n",
       "      <td>MCO</td>\n",
       "      <td>ATL</td>\n",
       "      <td>1436625</td>\n",
       "    </tr>\n",
       "    <tr>\n",
       "      <th>3</th>\n",
       "      <td>ATL</td>\n",
       "      <td>MCO</td>\n",
       "      <td>1424069</td>\n",
       "    </tr>\n",
       "    <tr>\n",
       "      <th>4</th>\n",
       "      <td>LAX</td>\n",
       "      <td>JFK</td>\n",
       "      <td>1277731</td>\n",
       "    </tr>\n",
       "  </tbody>\n",
       "</table>\n",
       "</div>"
      ],
      "text/plain": [
       "  orig_airport dest_airport  total_passengers\n",
       "0          SFO          LAX           1442105\n",
       "1          LAX          SFO           1438639\n",
       "2          MCO          ATL           1436625\n",
       "3          ATL          MCO           1424069\n",
       "4          LAX          JFK           1277731"
      ]
     },
     "execution_count": 11,
     "metadata": {},
     "output_type": "execute_result"
    }
   ],
   "source": [
    "A.head()\n",
    "#A.shape"
   ]
  },
  {
   "cell_type": "code",
   "execution_count": 12,
   "metadata": {},
   "outputs": [],
   "source": [
    "#v1_set=A[\"orig_airport\"].unique()"
   ]
  },
  {
   "cell_type": "code",
   "execution_count": 13,
   "metadata": {},
   "outputs": [],
   "source": [
    "tuples = [tuple(x) for x in zip(A[\"orig_airport\"],A[\"dest_airport\"]) ]\n",
    "ga = ig.Graph.TupleList(tuples, directed = True)\n",
    "ga.es[\"Weights\"] = A[\"total_passengers\"]"
   ]
  },
  {
   "cell_type": "code",
   "execution_count": 14,
   "metadata": {},
   "outputs": [],
   "source": [
    "In = ga.degree(mode=\"in\")\n",
    "Out = ga.degree(mode=\"out\")\n",
    "vertex_lst = ga.vs[\"name\"]\n",
    "total = [i + o for i, o in zip(In, Out)]\n",
    "total_deg = sorted(set(total))\n",
    "#print(len(total_deg))\n",
    "deg_dist = [(d/ga.vcount()) for d in total_deg ]\n",
    "#print(deg_dist)\n",
    "cummulative_frq =[]\n",
    "val=0\n",
    "for deg in deg_dist:\n",
    "    val+=deg\n",
    "    cummulative_frq.append(val)\n",
    "#print(In_degree, cummulative_frq)"
   ]
  },
  {
   "cell_type": "code",
   "execution_count": 15,
   "metadata": {},
   "outputs": [
    {
     "data": {
      "image/png": "[encoded data removed]",
      "text/plain": [
       "<Figure size 1296x864 with 1 Axes>"
      ]
     },
     "metadata": {
      "needs_background": "light"
     },
     "output_type": "display_data"
    }
   ],
   "source": [
    "plt.figure(figsize=(18, 12)) \n",
    "plt.grid(True)\n",
    "plt.loglog(deg_dist, cummulative_frq, 'cp-') \n",
    "plt.xlabel('Log indegree')\n",
    "plt.ylabel('Log fraction')\n",
    "plt.legend([\"Cummulative Frequency\"],loc='upper left')\n",
    "#plt.legend(loc='best')\n",
    "plt.show()"
   ]
  },
  {
   "cell_type": "code",
   "execution_count": 16,
   "metadata": {},
   "outputs": [],
   "source": [
    "## Reference 1:https://www.reading.ac.uk/AcaDepts/sp/PPLATO/imp/interactive%20mathematics/loglog2.pdf\n",
    "## Reference 2:https://stackoverflow.com/questions/53958700/plotting-the-degree-distribution-of-a-graph-using-nx-degree-histogram"
   ]
  },
  {
   "cell_type": "markdown",
   "metadata": {},
   "source": [
    "# (b)"
   ]
  },
  {
   "cell_type": "code",
   "execution_count": 17,
   "metadata": {},
   "outputs": [],
   "source": [
    "#Que: Find the busiest airport. In other words, find the node with the maximum total degree (degin(v) + degout(v)).\n",
    "# Calculating the degrees\n",
    "In = ga.degree(mode=\"in\")\n",
    "Out = ga.degree(mode=\"out\")\n",
    "vertex_lst = ga.vs[\"name\"]\n",
    "total = [i + o for i, o in zip(In, Out)]"
   ]
  },
  {
   "cell_type": "code",
   "execution_count": 18,
   "metadata": {},
   "outputs": [
    {
     "data": {
      "text/html": [
       "<div>\n",
       "<style scoped>\n",
       "    .dataframe tbody tr th:only-of-type {\n",
       "        vertical-align: middle;\n",
       "    }\n",
       "\n",
       "    .dataframe tbody tr th {\n",
       "        vertical-align: top;\n",
       "    }\n",
       "\n",
       "    .dataframe thead th {\n",
       "        text-align: right;\n",
       "    }\n",
       "</style>\n",
       "<table border=\"1\" class=\"dataframe\">\n",
       "  <thead>\n",
       "    <tr style=\"text-align: right;\">\n",
       "      <th></th>\n",
       "      <th>Vertex</th>\n",
       "      <th>In_degree</th>\n",
       "      <th>Out_degree</th>\n",
       "      <th>Total_degree</th>\n",
       "    </tr>\n",
       "  </thead>\n",
       "  <tbody>\n",
       "    <tr>\n",
       "      <th>0</th>\n",
       "      <td>SFO</td>\n",
       "      <td>88</td>\n",
       "      <td>102</td>\n",
       "      <td>190</td>\n",
       "    </tr>\n",
       "    <tr>\n",
       "      <th>1</th>\n",
       "      <td>LAX</td>\n",
       "      <td>102</td>\n",
       "      <td>130</td>\n",
       "      <td>232</td>\n",
       "    </tr>\n",
       "    <tr>\n",
       "      <th>2</th>\n",
       "      <td>MCO</td>\n",
       "      <td>101</td>\n",
       "      <td>120</td>\n",
       "      <td>221</td>\n",
       "    </tr>\n",
       "    <tr>\n",
       "      <th>3</th>\n",
       "      <td>ATL</td>\n",
       "      <td>163</td>\n",
       "      <td>173</td>\n",
       "      <td>336</td>\n",
       "    </tr>\n",
       "    <tr>\n",
       "      <th>4</th>\n",
       "      <td>JFK</td>\n",
       "      <td>77</td>\n",
       "      <td>93</td>\n",
       "      <td>170</td>\n",
       "    </tr>\n",
       "    <tr>\n",
       "      <th>...</th>\n",
       "      <td>...</td>\n",
       "      <td>...</td>\n",
       "      <td>...</td>\n",
       "      <td>...</td>\n",
       "    </tr>\n",
       "    <tr>\n",
       "      <th>459</th>\n",
       "      <td>MOP</td>\n",
       "      <td>1</td>\n",
       "      <td>0</td>\n",
       "      <td>1</td>\n",
       "    </tr>\n",
       "    <tr>\n",
       "      <th>460</th>\n",
       "      <td>DET</td>\n",
       "      <td>0</td>\n",
       "      <td>1</td>\n",
       "      <td>1</td>\n",
       "    </tr>\n",
       "    <tr>\n",
       "      <th>461</th>\n",
       "      <td>WVL</td>\n",
       "      <td>1</td>\n",
       "      <td>0</td>\n",
       "      <td>1</td>\n",
       "    </tr>\n",
       "    <tr>\n",
       "      <th>462</th>\n",
       "      <td>AID</td>\n",
       "      <td>1</td>\n",
       "      <td>0</td>\n",
       "      <td>1</td>\n",
       "    </tr>\n",
       "    <tr>\n",
       "      <th>463</th>\n",
       "      <td>EKX</td>\n",
       "      <td>0</td>\n",
       "      <td>1</td>\n",
       "      <td>1</td>\n",
       "    </tr>\n",
       "  </tbody>\n",
       "</table>\n",
       "<p>464 rows × 4 columns</p>\n",
       "</div>"
      ],
      "text/plain": [
       "    Vertex  In_degree  Out_degree  Total_degree\n",
       "0      SFO         88         102           190\n",
       "1      LAX        102         130           232\n",
       "2      MCO        101         120           221\n",
       "3      ATL        163         173           336\n",
       "4      JFK         77          93           170\n",
       "..     ...        ...         ...           ...\n",
       "459    MOP          1           0             1\n",
       "460    DET          0           1             1\n",
       "461    WVL          1           0             1\n",
       "462    AID          1           0             1\n",
       "463    EKX          0           1             1\n",
       "\n",
       "[464 rows x 4 columns]"
      ]
     },
     "execution_count": 18,
     "metadata": {},
     "output_type": "execute_result"
    }
   ],
   "source": [
    "## Creating a dataframe of the degrees of Vertices\n",
    "df= pd.DataFrame({\"Vertex\":vertex_lst, \"In_degree\": In, \"Out_degree\": Out, \"Total_degree\":total })\n",
    "df"
   ]
  },
  {
   "cell_type": "code",
   "execution_count": 19,
   "metadata": {},
   "outputs": [
    {
     "name": "stdout",
     "output_type": "stream",
     "text": [
      "Busiest Airport is ATL with total degree of 336\n"
     ]
    }
   ],
   "source": [
    "busiest_airport = df.loc[df[\"Total_degree\"].idxmax()].values[0]\n",
    "deg=df.loc[df[\"Total_degree\"].idxmax()].values[3]\n",
    "\n",
    "print(\"Busiest Airport is {} with total degree of {}\".format(busiest_airport,deg))"
   ]
  },
  {
   "cell_type": "markdown",
   "metadata": {},
   "source": [
    "# (c)"
   ]
  },
  {
   "cell_type": "code",
   "execution_count": 20,
   "metadata": {},
   "outputs": [
    {
     "name": "stdout",
     "output_type": "stream",
     "text": [
      "Number of elements in clusters: 464\n"
     ]
    }
   ],
   "source": [
    "# Que: Number of strongly connected components\n",
    "ele = len(ig._igraph.GraphBase.clusters(ga,mode=\"strong\"))\n",
    "print(\"Number of elements in clusters:\",ele)"
   ]
  },
  {
   "cell_type": "code",
   "execution_count": 21,
   "metadata": {},
   "outputs": [
    {
     "name": "stdout",
     "output_type": "stream",
     "text": [
      "List of all clusters: [[463], [460], [461], [454], [453], [451], [447], [442], [428], [418], [417], [416], [411], [405], [404], [403], [400], [396], [393], [386], [0, 1, 2, 3, 4, 5, 6, 7, 8, 9, 10, 11, 12, 13, 14, 15, 16, 17, 18, 19, 20, 21, 22, 23, 24, 25, 26, 27, 28, 29, 30, 31, 32, 33, 34, 35, 36, 37, 38, 39, 40, 41, 42, 43, 44, 45, 46, 47, 48, 49, 50, 51, 52, 53, 54, 55, 56, 57, 58, 59, 60, 61, 62, 63, 64, 65, 66, 67, 68, 69, 70, 71, 72, 73, 74, 75, 76, 77, 78, 79, 80, 81, 82, 83, 84, 85, 86, 87, 88, 89, 90, 91, 92, 93, 94, 95, 96, 97, 98, 99, 100, 101, 102, 103, 104, 105, 106, 107, 108, 109, 110, 111, 112, 113, 114, 115, 116, 117, 118, 119, 120, 121, 122, 123, 124, 125, 126, 127, 128, 129, 130, 131, 132, 133, 134, 135, 136, 137, 138, 139, 140, 141, 142, 143, 144, 145, 146, 147, 148, 149, 150, 151, 152, 153, 154, 155, 156, 157, 158, 159, 160, 161, 162, 163, 164, 165, 166, 167, 168, 169, 170, 171, 172, 173, 174, 175, 176, 177, 178, 179, 180, 181, 182, 183, 184, 185, 186, 187, 188, 189, 190, 191, 192, 193, 194, 195, 196, 197, 198, 199, 200, 201, 202, 203, 204, 205, 206, 207, 208, 209, 210, 211, 212, 213, 214, 215, 216, 217, 218, 219, 220, 221, 222, 223, 224, 225, 226, 227, 228, 229, 230, 231, 232, 233, 234, 235, 236, 237, 238, 239, 240, 241, 242, 243, 244, 245, 246, 247, 248, 249, 250, 251, 252, 253, 254, 255, 256, 257, 258, 259, 260, 261, 262, 263, 264, 265, 266, 267, 268, 269, 270, 271, 272, 273, 274, 275, 276, 277, 278, 279, 280, 281, 282, 283, 284, 285, 286, 287, 288, 289, 290, 291, 292, 293, 294, 295, 296, 297, 298, 299, 300, 301, 302, 303, 304, 305, 306, 307, 308, 309, 310, 311, 312, 313, 314, 315, 316, 317, 318, 319, 320, 321, 322, 323, 324, 325, 326, 327, 328, 329, 330, 331, 332, 333, 334, 335, 336, 337, 338, 339, 340, 341, 342, 343, 344, 345, 346, 347, 348, 349, 350, 351, 352, 353, 354, 355, 356, 357, 358, 359, 360, 361, 362, 363, 364, 365, 366, 367, 368, 369, 370, 371, 372, 373, 374, 375, 376, 378, 379, 380, 381, 382, 383, 384, 385, 387, 388, 389, 390, 391, 392, 395, 397, 398, 399, 401, 407, 408, 412, 415, 420, 422, 423, 424, 425, 426, 430, 431, 432, 433, 435, 436, 437, 438, 441, 444, 445, 446, 448, 449, 450, 452, 455, 456, 458], [377], [462], [443], [457], [419], [427], [434], [402], [440], [409], [439], [410], [421], [413], [414], [406], [459], [394], [429]]\n"
     ]
    }
   ],
   "source": [
    "lst=list(ga.clusters(mode='strong'))\n",
    "print(\"List of all clusters:\", lst)"
   ]
  },
  {
   "cell_type": "code",
   "execution_count": 22,
   "metadata": {},
   "outputs": [
    {
     "name": "stdout",
     "output_type": "stream",
     "text": [
      "Number of strongly connected clusters are:  40\n"
     ]
    }
   ],
   "source": [
    "cl = len(ga.clusters(mode=\"strong\"))\n",
    "print(\"Number of strongly connected clusters are: \",cl)"
   ]
  },
  {
   "cell_type": "markdown",
   "metadata": {},
   "source": [
    "# (d)"
   ]
  },
  {
   "cell_type": "code",
   "execution_count": 23,
   "metadata": {},
   "outputs": [
    {
     "name": "stdout",
     "output_type": "stream",
     "text": [
      "List of airports in California : ['ACV', 'APC', 'BFL', 'CEC', 'CIC', 'FAT', 'IPL', 'LAX', 'MCC', 'MCE', 'MHR', 'MOD', 'NKX', 'NZY', 'OAK', 'OXR', 'RDD', 'RIV', 'SAN', 'SBA', 'SBP', 'SCK', 'SDM', 'SEE', 'SFO', 'SJC', 'SMF', 'SNA', 'STS', 'TKF', 'VIS']\n",
      "\n",
      "Total isolated nodes in the subgraph are: 9\n"
     ]
    }
   ],
   "source": [
    "## que:Find the subgraph induced by all airports from California.\n",
    "##Find the number of isolated nodes in this subgraph.\n",
    "\n",
    "## List the airport code of California\n",
    "df = pd.read_csv('airports_loc.csv')\n",
    "airports = list(df.loc[df['state']=='CA', \"airport\"])\n",
    "print(\"List of airports in California :\",airports)\n",
    "\n",
    "# Build the subgraph \n",
    "ga_sub = ga.subgraph([v for v in ga.vs() if v['name'] in airports])\n",
    "\n",
    "# Find the nodes with degree zero\n",
    "isolated_nodes = sum([x==0 for x in ga_sub.degree()])\n",
    "print(\"\\nTotal isolated nodes in the subgraph are:\",isolated_nodes)"
   ]
  },
  {
   "cell_type": "markdown",
   "metadata": {},
   "source": [
    "# Question 5"
   ]
  },
  {
   "cell_type": "code",
   "execution_count": 24,
   "metadata": {},
   "outputs": [],
   "source": [
    "##Below was taken from our lab:\n",
    "\n",
    "## read edge list to build undirected graph\n",
    "gr_europe_highvoltage = ig.Graph.Read_Ncol('gridkit_europe-highvoltage.edges', directed=False)\n",
    "gr_europe_highvoltage = gr_europe_highvoltage.simplify()\n",
    "\n",
    "## read vertices with attributes\n",
    "att_file = pd.read_csv('gridkit_europe-highvoltage.vertices')\n",
    "idx = [int(i) for i in gr_europe_highvoltage.vs['name']]\n",
    "sorterIndex = dict(zip(idx,range(len(idx))))\n",
    "att_file['Rank'] = att_file['v_id'].map(sorterIndex)\n",
    "att_file.sort_values(['Rank'], ascending=[True],inplace=True)\n",
    "att_file.dropna(inplace=True)\n",
    "\n",
    "\n",
    "gr_europe_highvoltage.vs['longitude'] = list(att_file['lon'])\n",
    "gr_europe_highvoltage.vs['latitude'] = list(att_file['lat'])\n",
    "gr_europe_highvoltage.vs['type'] = list(att_file['typ'])\n",
    "gr_europe_highvoltage.vs['layout'] = [(v['longitude'],v['latitude']) for v in gr_europe_highvoltage.vs()] \n",
    "gr_europe_highvoltage.vs['size'] = 3\n",
    "gr_europe_highvoltage.es['color'] = 'grey'\n",
    "gr_europe_highvoltage.vs['color'] = 'black'"
   ]
  },
  {
   "cell_type": "code",
   "execution_count": 25,
   "metadata": {},
   "outputs": [
    {
     "data": {
      "text/html": [
       "<div>\n",
       "<style scoped>\n",
       "    .dataframe tbody tr th:only-of-type {\n",
       "        vertical-align: middle;\n",
       "    }\n",
       "\n",
       "    .dataframe tbody tr th {\n",
       "        vertical-align: top;\n",
       "    }\n",
       "\n",
       "    .dataframe thead th {\n",
       "        text-align: right;\n",
       "    }\n",
       "</style>\n",
       "<table border=\"1\" class=\"dataframe\">\n",
       "  <thead>\n",
       "    <tr style=\"text-align: right;\">\n",
       "      <th></th>\n",
       "      <th>Vertex 1</th>\n",
       "      <th>Location 1</th>\n",
       "      <th>Vertex 2</th>\n",
       "      <th>Location 2</th>\n",
       "      <th>Graph distance</th>\n",
       "      <th>Geographic distance</th>\n",
       "    </tr>\n",
       "  </thead>\n",
       "  <tbody>\n",
       "    <tr>\n",
       "      <th>0</th>\n",
       "      <td>7439</td>\n",
       "      <td>(45.8935828516244, 13.3444884436002)</td>\n",
       "      <td>9983</td>\n",
       "      <td>(47.6697307092155, 10.3697993206213)</td>\n",
       "      <td>43.0</td>\n",
       "      <td>300.939321</td>\n",
       "    </tr>\n",
       "    <tr>\n",
       "      <th>1</th>\n",
       "      <td>8731</td>\n",
       "      <td>(54.2609517122291, 39.0113806580798)</td>\n",
       "      <td>694</td>\n",
       "      <td>(46.149554873388, 12.7392833172324)</td>\n",
       "      <td>47.0</td>\n",
       "      <td>2064.951505</td>\n",
       "    </tr>\n",
       "    <tr>\n",
       "      <th>2</th>\n",
       "      <td>12634</td>\n",
       "      <td>(41.4438312291202, 14.0689730850973)</td>\n",
       "      <td>231</td>\n",
       "      <td>(51.3535238692661, 4.26745385390053)</td>\n",
       "      <td>49.0</td>\n",
       "      <td>1332.201219</td>\n",
       "    </tr>\n",
       "    <tr>\n",
       "      <th>3</th>\n",
       "      <td>7163</td>\n",
       "      <td>(48.019067345377, 7.5726115473122)</td>\n",
       "      <td>10568</td>\n",
       "      <td>(44.7680776005864, 2.68282962142817)</td>\n",
       "      <td>16.0</td>\n",
       "      <td>521.367084</td>\n",
       "    </tr>\n",
       "    <tr>\n",
       "      <th>4</th>\n",
       "      <td>12875</td>\n",
       "      <td>(48.0849771137593, 12.637077568136)</td>\n",
       "      <td>8885</td>\n",
       "      <td>(41.033448490818, 14.3927074512619)</td>\n",
       "      <td>56.0</td>\n",
       "      <td>795.845041</td>\n",
       "    </tr>\n",
       "    <tr>\n",
       "      <th>...</th>\n",
       "      <td>...</td>\n",
       "      <td>...</td>\n",
       "      <td>...</td>\n",
       "      <td>...</td>\n",
       "      <td>...</td>\n",
       "      <td>...</td>\n",
       "    </tr>\n",
       "    <tr>\n",
       "      <th>95</th>\n",
       "      <td>4479</td>\n",
       "      <td>(45.3850468163497, 11.281998426783)</td>\n",
       "      <td>3842</td>\n",
       "      <td>(50.7893879666169, 10.9996629635499)</td>\n",
       "      <td>42.0</td>\n",
       "      <td>601.285875</td>\n",
       "    </tr>\n",
       "    <tr>\n",
       "      <th>96</th>\n",
       "      <td>464</td>\n",
       "      <td>(50.9170399455599, -1.03987491424455)</td>\n",
       "      <td>10253</td>\n",
       "      <td>(49.3493026798737, 7.04751815777639)</td>\n",
       "      <td>24.0</td>\n",
       "      <td>603.588739</td>\n",
       "    </tr>\n",
       "    <tr>\n",
       "      <th>97</th>\n",
       "      <td>4993</td>\n",
       "      <td>(40.5796812190775, 15.2460381188031)</td>\n",
       "      <td>1162</td>\n",
       "      <td>(52.034620164836, 8.85635693636294)</td>\n",
       "      <td>79.0</td>\n",
       "      <td>1363.805155</td>\n",
       "    </tr>\n",
       "    <tr>\n",
       "      <th>98</th>\n",
       "      <td>8728</td>\n",
       "      <td>(52.2092119688994, 23.9355612481925)</td>\n",
       "      <td>7090</td>\n",
       "      <td>(43.3353217972121, -4.07788758972144)</td>\n",
       "      <td>83.0</td>\n",
       "      <td>2300.619022</td>\n",
       "    </tr>\n",
       "    <tr>\n",
       "      <th>99</th>\n",
       "      <td>2184</td>\n",
       "      <td>(42.9375101084964, -2.6603630495397)</td>\n",
       "      <td>2411</td>\n",
       "      <td>(47.2220561951493, 9.64266953803423)</td>\n",
       "      <td>33.0</td>\n",
       "      <td>1077.752124</td>\n",
       "    </tr>\n",
       "  </tbody>\n",
       "</table>\n",
       "<p>100 rows × 6 columns</p>\n",
       "</div>"
      ],
      "text/plain": [
       "    Vertex 1                             Location 1  Vertex 2  \\\n",
       "0       7439   (45.8935828516244, 13.3444884436002)      9983   \n",
       "1       8731   (54.2609517122291, 39.0113806580798)       694   \n",
       "2      12634   (41.4438312291202, 14.0689730850973)       231   \n",
       "3       7163     (48.019067345377, 7.5726115473122)     10568   \n",
       "4      12875    (48.0849771137593, 12.637077568136)      8885   \n",
       "..       ...                                    ...       ...   \n",
       "95      4479    (45.3850468163497, 11.281998426783)      3842   \n",
       "96       464  (50.9170399455599, -1.03987491424455)     10253   \n",
       "97      4993   (40.5796812190775, 15.2460381188031)      1162   \n",
       "98      8728   (52.2092119688994, 23.9355612481925)      7090   \n",
       "99      2184   (42.9375101084964, -2.6603630495397)      2411   \n",
       "\n",
       "                               Location 2  Graph distance  Geographic distance  \n",
       "0    (47.6697307092155, 10.3697993206213)            43.0           300.939321  \n",
       "1     (46.149554873388, 12.7392833172324)            47.0          2064.951505  \n",
       "2    (51.3535238692661, 4.26745385390053)            49.0          1332.201219  \n",
       "3    (44.7680776005864, 2.68282962142817)            16.0           521.367084  \n",
       "4     (41.033448490818, 14.3927074512619)            56.0           795.845041  \n",
       "..                                    ...             ...                  ...  \n",
       "95   (50.7893879666169, 10.9996629635499)            42.0           601.285875  \n",
       "96   (49.3493026798737, 7.04751815777639)            24.0           603.588739  \n",
       "97    (52.034620164836, 8.85635693636294)            79.0          1363.805155  \n",
       "98  (43.3353217972121, -4.07788758972144)            83.0          2300.619022  \n",
       "99   (47.2220561951493, 9.64266953803423)            33.0          1077.752124  \n",
       "\n",
       "[100 rows x 6 columns]"
      ]
     },
     "execution_count": 25,
     "metadata": {},
     "output_type": "execute_result"
    },
    {
     "data": {
      "image/png": "[encoded data removed]",
      "text/plain": [
       "<Figure size 432x288 with 1 Axes>"
      ]
     },
     "metadata": {
      "needs_background": "light"
     },
     "output_type": "display_data"
    }
   ],
   "source": [
    "v1_list = []\n",
    "v2_list = []\n",
    "loc1_list = []\n",
    "loc2_list = []\n",
    "distance_list = []\n",
    "shortest_path_dist_list = []\n",
    "\n",
    "\n",
    "for x in range(100):\n",
    "\n",
    "    #using random number generator, we get vertex indices \n",
    "    randon_number1 = random.randint(0,gr_europe_highvoltage.vcount())\n",
    "    v1_list.append(randon_number1)\n",
    "    randon_number2 = random.randint(0,gr_europe_highvoltage.vcount())\n",
    "    v2_list.append(randon_number2)\n",
    "\n",
    "    \n",
    "    #we got latitude and longitude to find geographic distance using geodesic\n",
    "    loc1 = (gr_europe_highvoltage.vs[randon_number1]['latitude'], gr_europe_highvoltage.vs[randon_number1]['longitude'])\n",
    "    loc1_list.append(loc1)\n",
    "    loc2 = (gr_europe_highvoltage.vs[randon_number2]['latitude'], gr_europe_highvoltage.vs[randon_number2]['longitude'])\n",
    "    loc2_list.append(loc2)\n",
    "    distance = geodesic(loc1, loc2).km\n",
    "    distance_list.append(distance)\n",
    "\n",
    "    #we found shortest path to get graph distance\n",
    "    shortest_path_dist = gr_europe_highvoltage.shortest_paths(source=gr_europe_highvoltage.vs[randon_number1], \n",
    "                                                              target=gr_europe_highvoltage.vs[randon_number2])[0][0]\n",
    "    shortest_path_dist_list.append(shortest_path_dist)\n",
    "\n",
    "\n",
    "result_dic = {\"Vertex 1\": v1_list, \"Location 1\": loc1_list, \"Vertex 2\": v2_list, \"Location 2\": loc2_list, \n",
    "              \"Graph distance\": shortest_path_dist_list, \"Geographic distance\": distance_list}\n",
    "\n",
    "\n",
    "plt.scatter(shortest_path_dist_list, distance_list)\n",
    "\n",
    "result_df = pd.DataFrame(result_dic )\n",
    "result_df"
   ]
  },
  {
   "cell_type": "code",
   "execution_count": 26,
   "metadata": {},
   "outputs": [
    {
     "name": "stdout",
     "output_type": "stream",
     "text": [
      "                     Graph distance  Geographic distance\n",
      "Graph distance             1.000000             0.739026\n",
      "Geographic distance        0.739026             1.000000\n",
      "There seems to be a moderate to strong correlation between two distances, ie: pearson correlation of greater than 0.6\n"
     ]
    }
   ],
   "source": [
    "result_distances_df = pd.DataFrame({\"Graph distance\": shortest_path_dist_list, \"Geographic distance\": distance_list})\n",
    "\n",
    "print(result_distances_df.corr('pearson'))\n",
    "\n",
    "print(\"There seems to be a moderate to strong correlation between two distances, ie: pearson correlation of greater than 0.6\")"
   ]
  },
  {
   "cell_type": "code",
   "execution_count": null,
   "metadata": {},
   "outputs": [],
   "source": []
  }
 ],
 "metadata": {
  "kernelspec": {
   "display_name": "Python 3",
   "language": "python",
   "name": "python3"
  },
  "language_info": {
   "codemirror_mode": {
    "name": "ipython",
    "version": 3
   },
   "file_extension": ".py",
   "mimetype": "text/x-python",
   "name": "python",
   "nbconvert_exporter": "python",
   "pygments_lexer": "ipython3",
   "version": "3.8.8"
  }
 },
 "nbformat": 4,
 "nbformat_minor": 4
}
