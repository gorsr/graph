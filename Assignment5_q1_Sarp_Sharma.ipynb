{
 "cells": [
  {
   "cell_type": "markdown",
   "metadata": {
    "id": "NP_Y9Mz0L9qA"
   },
   "source": [
    "DS 8014 Graph Mining\n",
    "Assignment 5\n",
    "\n",
    "Gorkem Sarp;\n",
    "Richa Sharma\n",
    "\n",
    "Que 1:\n",
    "\n",
    "Some of the code was taken from our labs"
   ]
  },
  {
   "cell_type": "code",
   "execution_count": 9,
   "metadata": {
    "colab": {
     "base_uri": "https://localhost:8080/"
    },
    "id": "KqybwFBjUa1h",
    "outputId": "cc3424af-69fb-4027-abfd-910405f2f332"
   },
   "outputs": [],
   "source": [
    "#! pip install python-igraph\n",
    "#! pip install plfit\n",
    "#! pip install partition-igraph\n",
    "#!pip3 install -U pip\n",
    "#!pip3 install -U setuptools\n",
    "#!pip3 install --no-cache-dir cairocffi\n",
    "#!pip install umap-learn"
   ]
  },
  {
   "cell_type": "code",
   "execution_count": 10,
   "metadata": {
    "colab": {
     "base_uri": "https://localhost:8080/",
     "height": 519
    },
    "id": "qTr1yKXGWFf3",
    "outputId": "820b234f-7481-4897-97b5-5bd5b7014028"
   },
   "outputs": [],
   "source": [
    "import igraph as ig\n",
    "import numpy as np\n",
    "import pandas as pd\n",
    "import matplotlib.pyplot as plt\n",
    "%matplotlib inline\n",
    "from sklearn.linear_model import LinearRegression\n",
    "from collections import Counter\n",
    "import os\n",
    "import umap\n",
    "import pickle\n",
    "import partition_igraph\n",
    "import subprocess\n",
    "from sklearn.metrics import adjusted_mutual_info_score as AMI\n",
    "\n",
    "## we used those for the book, but you can change to other colors\n",
    "cls_edges = 'gainsboro'\n",
    "cls = ['silver','dimgray','black']"
   ]
  },
  {
   "cell_type": "code",
   "execution_count": 11,
   "metadata": {
    "id": "gfj8vMM1WJoQ"
   },
   "outputs": [],
   "source": [
    "z = ig.Graph.Famous('zachary')\n",
    "z.vs['size'] = 12\n",
    "#print(\"Number of edges:\",z.ecount())\n",
    "#print(\"vertices:\",z.vcount())\n",
    "z.vs['name'] = [str(i) for i in range(z.vcount())]\n",
    "#print(z.vs['name'])\n",
    "z.vs['label'] = [str(i) for i in range(z.vcount())]\n",
    "\n",
    "z.vs['label_size'] = 8\n",
    "#print(z.vs['label_size'])\n",
    "z.es['color'] = cls_edges\n",
    "#print(z.es['color'])\n",
    "z.vs['comm'] = [0,0,0,0,0,0,0,0,1,1,0,0,0,0,1,1,0,0,1,0,1,0,1,1,1,1,1,1,1,1,1,1,1,1]\n",
    "#print(len(z.vs['comm']))"
   ]
  },
  {
   "cell_type": "code",
   "execution_count": 12,
   "metadata": {
    "colab": {
     "base_uri": "https://localhost:8080/",
     "height": 283
    },
    "id": "dL2vDeb5IqGv",
    "outputId": "d5fc2d5b-014d-47cc-b7e8-6484b4a0c98d"
   },
   "outputs": [
    {
     "data": {
      "image/png": "[encoded data removed]",
      "text/plain": [
       "<Figure size 432x288 with 1 Axes>"
      ]
     },
     "metadata": {
      "needs_background": "light"
     },
     "output_type": "display_data"
    }
   ],
   "source": [
    "## compute modularity at each possible cut and plot for Girvan newman\n",
    "gn = z.community_edge_betweenness()\n",
    "q = []\n",
    "a = []\n",
    "max_mod = 0 \n",
    "max_mod_cluster = 0\n",
    "gn = z.community_edge_betweenness()\n",
    "\n",
    "for i in np.arange(z.vcount()):\n",
    "    q.append(z.modularity(gn.as_clustering(n=i+1)))\n",
    "    #a.append(AMI(z.vs['comm'],gn.as_clustering(n=i+1).membership))\n",
    "\n",
    "plt.plot(np.arange(1,1+z.vcount()),q,'.-',color='black',label='modularity')\n",
    "#plt.plot(np.arange(1,1+z.vcount()),a,'.-',color='grey',label='AMI')    \n",
    "\n",
    "plt.xlabel('number of clusters',fontsize=14)\n",
    "plt.ylabel('modularity',fontsize=14);\n",
    "#plt.savefig('zachary_modularity.eps');"
   ]
  },
  {
   "cell_type": "code",
   "execution_count": 13,
   "metadata": {},
   "outputs": [
    {
     "data": {
      "text/plain": [
       "0.40129848783694944"
      ]
     },
     "execution_count": 13,
     "metadata": {},
     "output_type": "execute_result"
    }
   ],
   "source": [
    "D_modularity = pd.DataFrame(np.array([q]).transpose(),columns=['q'])\n",
    "D_modularity['q'].max()"
   ]
  },
  {
   "cell_type": "code",
   "execution_count": 14,
   "metadata": {},
   "outputs": [
    {
     "data": {
      "text/html": [
       "<div>\n",
       "<style scoped>\n",
       "    .dataframe tbody tr th:only-of-type {\n",
       "        vertical-align: middle;\n",
       "    }\n",
       "\n",
       "    .dataframe tbody tr th {\n",
       "        vertical-align: top;\n",
       "    }\n",
       "\n",
       "    .dataframe thead th {\n",
       "        text-align: right;\n",
       "    }\n",
       "</style>\n",
       "<table border=\"1\" class=\"dataframe\">\n",
       "  <thead>\n",
       "    <tr style=\"text-align: right;\">\n",
       "      <th></th>\n",
       "      <th>q</th>\n",
       "    </tr>\n",
       "  </thead>\n",
       "  <tbody>\n",
       "    <tr>\n",
       "      <th>0</th>\n",
       "      <td>0.000000</td>\n",
       "    </tr>\n",
       "    <tr>\n",
       "      <th>1</th>\n",
       "      <td>0.359961</td>\n",
       "    </tr>\n",
       "    <tr>\n",
       "      <th>2</th>\n",
       "      <td>0.348784</td>\n",
       "    </tr>\n",
       "    <tr>\n",
       "      <th>3</th>\n",
       "      <td>0.363248</td>\n",
       "    </tr>\n",
       "    <tr>\n",
       "      <th>4</th>\n",
       "      <td>0.401298</td>\n",
       "    </tr>\n",
       "  </tbody>\n",
       "</table>\n",
       "</div>"
      ],
      "text/plain": [
       "          q\n",
       "0  0.000000\n",
       "1  0.359961\n",
       "2  0.348784\n",
       "3  0.363248\n",
       "4  0.401298"
      ]
     },
     "execution_count": 14,
     "metadata": {},
     "output_type": "execute_result"
    }
   ],
   "source": [
    "D_modularity.head()"
   ]
  },
  {
   "cell_type": "code",
   "execution_count": 15,
   "metadata": {},
   "outputs": [
    {
     "name": "stdout",
     "output_type": "stream",
     "text": [
      "maximum modularity is 0.40129848783694944, corresponding to 5 clusters\n"
     ]
    }
   ],
   "source": [
    "print(\"maximum modularity is 0.40129848783694944, corresponding to 5 clusters\")"
   ]
  },
  {
   "cell_type": "code",
   "execution_count": 16,
   "metadata": {
    "colab": {
     "base_uri": "https://localhost:8080/"
    },
    "id": "0n0j8CXcZXHv",
    "outputId": "62fbad6e-7fe0-401e-aad9-d5ec13718af4"
   },
   "outputs": [
    {
     "name": "stdout",
     "output_type": "stream",
     "text": [
      "AMI of ECG Algorithm: 0.5653497612707895\n",
      "AMI of Louvain Algorithm: 0.5653497612707895\n",
      "AMI of Infomap Algorithm: 0.6874223479049212\n",
      "AMI of Label Propagation Algorithm: 0.6823390581187847\n",
      "AMI of Girvan Newman Algorithm: 0.5499173029289166\n",
      "AMI of CNM Algorithm: 0.6807645098886008\n"
     ]
    }
   ],
   "source": [
    "ECG = AMI(z.community_ecg().membership, z.vs['comm'])\n",
    "print(\"AMI of ECG Algorithm:\", ECG)\n",
    "louvain =  AMI(z.community_multilevel().membership, z.vs['comm'])\n",
    "print(\"AMI of Louvain Algorithm:\", louvain)\n",
    "info_map = AMI(z.community_infomap().membership, z.vs['comm'])\n",
    "print(\"AMI of Infomap Algorithm:\", info_map)\n",
    "label_prop =  AMI(z.community_label_propagation().membership, z.vs['comm'])\n",
    "print(\"AMI of Label Propagation Algorithm:\", label_prop)\n",
    "\n",
    "## As calculated in the above cells Girvan Newman gives higher moduarity at 5 clusters. Therefore we used 5 clusters,\n",
    "## eventhough AMI is higher with 2 clusters\n",
    "GN =  AMI(z.community_edge_betweenness().as_clustering(n=5).membership, z.vs['comm'])\n",
    "print(\"AMI of Girvan Newman Algorithm:\", GN)\n",
    "\n",
    "\n",
    "CNM = AMI(z.community_fastgreedy().as_clustering().membership, z.vs['comm'])\n",
    "print(\"AMI of CNM Algorithm:\", CNM)"
   ]
  }
 ],
 "metadata": {
  "colab": {
   "collapsed_sections": [],
   "name": "hw5_graph.ipynb",
   "provenance": []
  },
  "kernelspec": {
   "display_name": "Python 3",
   "language": "python",
   "name": "python3"
  },
  "language_info": {
   "codemirror_mode": {
    "name": "ipython",
    "version": 3
   },
   "file_extension": ".py",
   "mimetype": "text/x-python",
   "name": "python",
   "nbconvert_exporter": "python",
   "pygments_lexer": "ipython3",
   "version": "3.8.8"
  }
 },
 "nbformat": 4,
 "nbformat_minor": 1
}
