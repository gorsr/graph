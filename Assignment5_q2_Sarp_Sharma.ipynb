{
 "cells": [
  {
   "cell_type": "markdown",
   "metadata": {
    "id": "6DqsrRr2MZOg"
   },
   "source": [
    "DS 8014 Graph Mining\n",
    "Assignment 5\n",
    "\n",
    "Gorkem Sarp;\n",
    "Richa Sharma\n",
    "\n",
    "Que 2:\n",
    "\n",
    "Some of the code was taken from our labs"
   ]
  },
  {
   "cell_type": "code",
   "execution_count": 1,
   "metadata": {
    "id": "KqybwFBjUa1h"
   },
   "outputs": [],
   "source": [
    "#! pip install python-igraph\n",
    "#! pip install plfit\n",
    "#! pip install partition-igraph\n",
    "#! pip3 install -U pip\n",
    "#! pip3 install -U setuptools\n",
    "#! pip3 install --no-cache-dir cairocffi\n",
    "#! pip install umap-learn"
   ]
  },
  {
   "cell_type": "code",
   "execution_count": 1,
   "metadata": {
    "id": "qTr1yKXGWFf3"
   },
   "outputs": [],
   "source": [
    "import igraph as ig\n",
    "import numpy as np\n",
    "import pandas as pd\n",
    "import matplotlib.pyplot as plt\n",
    "%matplotlib inline\n",
    "from sklearn.linear_model import LinearRegression\n",
    "from collections import Counter\n",
    "import os\n",
    "import umap\n",
    "import pickle\n",
    "import partition_igraph\n",
    "import subprocess\n",
    "from sklearn.metrics import adjusted_mutual_info_score as AMI\n",
    "\n",
    "## we used those for the book, but you can change to other colors\n",
    "cls_edges = 'gainsboro'\n",
    "cls = ['silver','dimgray','black']"
   ]
  },
  {
   "cell_type": "code",
   "execution_count": 2,
   "metadata": {
    "id": "7Vp-2l1qMcQR"
   },
   "outputs": [],
   "source": [
    "## read the GitHub edge list as tuples and build undirected graph\n",
    "D = pd.read_csv('musae_git_edges.csv')\n",
    "tuples = [tuple(x) for x in D.values]\n",
    "z = ig.Graph.TupleList(tuples, directed = False)\n",
    "\n",
    "## read node features\n",
    "X = pd.read_csv('musae_git_target.csv')\n",
    "\n",
    "## map node names in edgelist to indices in the graph\n",
    "idx = [int(i) for i in z.vs['name']]\n",
    "sorterIndex = dict(zip(idx,range(len(idx))))\n",
    "X['Rank'] = X['id'].map(sorterIndex) \n",
    "X.sort_values(['Rank'], ascending=[True],inplace=True)\n",
    "X.dropna(inplace=True)\n",
    "\n",
    "cls = ['grey','black'] ## node colors\n",
    "lbl = ['web','ml']     ## node labels\n",
    "z.es['color'] = 'grey' ## edge color\n",
    "\n",
    "## there are 2 node types: ml or web\n",
    "z.vs['color'] = [cls[i] for i in list(X['ml_target'])]\n",
    "z.vs['lbl'] = [lbl[i] for i in list(X['ml_target'])]\n",
    "\n",
    "## community labels 0 (web) or 1 (ml)\n",
    "z.vs['comm'] = [i for i in list(X['ml_target'])]\n",
    "#print(z.vs['comm'])"
   ]
  },
  {
   "cell_type": "markdown",
   "metadata": {},
   "source": [
    "## ECG"
   ]
  },
  {
   "cell_type": "code",
   "execution_count": 7,
   "metadata": {
    "colab": {
     "base_uri": "https://localhost:8080/"
    },
    "id": "-9SVll1Sx32m",
    "outputId": "84a9b17d-53bc-42c9-af05-0bda39080624"
   },
   "outputs": [
    {
     "name": "stdout",
     "output_type": "stream",
     "text": [
      "AMI between ECG Algorithm and Louvain: 0.5253200932781608\n",
      "AMI between ECG Algorithm and infomap: 0.43490038269117737\n",
      "AMI between ECG Algorithm and label propagation: 0.16601180663226106\n"
     ]
    }
   ],
   "source": [
    "ans = AMI((z.community_ecg().membership), (z.community_multilevel().membership))\n",
    "ans2 = AMI((z.community_ecg().membership), (z.community_infomap().membership))\n",
    "ans3 = AMI((z.community_ecg().membership),(z.community_label_propagation().membership))\n",
    "print(\"AMI between ECG Algorithm and Louvain:\", ans)\n",
    "print(\"AMI between ECG Algorithm and infomap:\", ans2)\n",
    "print(\"AMI between ECG Algorithm and label propagation:\", ans3)"
   ]
  },
  {
   "cell_type": "code",
   "execution_count": 9,
   "metadata": {},
   "outputs": [
    {
     "name": "stdout",
     "output_type": "stream",
     "text": [
      "ECG Algorithm seem most similar to Louvain among the tested algorithms\n"
     ]
    }
   ],
   "source": [
    "print(\"ECG Algorithm seem most similar to Louvain among the tested algorithms\")"
   ]
  },
  {
   "cell_type": "markdown",
   "metadata": {},
   "source": [
    "## Louvain"
   ]
  },
  {
   "cell_type": "code",
   "execution_count": 10,
   "metadata": {
    "colab": {
     "base_uri": "https://localhost:8080/"
    },
    "id": "IZPRLYtmFRZj",
    "outputId": "585c9b8e-f90f-430c-d377-82b50dfdb3e6"
   },
   "outputs": [
    {
     "name": "stdout",
     "output_type": "stream",
     "text": [
      "AMI between Louvain and infomap : 0.32719972860524676\n",
      "AMI between Louvain and label propagation:  0.005052793563481771\n"
     ]
    }
   ],
   "source": [
    "ans=AMI((z.community_multilevel().membership),(z.community_infomap().membership))\n",
    "ans2=AMI((z.community_multilevel().membership),(z.community_label_propagation().membership))\n",
    "print(\"AMI between Louvain and infomap :\", ans)\n",
    "print(\"AMI between Louvain and label propagation: \", ans2)"
   ]
  },
  {
   "cell_type": "code",
   "execution_count": 11,
   "metadata": {},
   "outputs": [
    {
     "name": "stdout",
     "output_type": "stream",
     "text": [
      "From the above comparisons, and the previous one, Louvain is also most similar to ECG\n"
     ]
    }
   ],
   "source": [
    "print(\"From the above comparisons, and the previous one, Louvain is also most similar to ECG\")"
   ]
  },
  {
   "cell_type": "markdown",
   "metadata": {},
   "source": [
    "## Infomap"
   ]
  },
  {
   "cell_type": "code",
   "execution_count": 4,
   "metadata": {
    "colab": {
     "base_uri": "https://localhost:8080/"
    },
    "id": "1tIC7skW3rVu",
    "outputId": "68ac298f-6432-4742-bf03-d7393fb7d8af"
   },
   "outputs": [
    {
     "name": "stdout",
     "output_type": "stream",
     "text": [
      "AMI between infomap Algorithm and label propagation: 0.08494701976070698\n"
     ]
    }
   ],
   "source": [
    "ans= AMI((z.community_infomap().membership),(z.community_label_propagation().membership))\n",
    "print(\"AMI between infomap Algorithm and label propagation:\", ans)"
   ]
  },
  {
   "cell_type": "code",
   "execution_count": 12,
   "metadata": {},
   "outputs": [
    {
     "name": "stdout",
     "output_type": "stream",
     "text": [
      "From the above comparisons, and the previous ones, infomap is also closest with ECG\n"
     ]
    }
   ],
   "source": [
    "print(\"From the above comparisons, and the previous ones, infomap is also closest with ECG\")"
   ]
  },
  {
   "cell_type": "markdown",
   "metadata": {},
   "source": [
    "## Label propagation"
   ]
  },
  {
   "cell_type": "code",
   "execution_count": 16,
   "metadata": {},
   "outputs": [
    {
     "name": "stdout",
     "output_type": "stream",
     "text": [
      "From the previous comparisons, label propogation is also closest with ECG\n"
     ]
    }
   ],
   "source": [
    "print(\"From the previous comparisons, label propogation is also closest with ECG\")"
   ]
  },
  {
   "cell_type": "markdown",
   "metadata": {},
   "source": [
    "## Girvan Newman "
   ]
  },
  {
   "cell_type": "code",
   "execution_count": null,
   "metadata": {
    "id": "I_4ijRslzgLE"
   },
   "outputs": [],
   "source": [
    "## compute modularity at each possible cut and plot for Girvan newman\n",
    "gn = z.community_edge_betweenness()\n",
    "q = []\n",
    "\n",
    "#limited number of n-1 cluster search (with n being number of nodes) to 10 nodes, given this \n",
    "#function takes too long to run\n",
    "for i in np.arange(10): \n",
    "    q.append(z.modularity(gn.as_clustering(n=i+1)))\n",
    "plt.plot(np.arange(1,1+z.vcount()),q,'o-',color='black')\n",
    "plt.xlabel('number of clusters',fontsize=14)\n",
    "plt.ylabel('modularity',fontsize=14);"
   ]
  },
  {
   "cell_type": "code",
   "execution_count": null,
   "metadata": {
    "colab": {
     "base_uri": "https://localhost:8080/"
    },
    "id": "C3vUxS0hMyT0",
    "outputId": "eb8a57de-d48e-4e8b-9c6b-9f4520b752a7"
   },
   "outputs": [],
   "source": [
    "## Assuming n=2 clusters, similar to ground truth\n",
    "GN1 =  AMI((z.community_edge_betweenness().as_clustering(n=2).membership), (z.community_ecg().membership)\n",
    "GN2 =  AMI((z.community_edge_betweenness().as_clustering(n=2).membership), (z.community_multilevel().membership)        \n",
    "GN3 =  AMI((z.community_edge_betweenness().as_clustering(n=2).membership), (z.community_infomap().membership)\n",
    "GN4 =  AMI((z.community_edge_betweenness().as_clustering(n=2).membership), (z.community_label_propagation().membership)         \n",
    "GN5 =  AMI((z.community_edge_betweenness().as_clustering(n=2).membership), (z.community_fastgreedy().as_clustering().membership)         \n",
    "          \n",
    "print(\"AMI of Girvan Newman Algorithm and ECG:\", GN1))\n",
    "print(\"AMI of Girvan Newman Algorithm and Louvain\", GN2)\n",
    "print(\"AMI of Girvan Newman Algorithm and Infomap\", GN3)\n",
    "print(\"AMI of Girvan Newman Algorithm and Label propagation\", GN4)\n",
    "print(\"AMI of Girvan Newman Algorithm and CNM\", GN5)"
   ]
  },
  {
   "cell_type": "markdown",
   "metadata": {},
   "source": [
    "##  CNM"
   ]
  },
  {
   "cell_type": "code",
   "execution_count": null,
   "metadata": {},
   "outputs": [],
   "source": [
    "CNM1 =  AMI((z.community_fastgreedy().as_clustering().membership), (z.community_ecg().membership)\n",
    "CNM2 =  AMI((z.community_fastgreedy().as_clustering().membership), (z.community_multilevel().membership)        \n",
    "CNM3 =  AMI((z.community_fastgreedy().as_clustering().membership), (z.community_infomap().membership)\n",
    "CNM4 =  AMI((z.community_fastgreedy().as_clustering().membership), (z.community_label_propagation().membership)         \n",
    "CNM5 =  AMI((z.community_fastgreedy().as_clustering().membership), (z.community_edge_betweenness().as_clustering(n=2).membership))\n",
    "            \n",
    "print(\"AMI of CNM and ECG:\", CNM1))\n",
    "print(\"AMI of CNM and Louvain\", CNM2)\n",
    "print(\"AMI of CNM and Infomap\", CNM3)\n",
    "print(\"AMI of CNM and Label propagation\", CNM4)\n",
    "print(\"AMI of CNM and Girvan Newman Algorithm\", CNM5)           \n",
    "    "
   ]
  },
  {
   "cell_type": "code",
   "execution_count": 15,
   "metadata": {
    "id": "_NFy8KL_NJ-s",
    "outputId": "924cc9d9-2703-46ab-a8e4-a63eefd67af0"
   },
   "outputs": [
    {
     "name": "stdout",
     "output_type": "stream",
     "text": [
      "We couldn't compute the AMI of Girvan Newman and CNM since the functions kept running\n"
     ]
    }
   ],
   "source": [
    "print(\"We couldn't compute the AMI of Girvan Newman and CNM since the functions kept running\")"
   ]
  },
  {
   "cell_type": "code",
   "execution_count": null,
   "metadata": {
    "id": "3Wltn2OyNJ-t"
   },
   "outputs": [],
   "source": []
  }
 ],
 "metadata": {
  "colab": {
   "collapsed_sections": [],
   "name": "hw5q2v3.ipynb",
   "provenance": []
  },
  "kernelspec": {
   "display_name": "Python 3",
   "language": "python",
   "name": "python3"
  },
  "language_info": {
   "codemirror_mode": {
    "name": "ipython",
    "version": 3
   },
   "file_extension": ".py",
   "mimetype": "text/x-python",
   "name": "python",
   "nbconvert_exporter": "python",
   "pygments_lexer": "ipython3",
   "version": "3.8.8"
  }
 },
 "nbformat": 4,
 "nbformat_minor": 1
}
