{
  "nbformat": 4,
  "nbformat_minor": 0,
  "metadata": {
    "colab": {
      "name": "Assignment#3.ipynb",
      "provenance": [],
      "collapsed_sections": []
    },
    "kernelspec": {
      "name": "python3",
      "display_name": "Python 3"
    },
    "language_info": {
      "name": "python"
    }
  },
  "cells": [
    {
      "cell_type": "code",
      "metadata": {
        "colab": {
          "base_uri": "https://localhost:8080/"
        },
        "id": "5VOhH8dPmHLx",
        "outputId": "9edc644c-33a5-4956-ef1d-cbec837ec089"
      },
      "source": [
        "pip install python-igraph\n"
      ],
      "execution_count": 3,
      "outputs": [
        {
          "output_type": "stream",
          "name": "stdout",
          "text": [
            "Collecting python-igraph\n",
            "  Downloading python_igraph-0.9.7-cp37-cp37m-manylinux_2_12_x86_64.manylinux2010_x86_64.whl (3.2 MB)\n",
            "\u001b[K     |████████████████████████████████| 3.2 MB 26.2 MB/s \n",
            "\u001b[?25hCollecting texttable>=1.6.2\n",
            "  Downloading texttable-1.6.4-py2.py3-none-any.whl (10 kB)\n",
            "Installing collected packages: texttable, python-igraph\n",
            "Successfully installed python-igraph-0.9.7 texttable-1.6.4\n"
          ]
        }
      ]
    },
    {
      "cell_type": "code",
      "metadata": {
        "colab": {
          "base_uri": "https://localhost:8080/"
        },
        "id": "5A_9SgURmH0v",
        "outputId": "b62d0ed2-71b2-4e3b-fed5-245473225e95"
      },
      "source": [
        "pip install plfit"
      ],
      "execution_count": 4,
      "outputs": [
        {
          "output_type": "stream",
          "name": "stdout",
          "text": [
            "Collecting plfit\n",
            "  Downloading plfit-1.0.3.tar.gz (193 kB)\n",
            "\u001b[?25l\r\u001b[K     |█▊                              | 10 kB 14.6 MB/s eta 0:00:01\r\u001b[K     |███▍                            | 20 kB 19.8 MB/s eta 0:00:01\r\u001b[K     |█████                           | 30 kB 24.4 MB/s eta 0:00:01\r\u001b[K     |██████▊                         | 40 kB 27.0 MB/s eta 0:00:01\r\u001b[K     |████████▌                       | 51 kB 29.8 MB/s eta 0:00:01\r\u001b[K     |██████████▏                     | 61 kB 32.5 MB/s eta 0:00:01\r\u001b[K     |███████████▉                    | 71 kB 33.7 MB/s eta 0:00:01\r\u001b[K     |█████████████▌                  | 81 kB 34.8 MB/s eta 0:00:01\r\u001b[K     |███████████████▏                | 92 kB 36.7 MB/s eta 0:00:01\r\u001b[K     |█████████████████               | 102 kB 38.0 MB/s eta 0:00:01\r\u001b[K     |██████████████████▋             | 112 kB 38.0 MB/s eta 0:00:01\r\u001b[K     |████████████████████▎           | 122 kB 38.0 MB/s eta 0:00:01\r\u001b[K     |██████████████████████          | 133 kB 38.0 MB/s eta 0:00:01\r\u001b[K     |███████████████████████▋        | 143 kB 38.0 MB/s eta 0:00:01\r\u001b[K     |█████████████████████████▍      | 153 kB 38.0 MB/s eta 0:00:01\r\u001b[K     |███████████████████████████     | 163 kB 38.0 MB/s eta 0:00:01\r\u001b[K     |████████████████████████████▊   | 174 kB 38.0 MB/s eta 0:00:01\r\u001b[K     |██████████████████████████████▍ | 184 kB 38.0 MB/s eta 0:00:01\r\u001b[K     |████████████████████████████████| 193 kB 38.0 MB/s \n",
            "\u001b[?25hRequirement already satisfied: numpy in /usr/local/lib/python3.7/dist-packages (from plfit) (1.19.5)\n",
            "Requirement already satisfied: cython in /usr/local/lib/python3.7/dist-packages (from plfit) (0.29.24)\n",
            "Building wheels for collected packages: plfit\n",
            "  Building wheel for plfit (setup.py) ... \u001b[?25l\u001b[?25hdone\n",
            "  Created wheel for plfit: filename=plfit-1.0.3-cp37-cp37m-linux_x86_64.whl size=123181 sha256=22eeea9a0ec678a91c874a0c7a0add474bc7d8f7a5818cb9be5cda22528cd1b3\n",
            "  Stored in directory: /root/.cache/pip/wheels/44/c5/30/2761386f6aea1d7ca4ffb706f90535faa81365be034b32055a\n",
            "Successfully built plfit\n",
            "Installing collected packages: plfit\n",
            "Successfully installed plfit-1.0.3\n"
          ]
        }
      ]
    },
    {
      "cell_type": "code",
      "metadata": {
        "id": "gMSzbzhgnDZz"
      },
      "source": [
        "import igraph as ig\n",
        "import numpy as np\n",
        "import pandas as pd\n",
        "import matplotlib.pyplot as plt\n",
        "\n",
        "import plfit\n",
        "\n",
        "from statistics import mode"
      ],
      "execution_count": 5,
      "outputs": []
    },
    {
      "cell_type": "markdown",
      "metadata": {
        "id": "Dbk2LAKhvbVa"
      },
      "source": [
        "## Question 1:"
      ]
    },
    {
      "cell_type": "code",
      "metadata": {
        "id": "S9gLMdv4vbD7"
      },
      "source": [
        "##Below code was taken from our lab"
      ],
      "execution_count": null,
      "outputs": []
    },
    {
      "cell_type": "code",
      "metadata": {
        "colab": {
          "base_uri": "https://localhost:8080/",
          "height": 206
        },
        "id": "qqrNXsHdvi6w",
        "outputId": "fe8bb734-ec85-4be0-9b83-3e94e4b358cb"
      },
      "source": [
        "## read edges and build weighted directed graph\n",
        "D = pd.read_csv(\"connections.csv\")\n",
        "g = ig.Graph.TupleList([tuple(x) for x in D.values], directed=True, edge_attrs=['weight'])\n",
        "D.head() "
      ],
      "execution_count": 312,
      "outputs": [
        {
          "output_type": "execute_result",
          "data": {
            "text/html": [
              "<div>\n",
              "<style scoped>\n",
              "    .dataframe tbody tr th:only-of-type {\n",
              "        vertical-align: middle;\n",
              "    }\n",
              "\n",
              "    .dataframe tbody tr th {\n",
              "        vertical-align: top;\n",
              "    }\n",
              "\n",
              "    .dataframe thead th {\n",
              "        text-align: right;\n",
              "    }\n",
              "</style>\n",
              "<table border=\"1\" class=\"dataframe\">\n",
              "  <thead>\n",
              "    <tr style=\"text-align: right;\">\n",
              "      <th></th>\n",
              "      <th>orig_airport</th>\n",
              "      <th>dest_airport</th>\n",
              "      <th>total_passengers</th>\n",
              "    </tr>\n",
              "  </thead>\n",
              "  <tbody>\n",
              "    <tr>\n",
              "      <th>0</th>\n",
              "      <td>SFO</td>\n",
              "      <td>LAX</td>\n",
              "      <td>1442105</td>\n",
              "    </tr>\n",
              "    <tr>\n",
              "      <th>1</th>\n",
              "      <td>LAX</td>\n",
              "      <td>SFO</td>\n",
              "      <td>1438639</td>\n",
              "    </tr>\n",
              "    <tr>\n",
              "      <th>2</th>\n",
              "      <td>MCO</td>\n",
              "      <td>ATL</td>\n",
              "      <td>1436625</td>\n",
              "    </tr>\n",
              "    <tr>\n",
              "      <th>3</th>\n",
              "      <td>ATL</td>\n",
              "      <td>MCO</td>\n",
              "      <td>1424069</td>\n",
              "    </tr>\n",
              "    <tr>\n",
              "      <th>4</th>\n",
              "      <td>LAX</td>\n",
              "      <td>JFK</td>\n",
              "      <td>1277731</td>\n",
              "    </tr>\n",
              "  </tbody>\n",
              "</table>\n",
              "</div>"
            ],
            "text/plain": [
              "  orig_airport dest_airport  total_passengers\n",
              "0          SFO          LAX           1442105\n",
              "1          LAX          SFO           1438639\n",
              "2          MCO          ATL           1436625\n",
              "3          ATL          MCO           1424069\n",
              "4          LAX          JFK           1277731"
            ]
          },
          "metadata": {},
          "execution_count": 312
        }
      ]
    },
    {
      "cell_type": "code",
      "metadata": {
        "colab": {
          "base_uri": "https://localhost:8080/",
          "height": 206
        },
        "id": "0gWO_srhvopf",
        "outputId": "1929cb91-97d5-46d2-fb16-c218491c3d3e"
      },
      "source": [
        "## read vertex attributes and add to graph\n",
        "A = pd.read_csv('airports_loc.csv')\n",
        "lookup = {k:v for v,k in enumerate(A['airport'])}\n",
        "l = [lookup[x] for x in g.vs()['name']]\n",
        "g.vs()['layout'] = [(A['lon'][i],A['lat'][i]) for i in l]\n",
        "g.vs()['state'] = [A['state'][i] for i in l]\n",
        "g.vs()['city'] = [A['city'][i] for i in l]\n",
        "A.head() ## first few rows in A"
      ],
      "execution_count": 313,
      "outputs": [
        {
          "output_type": "execute_result",
          "data": {
            "text/html": [
              "<div>\n",
              "<style scoped>\n",
              "    .dataframe tbody tr th:only-of-type {\n",
              "        vertical-align: middle;\n",
              "    }\n",
              "\n",
              "    .dataframe tbody tr th {\n",
              "        vertical-align: top;\n",
              "    }\n",
              "\n",
              "    .dataframe thead th {\n",
              "        text-align: right;\n",
              "    }\n",
              "</style>\n",
              "<table border=\"1\" class=\"dataframe\">\n",
              "  <thead>\n",
              "    <tr style=\"text-align: right;\">\n",
              "      <th></th>\n",
              "      <th>airport</th>\n",
              "      <th>lon</th>\n",
              "      <th>lat</th>\n",
              "      <th>state</th>\n",
              "      <th>city</th>\n",
              "    </tr>\n",
              "  </thead>\n",
              "  <tbody>\n",
              "    <tr>\n",
              "      <th>0</th>\n",
              "      <td>ABE</td>\n",
              "      <td>-75.440804</td>\n",
              "      <td>40.652100</td>\n",
              "      <td>PA</td>\n",
              "      <td>Allentown</td>\n",
              "    </tr>\n",
              "    <tr>\n",
              "      <th>1</th>\n",
              "      <td>ABI</td>\n",
              "      <td>-99.681900</td>\n",
              "      <td>32.411301</td>\n",
              "      <td>TX</td>\n",
              "      <td>Abilene</td>\n",
              "    </tr>\n",
              "    <tr>\n",
              "      <th>2</th>\n",
              "      <td>ABQ</td>\n",
              "      <td>-106.609001</td>\n",
              "      <td>35.040199</td>\n",
              "      <td>NM</td>\n",
              "      <td>Albuquerque</td>\n",
              "    </tr>\n",
              "    <tr>\n",
              "      <th>3</th>\n",
              "      <td>ABR</td>\n",
              "      <td>-98.421799</td>\n",
              "      <td>45.449100</td>\n",
              "      <td>SD</td>\n",
              "      <td>Aberdeen</td>\n",
              "    </tr>\n",
              "    <tr>\n",
              "      <th>4</th>\n",
              "      <td>ABY</td>\n",
              "      <td>-84.194504</td>\n",
              "      <td>31.535500</td>\n",
              "      <td>GA</td>\n",
              "      <td>Albany</td>\n",
              "    </tr>\n",
              "  </tbody>\n",
              "</table>\n",
              "</div>"
            ],
            "text/plain": [
              "  airport         lon        lat state         city\n",
              "0     ABE  -75.440804  40.652100    PA    Allentown\n",
              "1     ABI  -99.681900  32.411301    TX      Abilene\n",
              "2     ABQ -106.609001  35.040199    NM  Albuquerque\n",
              "3     ABR  -98.421799  45.449100    SD     Aberdeen\n",
              "4     ABY  -84.194504  31.535500    GA       Albany"
            ]
          },
          "metadata": {},
          "execution_count": 313
        }
      ]
    },
    {
      "cell_type": "code",
      "metadata": {
        "colab": {
          "base_uri": "https://localhost:8080/"
        },
        "id": "pYEo88EjvsEd",
        "outputId": "fbc82df4-561e-4618-9285-d0b96409a9c8"
      },
      "source": [
        "## Build smaller subgraph 'G' for New York\n",
        "G = g.subgraph([v for v in g.vs() if v['state'] == 'NY'])\n",
        "\n",
        "## drop isolated vertices (i.e. without in-state connections)\n",
        "G = G.subgraph([v for v in G.vs() if v.degree()>0])\n",
        "\n",
        "## remove loops if any\n",
        "G = G.simplify(multiple=False)\n",
        "print(G.vcount(),'nodes and',G.ecount(),'directed edges')\n"
      ],
      "execution_count": 314,
      "outputs": [
        {
          "output_type": "stream",
          "name": "stdout",
          "text": [
            "13 nodes and 50 directed edges\n"
          ]
        }
      ]
    },
    {
      "cell_type": "code",
      "metadata": {
        "id": "_sP3wOWkvvfm"
      },
      "source": [
        "## compute normalized weights \n",
        "mw = np.max(G.es['weight'])\n",
        "G.es()['normalized_weight'] = [w/mw for w in G.es()['weight']]\n",
        "\n",
        "## directed degree centrality\n",
        "def degree_centrality(g, weights=None):\n",
        "    n = g.vcount()\n",
        "    if g.is_directed():\n",
        "        dc = [sum(x)/(2*(n-1)) for x in zip(g.strength(mode='in',weights=weights),\\\n",
        "              g.strength(mode='out',weights=weights))]\n",
        "    else:\n",
        "        dc = [x/(n-1) for x in g.strength(weights=weights)]\n",
        "    return dc"
      ],
      "execution_count": 315,
      "outputs": []
    },
    {
      "cell_type": "code",
      "metadata": {
        "colab": {
          "base_uri": "https://localhost:8080/",
          "height": 206
        },
        "id": "ul0GbcfVvy4z",
        "outputId": "9ba961c0-6211-45a3-8948-83429b759359"
      },
      "source": [
        "## compute several centrality measures for the CA subgraph G\n",
        "C = pd.DataFrame({'airport':G.vs()['name'],\\\n",
        "                  'degree':degree_centrality(G,weights='normalized_weight'),\\\n",
        "                  'pagerank':G.pagerank(weights='weight'),'authority':G.authority_score(weights='weight'),\\\n",
        "                  'hub':G.hub_score(weights='weight'),'between':G.betweenness(),\\\n",
        "                  'closeness':G.closeness()})\n",
        "\n",
        "## normalize betweenness\n",
        "n = G.vcount()\n",
        "C['between'] = [2*x/((n-1)*(n-2)) for x in C['between']]\n",
        "\n",
        "## sort w.r.t. degree centrality, look at top airports\n",
        "Cs = C.sort_values(by='degree', ascending=False)\n",
        "Cs.head()\n"
      ],
      "execution_count": 316,
      "outputs": [
        {
          "output_type": "execute_result",
          "data": {
            "text/html": [
              "<div>\n",
              "<style scoped>\n",
              "    .dataframe tbody tr th:only-of-type {\n",
              "        vertical-align: middle;\n",
              "    }\n",
              "\n",
              "    .dataframe tbody tr th {\n",
              "        vertical-align: top;\n",
              "    }\n",
              "\n",
              "    .dataframe thead th {\n",
              "        text-align: right;\n",
              "    }\n",
              "</style>\n",
              "<table border=\"1\" class=\"dataframe\">\n",
              "  <thead>\n",
              "    <tr style=\"text-align: right;\">\n",
              "      <th></th>\n",
              "      <th>airport</th>\n",
              "      <th>degree</th>\n",
              "      <th>pagerank</th>\n",
              "      <th>authority</th>\n",
              "      <th>hub</th>\n",
              "      <th>between</th>\n",
              "      <th>closeness</th>\n",
              "    </tr>\n",
              "  </thead>\n",
              "  <tbody>\n",
              "    <tr>\n",
              "      <th>0</th>\n",
              "      <td>JFK</td>\n",
              "      <td>0.173125</td>\n",
              "      <td>0.342720</td>\n",
              "      <td>1.000000</td>\n",
              "      <td>0.373760</td>\n",
              "      <td>0.647727</td>\n",
              "      <td>0.705882</td>\n",
              "    </tr>\n",
              "    <tr>\n",
              "      <th>2</th>\n",
              "      <td>BUF</td>\n",
              "      <td>0.101629</td>\n",
              "      <td>0.195702</td>\n",
              "      <td>0.261299</td>\n",
              "      <td>1.000000</td>\n",
              "      <td>0.167929</td>\n",
              "      <td>0.705882</td>\n",
              "    </tr>\n",
              "    <tr>\n",
              "      <th>4</th>\n",
              "      <td>ROC</td>\n",
              "      <td>0.054908</td>\n",
              "      <td>0.109433</td>\n",
              "      <td>0.141841</td>\n",
              "      <td>0.546989</td>\n",
              "      <td>0.000000</td>\n",
              "      <td>0.631579</td>\n",
              "    </tr>\n",
              "    <tr>\n",
              "      <th>5</th>\n",
              "      <td>SYR</td>\n",
              "      <td>0.044959</td>\n",
              "      <td>0.097118</td>\n",
              "      <td>0.113975</td>\n",
              "      <td>0.459400</td>\n",
              "      <td>0.243687</td>\n",
              "      <td>0.750000</td>\n",
              "    </tr>\n",
              "    <tr>\n",
              "      <th>1</th>\n",
              "      <td>LGA</td>\n",
              "      <td>0.040011</td>\n",
              "      <td>0.108312</td>\n",
              "      <td>0.213367</td>\n",
              "      <td>0.078989</td>\n",
              "      <td>0.286616</td>\n",
              "      <td>0.750000</td>\n",
              "    </tr>\n",
              "  </tbody>\n",
              "</table>\n",
              "</div>"
            ],
            "text/plain": [
              "  airport    degree  pagerank  authority       hub   between  closeness\n",
              "0     JFK  0.173125  0.342720   1.000000  0.373760  0.647727   0.705882\n",
              "2     BUF  0.101629  0.195702   0.261299  1.000000  0.167929   0.705882\n",
              "4     ROC  0.054908  0.109433   0.141841  0.546989  0.000000   0.631579\n",
              "5     SYR  0.044959  0.097118   0.113975  0.459400  0.243687   0.750000\n",
              "1     LGA  0.040011  0.108312   0.213367  0.078989  0.286616   0.750000"
            ]
          },
          "metadata": {},
          "execution_count": 316
        }
      ]
    },
    {
      "cell_type": "code",
      "metadata": {
        "colab": {
          "base_uri": "https://localhost:8080/",
          "height": 206
        },
        "id": "30ySXkj9v4Yo",
        "outputId": "564ea8b7-c6d4-4e7b-f731-91555c114075"
      },
      "source": [
        "## bottom ones\n",
        "Cs.tail()\n"
      ],
      "execution_count": 317,
      "outputs": [
        {
          "output_type": "execute_result",
          "data": {
            "text/html": [
              "<div>\n",
              "<style scoped>\n",
              "    .dataframe tbody tr th:only-of-type {\n",
              "        vertical-align: middle;\n",
              "    }\n",
              "\n",
              "    .dataframe tbody tr th {\n",
              "        vertical-align: top;\n",
              "    }\n",
              "\n",
              "    .dataframe thead th {\n",
              "        text-align: right;\n",
              "    }\n",
              "</style>\n",
              "<table border=\"1\" class=\"dataframe\">\n",
              "  <thead>\n",
              "    <tr style=\"text-align: right;\">\n",
              "      <th></th>\n",
              "      <th>airport</th>\n",
              "      <th>degree</th>\n",
              "      <th>pagerank</th>\n",
              "      <th>authority</th>\n",
              "      <th>hub</th>\n",
              "      <th>between</th>\n",
              "      <th>closeness</th>\n",
              "    </tr>\n",
              "  </thead>\n",
              "  <tbody>\n",
              "    <tr>\n",
              "      <th>10</th>\n",
              "      <td>JRB</td>\n",
              "      <td>0.000132</td>\n",
              "      <td>0.011636</td>\n",
              "      <td>0.000171</td>\n",
              "      <td>0.002371</td>\n",
              "      <td>0.000000</td>\n",
              "      <td>0.428571</td>\n",
              "    </tr>\n",
              "    <tr>\n",
              "      <th>11</th>\n",
              "      <td>ART</td>\n",
              "      <td>0.000126</td>\n",
              "      <td>0.012122</td>\n",
              "      <td>0.000108</td>\n",
              "      <td>0.000028</td>\n",
              "      <td>0.000000</td>\n",
              "      <td>0.444444</td>\n",
              "    </tr>\n",
              "    <tr>\n",
              "      <th>12</th>\n",
              "      <td>OGS</td>\n",
              "      <td>0.000120</td>\n",
              "      <td>0.012027</td>\n",
              "      <td>0.000091</td>\n",
              "      <td>0.000032</td>\n",
              "      <td>0.000000</td>\n",
              "      <td>0.444444</td>\n",
              "    </tr>\n",
              "    <tr>\n",
              "      <th>6</th>\n",
              "      <td>ELM</td>\n",
              "      <td>0.000030</td>\n",
              "      <td>0.011592</td>\n",
              "      <td>0.000039</td>\n",
              "      <td>0.000020</td>\n",
              "      <td>0.045455</td>\n",
              "      <td>0.571429</td>\n",
              "    </tr>\n",
              "    <tr>\n",
              "      <th>7</th>\n",
              "      <td>BGM</td>\n",
              "      <td>0.000021</td>\n",
              "      <td>0.013010</td>\n",
              "      <td>0.000139</td>\n",
              "      <td>0.000037</td>\n",
              "      <td>0.005051</td>\n",
              "      <td>0.500000</td>\n",
              "    </tr>\n",
              "  </tbody>\n",
              "</table>\n",
              "</div>"
            ],
            "text/plain": [
              "   airport    degree  pagerank  authority       hub   between  closeness\n",
              "10     JRB  0.000132  0.011636   0.000171  0.002371  0.000000   0.428571\n",
              "11     ART  0.000126  0.012122   0.000108  0.000028  0.000000   0.444444\n",
              "12     OGS  0.000120  0.012027   0.000091  0.000032  0.000000   0.444444\n",
              "6      ELM  0.000030  0.011592   0.000039  0.000020  0.045455   0.571429\n",
              "7      BGM  0.000021  0.013010   0.000139  0.000037  0.005051   0.500000"
            ]
          },
          "metadata": {},
          "execution_count": 317
        }
      ]
    },
    {
      "cell_type": "markdown",
      "metadata": {
        "id": "UpDgjx5p4kAm"
      },
      "source": [
        "## **Question 2:**"
      ]
    },
    {
      "cell_type": "code",
      "metadata": {
        "id": "eJre0unEmQLn"
      },
      "source": [
        "## fast Chung-Lu: generate m edges w.r.t. distribution d\n",
        "def fastCL(d, m):\n",
        "    n = len(d)\n",
        "    s = np.sum(d)\n",
        "    p = [i/s for i in d]\n",
        "    target = m\n",
        "    tples = []\n",
        "    ## generate edges (tuples), drop collisions, until m edges are obtained.\n",
        "    while len(tples) < target:\n",
        "        s = target - len(tples)\n",
        "        e0 = np.random.choice(n, size=s, replace=True, p=p)\n",
        "        e1 = np.random.choice(n, size=s, replace=True, p=p)\n",
        "        tples.extend([(min(e0[i],e1[i]),max(e0[i],e1[i])) for i in range(len(e0)) if e0[i]!=e1[i]]) ## ignore loops\n",
        "        tples = list(set(tples)) ## drop collisions\n",
        "    return tples"
      ],
      "execution_count": 6,
      "outputs": []
    },
    {
      "cell_type": "code",
      "metadata": {
        "id": "souF9teem66G"
      },
      "source": [
        "## power law graph\n",
        "gamma = 2.5\n",
        "n = 10000\n",
        "\n",
        "## min and max degrees\n",
        "delta = 1\n",
        "Delta = np.sqrt(n)\n",
        "\n",
        "## generate degrees\n",
        "W = []\n",
        "for i in np.arange(1,n+1):\n",
        "    W.append(delta * (n/(i-1+n/(Delta/delta)**(gamma-1)))**(1/(gamma-1)))\n",
        "\n",
        "# deg = [int(np.round(w)) for w in W] ## to enforce integer weights, not an obligation\n",
        "deg = W\n",
        "\n",
        "## generate graph with Chung-Lu model\n",
        "m = int(np.mean(deg)*n/2)\n",
        "tpl = fastCL(deg,m)\n",
        "g1 = ig.Graph.TupleList(tpl)\n"
      ],
      "execution_count": 18,
      "outputs": []
    },
    {
      "cell_type": "code",
      "metadata": {
        "id": "DO4ph8aKUVzt"
      },
      "source": [
        "## compute normalized weights \n",
        "g1.es['weight']=1 ## assuming weights as 1 for each edge\n",
        "mw = np.max(g1.es['weight'])\n",
        "g1.es()['normalized_weight'] = [w/mw for w in g1.es()['weight']]\n"
      ],
      "execution_count": 44,
      "outputs": []
    },
    {
      "cell_type": "code",
      "metadata": {
        "id": "3WVqro1BTtMz"
      },
      "source": [
        "def degree_centrality(g, w=None):\n",
        "    n = g.vcount()\n",
        "    if g.is_directed():\n",
        "        dc = [sum(x)/(2*(n-1)) for x in zip(g.strength(mode='in',weights=w),\\\n",
        "              g.strength(mode='out',weights=w))]\n",
        "    else:\n",
        "        dc = [x/(n-1) for x in g.strength(weights=w)]\n",
        "    return dc"
      ],
      "execution_count": 45,
      "outputs": []
    },
    {
      "cell_type": "code",
      "metadata": {
        "id": "Eiw_Cbl2zEyw"
      },
      "source": [
        "## Creating a database for all centrality measures\n",
        "C = pd.DataFrame({'degree':degree_centrality(g1,w=None),'pagerank':g1.pagerank(),\\\n",
        "                  'authority':g1.authority_score(),\\\n",
        "                  'hub':g1.hub_score(),\\\n",
        "                  'between':g1.betweenness(),\\\n",
        "                  'closeness':g1.closeness(),'k':g1.degree()})\n",
        "C = C.groupby(by='k').mean()\n",
        "\n"
      ],
      "execution_count": 53,
      "outputs": []
    },
    {
      "cell_type": "code",
      "metadata": {
        "colab": {
          "base_uri": "https://localhost:8080/",
          "height": 641
        },
        "id": "q2yG3yjby6kF",
        "outputId": "c00013be-f63d-4a1d-8368-23bf0d3a6ea1"
      },
      "source": [
        "fig, ax = plt.subplots(2, 3, figsize=(20,10))\n",
        "ax[0, 0].scatter(C.index, C.degree)\n",
        "ax[0, 0].set_title('Degree Centrality')\n",
        "\n",
        "ax[0, 1].scatter(C.index, C.pagerank)\n",
        "ax[0, 1].set_title('Pagerank')\n",
        "\n",
        "ax[1, 0].scatter(C.index, C.authority)\n",
        "ax[1, 0].set_title('Authority')\n",
        "\n",
        "ax[1, 1].scatter(C.index, C.hub)\n",
        "ax[1, 1].set_title('Hub')\n",
        "\n",
        "ax[0, 2].scatter(C.index, C.between)\n",
        "ax[0, 2].set_title('Betweeness')\n",
        "\n",
        "ax[1, 2].scatter(C.index, C.closeness)\n",
        "ax[1, 2].set_title('Closeness')\n",
        "\n",
        "for i in ax.flat:\n",
        "    i.set(xlabel='k', ylabel='f(k)')\n"
      ],
      "execution_count": 55,
      "outputs": [
        {
          "output_type": "display_data",
          "data": {
            "image/png": "[encoded data removed]",
            "text/plain": [
              "<Figure size 1440x720 with 6 Axes>"
            ]
          },
          "metadata": {
            "needs_background": "light"
          }
        }
      ]
    },
    {
      "cell_type": "code",
      "metadata": {
        "id": "e6OHFEeQkGnD"
      },
      "source": [
        "## There is a strong Correlation between k and the degree centerality, which is quite obvious.\n",
        "## Strong correlation between pagerank and k. \n",
        "## And for rest of the meausures have positive correlation with k as well but not as strong as pagerank and degree centrality.\n"
      ],
      "execution_count": 58,
      "outputs": []
    },
    {
      "cell_type": "markdown",
      "metadata": {
        "id": "P48GPRzNv7SW"
      },
      "source": [
        "## Question 3:"
      ]
    },
    {
      "cell_type": "code",
      "metadata": {
        "id": "pERMRWPpv62y"
      },
      "source": [
        "## read edges and build weighted directed graph\n",
        "D = pd.read_csv(\"connections.csv\")\n",
        "g = ig.Graph.TupleList([tuple(x) for x in D.values], directed=True, edge_attrs=['weight'])\n",
        "\n",
        "\n",
        "## read vertex attributes and add to graph\n",
        "A = pd.read_csv('airports_loc.csv')\n",
        "lookup = {k:v for v,k in enumerate(A['airport'])}\n",
        "l = [lookup[x] for x in g.vs()['name']]\n",
        "g.vs()['layout'] = [(A['lon'][i],A['lat'][i]) for i in l]\n",
        "g.vs()['state'] = [A['state'][i] for i in l]\n",
        "g.vs()['city'] = [A['city'][i] for i in l]"
      ],
      "execution_count": 318,
      "outputs": []
    },
    {
      "cell_type": "code",
      "metadata": {
        "colab": {
          "base_uri": "https://localhost:8080/"
        },
        "id": "o9TbiaANwGDl",
        "outputId": "ff826f5a-8bde-4518-cef1-7fdb1ede1fda"
      },
      "source": [
        "## count the number of nodes in the giant component (weak connectivity)\n",
        "print(g.clusters(mode='WEAK').giant().vcount(),'out of',g.vcount(),'are in giant (weak) component')\n",
        "print(g.clusters(mode='STRONG').giant().vcount(),'out of',g.vcount(),'are in giant (strong) component')\n",
        "\n",
        "## which airports are NOT weakly connected to the rest?\n",
        "cl = g.clusters(mode='WEAK').membership\n",
        "giant = mode(cl) ## giant component\n",
        "for i in range(g.vcount()):\n",
        "    if cl[i] != giant:\n",
        "        print(g.vs[i]['name'],'which has in degree',g.degree(i,mode='IN'),'and out degree',g.degree(i,mode='OUT'))   "
      ],
      "execution_count": 319,
      "outputs": [
        {
          "output_type": "stream",
          "name": "stdout",
          "text": [
            "462 out of 464 are in giant (weak) component\n",
            "425 out of 464 are in giant (strong) component\n",
            "DET which has in degree 0 and out degree 1\n",
            "WVL which has in degree 1 and out degree 0\n"
          ]
        }
      ]
    },
    {
      "cell_type": "code",
      "metadata": {
        "id": "Zfif5XGzwKTN"
      },
      "source": [
        "## Removing 2 nodes\n",
        "g2 = g.subgraph([v for v in g.vs() if (v['name'] != 'DET' and v['name']!=\"WVL\")])"
      ],
      "execution_count": 320,
      "outputs": []
    },
    {
      "cell_type": "code",
      "metadata": {
        "colab": {
          "base_uri": "https://localhost:8080/"
        },
        "id": "uqC0DfzUwN_C",
        "outputId": "94f84728-a84c-41cc-83e9-c3a7469b50a3"
      },
      "source": [
        "## count the number of nodes in the giant component (weak connectivity)\n",
        "print(g2.clusters(mode='WEAK').giant().vcount(),'out of',g2.vcount(),'are in giant (weak) component')\n",
        "print(g2.clusters(mode='STRONG').giant().vcount(),'out of',g2.vcount(),'are in giant (strong) component')\n",
        "print(\"now all vertices are weakly connected\")"
      ],
      "execution_count": 321,
      "outputs": [
        {
          "output_type": "stream",
          "name": "stdout",
          "text": [
            "462 out of 462 are in giant (weak) component\n",
            "425 out of 462 are in giant (strong) component\n",
            "now all vertices are weakly connected\n"
          ]
        }
      ]
    },
    {
      "cell_type": "code",
      "metadata": {
        "colab": {
          "base_uri": "https://localhost:8080/"
        },
        "id": "pDtDOC9TwR1M",
        "outputId": "c2c98f7d-6641-4e4b-a1e7-41407fc8ddaf"
      },
      "source": [
        "print(g2.vcount(),'nodes and', g2.ecount(),'directed edges')"
      ],
      "execution_count": 322,
      "outputs": [
        {
          "output_type": "stream",
          "name": "stdout",
          "text": [
            "462 nodes and 11999 directed edges\n"
          ]
        }
      ]
    },
    {
      "cell_type": "code",
      "metadata": {
        "id": "p97SureZwU6C"
      },
      "source": [
        "## compute normalized weights \n",
        "mw = np.max(g2.es['weight'])\n",
        "g2.es()['normalized_weight'] = [w/mw for w in g2.es()['weight']]\n",
        "\n",
        "## directed degree centrality\n",
        "def degree_centrality(g, weights_para=None):\n",
        "    n = g.vcount()\n",
        "    if g.is_directed():\n",
        "        dc = [sum(x)/(2*(n-1)) for x in zip(g.strength(mode='in',weights=weights_para),\\\n",
        "              g.strength(mode='out',weights=weights_para))]\n",
        "    else:\n",
        "        dc = [x/(n-1) for x in g.strength(weights=weights_para)]\n",
        "    return dc\n",
        "\n",
        "## compute several centrality measures \n",
        "C2 = pd.DataFrame({'airport':g2.vs()['name'],\\\n",
        "                  'degree':degree_centrality(g2,weights_para='normalized_weight'),\\\n",
        "                  'pagerank':g2.pagerank(weights='weight'),'authority':g2.authority_score(weights='weight'),\\\n",
        "                  'hub':g2.hub_score(weights='weight'),'between':g2.betweenness(),\\\n",
        "                  'closeness':g2.closeness()})\n",
        "\n",
        "## normalize betweenness\n",
        "n = g2.vcount()\n",
        "C2['between'] = [2*x/((n-1)*(n-2)) for x in C2['between']]\n"
      ],
      "execution_count": 323,
      "outputs": []
    },
    {
      "cell_type": "code",
      "metadata": {
        "colab": {
          "base_uri": "https://localhost:8080/",
          "height": 206
        },
        "id": "BgQUK5aJwYu2",
        "outputId": "95a89f09-d4bb-4943-d376-4f54cce715f3"
      },
      "source": [
        "## sort w.r.t. degree centrality\n",
        "Cs_degree = C2.sort_values(by='degree', ascending=False)\n",
        "Cs_degree.head()"
      ],
      "execution_count": 324,
      "outputs": [
        {
          "output_type": "execute_result",
          "data": {
            "text/html": [
              "<div>\n",
              "<style scoped>\n",
              "    .dataframe tbody tr th:only-of-type {\n",
              "        vertical-align: middle;\n",
              "    }\n",
              "\n",
              "    .dataframe tbody tr th {\n",
              "        vertical-align: top;\n",
              "    }\n",
              "\n",
              "    .dataframe thead th {\n",
              "        text-align: right;\n",
              "    }\n",
              "</style>\n",
              "<table border=\"1\" class=\"dataframe\">\n",
              "  <thead>\n",
              "    <tr style=\"text-align: right;\">\n",
              "      <th></th>\n",
              "      <th>airport</th>\n",
              "      <th>degree</th>\n",
              "      <th>pagerank</th>\n",
              "      <th>authority</th>\n",
              "      <th>hub</th>\n",
              "      <th>between</th>\n",
              "      <th>closeness</th>\n",
              "    </tr>\n",
              "  </thead>\n",
              "  <tbody>\n",
              "    <tr>\n",
              "      <th>3</th>\n",
              "      <td>ATL</td>\n",
              "      <td>0.053397</td>\n",
              "      <td>0.051320</td>\n",
              "      <td>1.000000</td>\n",
              "      <td>1.000000</td>\n",
              "      <td>0.088661</td>\n",
              "      <td>0.593308</td>\n",
              "    </tr>\n",
              "    <tr>\n",
              "      <th>9</th>\n",
              "      <td>ORD</td>\n",
              "      <td>0.039726</td>\n",
              "      <td>0.037651</td>\n",
              "      <td>0.837524</td>\n",
              "      <td>0.837720</td>\n",
              "      <td>0.056017</td>\n",
              "      <td>0.598701</td>\n",
              "    </tr>\n",
              "    <tr>\n",
              "      <th>11</th>\n",
              "      <td>DFW</td>\n",
              "      <td>0.034385</td>\n",
              "      <td>0.035120</td>\n",
              "      <td>0.714629</td>\n",
              "      <td>0.718580</td>\n",
              "      <td>0.064547</td>\n",
              "      <td>0.579146</td>\n",
              "    </tr>\n",
              "    <tr>\n",
              "      <th>1</th>\n",
              "      <td>LAX</td>\n",
              "      <td>0.029707</td>\n",
              "      <td>0.026628</td>\n",
              "      <td>0.765373</td>\n",
              "      <td>0.768892</td>\n",
              "      <td>0.051678</td>\n",
              "      <td>0.559466</td>\n",
              "    </tr>\n",
              "    <tr>\n",
              "      <th>10</th>\n",
              "      <td>LAS</td>\n",
              "      <td>0.027510</td>\n",
              "      <td>0.026360</td>\n",
              "      <td>0.654271</td>\n",
              "      <td>0.659883</td>\n",
              "      <td>0.092537</td>\n",
              "      <td>0.579146</td>\n",
              "    </tr>\n",
              "  </tbody>\n",
              "</table>\n",
              "</div>"
            ],
            "text/plain": [
              "   airport    degree  pagerank  authority       hub   between  closeness\n",
              "3      ATL  0.053397  0.051320   1.000000  1.000000  0.088661   0.593308\n",
              "9      ORD  0.039726  0.037651   0.837524  0.837720  0.056017   0.598701\n",
              "11     DFW  0.034385  0.035120   0.714629  0.718580  0.064547   0.579146\n",
              "1      LAX  0.029707  0.026628   0.765373  0.768892  0.051678   0.559466\n",
              "10     LAS  0.027510  0.026360   0.654271  0.659883  0.092537   0.579146"
            ]
          },
          "metadata": {},
          "execution_count": 324
        }
      ]
    },
    {
      "cell_type": "code",
      "metadata": {
        "colab": {
          "base_uri": "https://localhost:8080/",
          "height": 206
        },
        "id": "81RXTlDiwb01",
        "outputId": "670e311b-aa1a-46c3-9f9b-5c21b744be02"
      },
      "source": [
        "## sort w.r.t. degree centrality, ASCENDING\n",
        "Cs_degree2 = C2.sort_values(by='degree', ascending=True)\n",
        "Cs_degree2.head()"
      ],
      "execution_count": 325,
      "outputs": [
        {
          "output_type": "execute_result",
          "data": {
            "text/html": [
              "<div>\n",
              "<style scoped>\n",
              "    .dataframe tbody tr th:only-of-type {\n",
              "        vertical-align: middle;\n",
              "    }\n",
              "\n",
              "    .dataframe tbody tr th {\n",
              "        vertical-align: top;\n",
              "    }\n",
              "\n",
              "    .dataframe thead th {\n",
              "        text-align: right;\n",
              "    }\n",
              "</style>\n",
              "<table border=\"1\" class=\"dataframe\">\n",
              "  <thead>\n",
              "    <tr style=\"text-align: right;\">\n",
              "      <th></th>\n",
              "      <th>airport</th>\n",
              "      <th>degree</th>\n",
              "      <th>pagerank</th>\n",
              "      <th>authority</th>\n",
              "      <th>hub</th>\n",
              "      <th>between</th>\n",
              "      <th>closeness</th>\n",
              "    </tr>\n",
              "  </thead>\n",
              "  <tbody>\n",
              "    <tr>\n",
              "      <th>461</th>\n",
              "      <td>EKX</td>\n",
              "      <td>7.520941e-10</td>\n",
              "      <td>0.000337</td>\n",
              "      <td>0.000000e+00</td>\n",
              "      <td>3.287565e-12</td>\n",
              "      <td>0.0</td>\n",
              "      <td>0.319031</td>\n",
              "    </tr>\n",
              "    <tr>\n",
              "      <th>460</th>\n",
              "      <td>AID</td>\n",
              "      <td>7.520941e-10</td>\n",
              "      <td>0.000337</td>\n",
              "      <td>3.968855e-08</td>\n",
              "      <td>0.000000e+00</td>\n",
              "      <td>0.0</td>\n",
              "      <td>0.356811</td>\n",
              "    </tr>\n",
              "    <tr>\n",
              "      <th>459</th>\n",
              "      <td>MOP</td>\n",
              "      <td>1.504188e-09</td>\n",
              "      <td>0.000337</td>\n",
              "      <td>1.403685e-09</td>\n",
              "      <td>0.000000e+00</td>\n",
              "      <td>0.0</td>\n",
              "      <td>0.322378</td>\n",
              "    </tr>\n",
              "    <tr>\n",
              "      <th>457</th>\n",
              "      <td>FDY</td>\n",
              "      <td>1.504188e-09</td>\n",
              "      <td>0.000337</td>\n",
              "      <td>4.505835e-08</td>\n",
              "      <td>0.000000e+00</td>\n",
              "      <td>0.0</td>\n",
              "      <td>0.362992</td>\n",
              "    </tr>\n",
              "    <tr>\n",
              "      <th>454</th>\n",
              "      <td>ADS</td>\n",
              "      <td>1.504188e-09</td>\n",
              "      <td>0.000337</td>\n",
              "      <td>0.000000e+00</td>\n",
              "      <td>4.875513e-09</td>\n",
              "      <td>0.0</td>\n",
              "      <td>0.316404</td>\n",
              "    </tr>\n",
              "  </tbody>\n",
              "</table>\n",
              "</div>"
            ],
            "text/plain": [
              "    airport        degree  pagerank  ...           hub  between  closeness\n",
              "461     EKX  7.520941e-10  0.000337  ...  3.287565e-12      0.0   0.319031\n",
              "460     AID  7.520941e-10  0.000337  ...  0.000000e+00      0.0   0.356811\n",
              "459     MOP  1.504188e-09  0.000337  ...  0.000000e+00      0.0   0.322378\n",
              "457     FDY  1.504188e-09  0.000337  ...  0.000000e+00      0.0   0.362992\n",
              "454     ADS  1.504188e-09  0.000337  ...  4.875513e-09      0.0   0.316404\n",
              "\n",
              "[5 rows x 7 columns]"
            ]
          },
          "metadata": {},
          "execution_count": 325
        }
      ]
    },
    {
      "cell_type": "code",
      "metadata": {
        "colab": {
          "base_uri": "https://localhost:8080/",
          "height": 206
        },
        "id": "2pfC-DcdweoJ",
        "outputId": "011c4f00-9d8e-41f2-b3b1-b1d807ec40a0"
      },
      "source": [
        "## sort w.r.t. page rank\n",
        "Cs_pagerank = C2.sort_values(by='pagerank', ascending=False)\n",
        "Cs_pagerank.head()"
      ],
      "execution_count": 326,
      "outputs": [
        {
          "output_type": "execute_result",
          "data": {
            "text/html": [
              "<div>\n",
              "<style scoped>\n",
              "    .dataframe tbody tr th:only-of-type {\n",
              "        vertical-align: middle;\n",
              "    }\n",
              "\n",
              "    .dataframe tbody tr th {\n",
              "        vertical-align: top;\n",
              "    }\n",
              "\n",
              "    .dataframe thead th {\n",
              "        text-align: right;\n",
              "    }\n",
              "</style>\n",
              "<table border=\"1\" class=\"dataframe\">\n",
              "  <thead>\n",
              "    <tr style=\"text-align: right;\">\n",
              "      <th></th>\n",
              "      <th>airport</th>\n",
              "      <th>degree</th>\n",
              "      <th>pagerank</th>\n",
              "      <th>authority</th>\n",
              "      <th>hub</th>\n",
              "      <th>between</th>\n",
              "      <th>closeness</th>\n",
              "    </tr>\n",
              "  </thead>\n",
              "  <tbody>\n",
              "    <tr>\n",
              "      <th>3</th>\n",
              "      <td>ATL</td>\n",
              "      <td>0.053397</td>\n",
              "      <td>0.051320</td>\n",
              "      <td>1.000000</td>\n",
              "      <td>1.000000</td>\n",
              "      <td>0.088661</td>\n",
              "      <td>0.593308</td>\n",
              "    </tr>\n",
              "    <tr>\n",
              "      <th>9</th>\n",
              "      <td>ORD</td>\n",
              "      <td>0.039726</td>\n",
              "      <td>0.037651</td>\n",
              "      <td>0.837524</td>\n",
              "      <td>0.837720</td>\n",
              "      <td>0.056017</td>\n",
              "      <td>0.598701</td>\n",
              "    </tr>\n",
              "    <tr>\n",
              "      <th>11</th>\n",
              "      <td>DFW</td>\n",
              "      <td>0.034385</td>\n",
              "      <td>0.035120</td>\n",
              "      <td>0.714629</td>\n",
              "      <td>0.718580</td>\n",
              "      <td>0.064547</td>\n",
              "      <td>0.579146</td>\n",
              "    </tr>\n",
              "    <tr>\n",
              "      <th>1</th>\n",
              "      <td>LAX</td>\n",
              "      <td>0.029707</td>\n",
              "      <td>0.026628</td>\n",
              "      <td>0.765373</td>\n",
              "      <td>0.768892</td>\n",
              "      <td>0.051678</td>\n",
              "      <td>0.559466</td>\n",
              "    </tr>\n",
              "    <tr>\n",
              "      <th>10</th>\n",
              "      <td>LAS</td>\n",
              "      <td>0.027510</td>\n",
              "      <td>0.026360</td>\n",
              "      <td>0.654271</td>\n",
              "      <td>0.659883</td>\n",
              "      <td>0.092537</td>\n",
              "      <td>0.579146</td>\n",
              "    </tr>\n",
              "  </tbody>\n",
              "</table>\n",
              "</div>"
            ],
            "text/plain": [
              "   airport    degree  pagerank  authority       hub   between  closeness\n",
              "3      ATL  0.053397  0.051320   1.000000  1.000000  0.088661   0.593308\n",
              "9      ORD  0.039726  0.037651   0.837524  0.837720  0.056017   0.598701\n",
              "11     DFW  0.034385  0.035120   0.714629  0.718580  0.064547   0.579146\n",
              "1      LAX  0.029707  0.026628   0.765373  0.768892  0.051678   0.559466\n",
              "10     LAS  0.027510  0.026360   0.654271  0.659883  0.092537   0.579146"
            ]
          },
          "metadata": {},
          "execution_count": 326
        }
      ]
    },
    {
      "cell_type": "code",
      "metadata": {
        "colab": {
          "base_uri": "https://localhost:8080/",
          "height": 206
        },
        "id": "Gxw5SyITwins",
        "outputId": "775d279a-58db-454e-a689-c9107aab90d6"
      },
      "source": [
        "## sort w.r.t. page rank, ASCENDING\n",
        "Cs_pagerank2 = C2.sort_values(by='pagerank', ascending=True)\n",
        "Cs_pagerank2.head()"
      ],
      "execution_count": 327,
      "outputs": [
        {
          "output_type": "execute_result",
          "data": {
            "text/html": [
              "<div>\n",
              "<style scoped>\n",
              "    .dataframe tbody tr th:only-of-type {\n",
              "        vertical-align: middle;\n",
              "    }\n",
              "\n",
              "    .dataframe tbody tr th {\n",
              "        vertical-align: top;\n",
              "    }\n",
              "\n",
              "    .dataframe thead th {\n",
              "        text-align: right;\n",
              "    }\n",
              "</style>\n",
              "<table border=\"1\" class=\"dataframe\">\n",
              "  <thead>\n",
              "    <tr style=\"text-align: right;\">\n",
              "      <th></th>\n",
              "      <th>airport</th>\n",
              "      <th>degree</th>\n",
              "      <th>pagerank</th>\n",
              "      <th>authority</th>\n",
              "      <th>hub</th>\n",
              "      <th>between</th>\n",
              "      <th>closeness</th>\n",
              "    </tr>\n",
              "  </thead>\n",
              "  <tbody>\n",
              "    <tr>\n",
              "      <th>461</th>\n",
              "      <td>EKX</td>\n",
              "      <td>7.520941e-10</td>\n",
              "      <td>0.000337</td>\n",
              "      <td>0.0</td>\n",
              "      <td>3.287565e-12</td>\n",
              "      <td>0.0</td>\n",
              "      <td>0.319031</td>\n",
              "    </tr>\n",
              "    <tr>\n",
              "      <th>411</th>\n",
              "      <td>EDF</td>\n",
              "      <td>5.039031e-08</td>\n",
              "      <td>0.000337</td>\n",
              "      <td>0.0</td>\n",
              "      <td>7.623251e-11</td>\n",
              "      <td>0.0</td>\n",
              "      <td>0.266013</td>\n",
              "    </tr>\n",
              "    <tr>\n",
              "      <th>400</th>\n",
              "      <td>STJ</td>\n",
              "      <td>7.972198e-08</td>\n",
              "      <td>0.000337</td>\n",
              "      <td>0.0</td>\n",
              "      <td>5.284929e-08</td>\n",
              "      <td>0.0</td>\n",
              "      <td>0.330466</td>\n",
              "    </tr>\n",
              "    <tr>\n",
              "      <th>396</th>\n",
              "      <td>FFO</td>\n",
              "      <td>9.175548e-08</td>\n",
              "      <td>0.000337</td>\n",
              "      <td>0.0</td>\n",
              "      <td>1.317793e-07</td>\n",
              "      <td>0.0</td>\n",
              "      <td>0.310438</td>\n",
              "    </tr>\n",
              "    <tr>\n",
              "      <th>416</th>\n",
              "      <td>DNE</td>\n",
              "      <td>3.234005e-08</td>\n",
              "      <td>0.000337</td>\n",
              "      <td>0.0</td>\n",
              "      <td>1.158986e-17</td>\n",
              "      <td>0.0</td>\n",
              "      <td>0.220680</td>\n",
              "    </tr>\n",
              "  </tbody>\n",
              "</table>\n",
              "</div>"
            ],
            "text/plain": [
              "    airport        degree  pagerank  ...           hub  between  closeness\n",
              "461     EKX  7.520941e-10  0.000337  ...  3.287565e-12      0.0   0.319031\n",
              "411     EDF  5.039031e-08  0.000337  ...  7.623251e-11      0.0   0.266013\n",
              "400     STJ  7.972198e-08  0.000337  ...  5.284929e-08      0.0   0.330466\n",
              "396     FFO  9.175548e-08  0.000337  ...  1.317793e-07      0.0   0.310438\n",
              "416     DNE  3.234005e-08  0.000337  ...  1.158986e-17      0.0   0.220680\n",
              "\n",
              "[5 rows x 7 columns]"
            ]
          },
          "metadata": {},
          "execution_count": 327
        }
      ]
    },
    {
      "cell_type": "code",
      "metadata": {
        "colab": {
          "base_uri": "https://localhost:8080/",
          "height": 206
        },
        "id": "K5sg3yTYwmUV",
        "outputId": "fe8cf217-8b52-4686-a417-9eb5246e054c"
      },
      "source": [
        "## sort w.r.t. authority\n",
        "Cs_authority = C2.sort_values(by='authority', ascending=False)\n",
        "Cs_authority.head()"
      ],
      "execution_count": 328,
      "outputs": [
        {
          "output_type": "execute_result",
          "data": {
            "text/html": [
              "<div>\n",
              "<style scoped>\n",
              "    .dataframe tbody tr th:only-of-type {\n",
              "        vertical-align: middle;\n",
              "    }\n",
              "\n",
              "    .dataframe tbody tr th {\n",
              "        vertical-align: top;\n",
              "    }\n",
              "\n",
              "    .dataframe thead th {\n",
              "        text-align: right;\n",
              "    }\n",
              "</style>\n",
              "<table border=\"1\" class=\"dataframe\">\n",
              "  <thead>\n",
              "    <tr style=\"text-align: right;\">\n",
              "      <th></th>\n",
              "      <th>airport</th>\n",
              "      <th>degree</th>\n",
              "      <th>pagerank</th>\n",
              "      <th>authority</th>\n",
              "      <th>hub</th>\n",
              "      <th>between</th>\n",
              "      <th>closeness</th>\n",
              "    </tr>\n",
              "  </thead>\n",
              "  <tbody>\n",
              "    <tr>\n",
              "      <th>3</th>\n",
              "      <td>ATL</td>\n",
              "      <td>0.053397</td>\n",
              "      <td>0.051320</td>\n",
              "      <td>1.000000</td>\n",
              "      <td>1.000000</td>\n",
              "      <td>0.088661</td>\n",
              "      <td>0.593308</td>\n",
              "    </tr>\n",
              "    <tr>\n",
              "      <th>9</th>\n",
              "      <td>ORD</td>\n",
              "      <td>0.039726</td>\n",
              "      <td>0.037651</td>\n",
              "      <td>0.837524</td>\n",
              "      <td>0.837720</td>\n",
              "      <td>0.056017</td>\n",
              "      <td>0.598701</td>\n",
              "    </tr>\n",
              "    <tr>\n",
              "      <th>1</th>\n",
              "      <td>LAX</td>\n",
              "      <td>0.029707</td>\n",
              "      <td>0.026628</td>\n",
              "      <td>0.765373</td>\n",
              "      <td>0.768892</td>\n",
              "      <td>0.051678</td>\n",
              "      <td>0.559466</td>\n",
              "    </tr>\n",
              "    <tr>\n",
              "      <th>11</th>\n",
              "      <td>DFW</td>\n",
              "      <td>0.034385</td>\n",
              "      <td>0.035120</td>\n",
              "      <td>0.714629</td>\n",
              "      <td>0.718580</td>\n",
              "      <td>0.064547</td>\n",
              "      <td>0.579146</td>\n",
              "    </tr>\n",
              "    <tr>\n",
              "      <th>10</th>\n",
              "      <td>LAS</td>\n",
              "      <td>0.027510</td>\n",
              "      <td>0.026360</td>\n",
              "      <td>0.654271</td>\n",
              "      <td>0.659883</td>\n",
              "      <td>0.092537</td>\n",
              "      <td>0.579146</td>\n",
              "    </tr>\n",
              "  </tbody>\n",
              "</table>\n",
              "</div>"
            ],
            "text/plain": [
              "   airport    degree  pagerank  authority       hub   between  closeness\n",
              "3      ATL  0.053397  0.051320   1.000000  1.000000  0.088661   0.593308\n",
              "9      ORD  0.039726  0.037651   0.837524  0.837720  0.056017   0.598701\n",
              "1      LAX  0.029707  0.026628   0.765373  0.768892  0.051678   0.559466\n",
              "11     DFW  0.034385  0.035120   0.714629  0.718580  0.064547   0.579146\n",
              "10     LAS  0.027510  0.026360   0.654271  0.659883  0.092537   0.579146"
            ]
          },
          "metadata": {},
          "execution_count": 328
        }
      ]
    },
    {
      "cell_type": "code",
      "metadata": {
        "colab": {
          "base_uri": "https://localhost:8080/",
          "height": 206
        },
        "id": "mTzp10mewpzV",
        "outputId": "c835f1b3-5c43-4ee5-9b64-21ac5e6d5613"
      },
      "source": [
        "## sort w.r.t. authority, ASCENDING\n",
        "Cs_authority2 = C2.sort_values(by='authority', ascending=True)\n",
        "Cs_authority2.head()"
      ],
      "execution_count": 329,
      "outputs": [
        {
          "output_type": "execute_result",
          "data": {
            "text/html": [
              "<div>\n",
              "<style scoped>\n",
              "    .dataframe tbody tr th:only-of-type {\n",
              "        vertical-align: middle;\n",
              "    }\n",
              "\n",
              "    .dataframe tbody tr th {\n",
              "        vertical-align: top;\n",
              "    }\n",
              "\n",
              "    .dataframe thead th {\n",
              "        text-align: right;\n",
              "    }\n",
              "</style>\n",
              "<table border=\"1\" class=\"dataframe\">\n",
              "  <thead>\n",
              "    <tr style=\"text-align: right;\">\n",
              "      <th></th>\n",
              "      <th>airport</th>\n",
              "      <th>degree</th>\n",
              "      <th>pagerank</th>\n",
              "      <th>authority</th>\n",
              "      <th>hub</th>\n",
              "      <th>between</th>\n",
              "      <th>closeness</th>\n",
              "    </tr>\n",
              "  </thead>\n",
              "  <tbody>\n",
              "    <tr>\n",
              "      <th>461</th>\n",
              "      <td>EKX</td>\n",
              "      <td>7.520941e-10</td>\n",
              "      <td>0.000337</td>\n",
              "      <td>0.0</td>\n",
              "      <td>3.287565e-12</td>\n",
              "      <td>0.0</td>\n",
              "      <td>0.319031</td>\n",
              "    </tr>\n",
              "    <tr>\n",
              "      <th>386</th>\n",
              "      <td>GSB</td>\n",
              "      <td>9.927642e-08</td>\n",
              "      <td>0.000337</td>\n",
              "      <td>0.0</td>\n",
              "      <td>1.357436e-11</td>\n",
              "      <td>0.0</td>\n",
              "      <td>0.273591</td>\n",
              "    </tr>\n",
              "    <tr>\n",
              "      <th>393</th>\n",
              "      <td>MHR</td>\n",
              "      <td>9.551595e-08</td>\n",
              "      <td>0.000337</td>\n",
              "      <td>0.0</td>\n",
              "      <td>2.098008e-06</td>\n",
              "      <td>0.0</td>\n",
              "      <td>0.356811</td>\n",
              "    </tr>\n",
              "    <tr>\n",
              "      <th>396</th>\n",
              "      <td>FFO</td>\n",
              "      <td>9.175548e-08</td>\n",
              "      <td>0.000337</td>\n",
              "      <td>0.0</td>\n",
              "      <td>1.317793e-07</td>\n",
              "      <td>0.0</td>\n",
              "      <td>0.310438</td>\n",
              "    </tr>\n",
              "    <tr>\n",
              "      <th>400</th>\n",
              "      <td>STJ</td>\n",
              "      <td>7.972198e-08</td>\n",
              "      <td>0.000337</td>\n",
              "      <td>0.0</td>\n",
              "      <td>5.284929e-08</td>\n",
              "      <td>0.0</td>\n",
              "      <td>0.330466</td>\n",
              "    </tr>\n",
              "  </tbody>\n",
              "</table>\n",
              "</div>"
            ],
            "text/plain": [
              "    airport        degree  pagerank  ...           hub  between  closeness\n",
              "461     EKX  7.520941e-10  0.000337  ...  3.287565e-12      0.0   0.319031\n",
              "386     GSB  9.927642e-08  0.000337  ...  1.357436e-11      0.0   0.273591\n",
              "393     MHR  9.551595e-08  0.000337  ...  2.098008e-06      0.0   0.356811\n",
              "396     FFO  9.175548e-08  0.000337  ...  1.317793e-07      0.0   0.310438\n",
              "400     STJ  7.972198e-08  0.000337  ...  5.284929e-08      0.0   0.330466\n",
              "\n",
              "[5 rows x 7 columns]"
            ]
          },
          "metadata": {},
          "execution_count": 329
        }
      ]
    },
    {
      "cell_type": "code",
      "metadata": {
        "colab": {
          "base_uri": "https://localhost:8080/",
          "height": 206
        },
        "id": "QT2AofIpwtd8",
        "outputId": "c5a1984e-018d-4a81-9968-a9bec1c764be"
      },
      "source": [
        "## sort w.r.t. hub\n",
        "Cs_hub = C2.sort_values(by='hub', ascending=False)\n",
        "Cs_hub.head()"
      ],
      "execution_count": 330,
      "outputs": [
        {
          "output_type": "execute_result",
          "data": {
            "text/html": [
              "<div>\n",
              "<style scoped>\n",
              "    .dataframe tbody tr th:only-of-type {\n",
              "        vertical-align: middle;\n",
              "    }\n",
              "\n",
              "    .dataframe tbody tr th {\n",
              "        vertical-align: top;\n",
              "    }\n",
              "\n",
              "    .dataframe thead th {\n",
              "        text-align: right;\n",
              "    }\n",
              "</style>\n",
              "<table border=\"1\" class=\"dataframe\">\n",
              "  <thead>\n",
              "    <tr style=\"text-align: right;\">\n",
              "      <th></th>\n",
              "      <th>airport</th>\n",
              "      <th>degree</th>\n",
              "      <th>pagerank</th>\n",
              "      <th>authority</th>\n",
              "      <th>hub</th>\n",
              "      <th>between</th>\n",
              "      <th>closeness</th>\n",
              "    </tr>\n",
              "  </thead>\n",
              "  <tbody>\n",
              "    <tr>\n",
              "      <th>3</th>\n",
              "      <td>ATL</td>\n",
              "      <td>0.053397</td>\n",
              "      <td>0.051320</td>\n",
              "      <td>1.000000</td>\n",
              "      <td>1.000000</td>\n",
              "      <td>0.088661</td>\n",
              "      <td>0.593308</td>\n",
              "    </tr>\n",
              "    <tr>\n",
              "      <th>9</th>\n",
              "      <td>ORD</td>\n",
              "      <td>0.039726</td>\n",
              "      <td>0.037651</td>\n",
              "      <td>0.837524</td>\n",
              "      <td>0.837720</td>\n",
              "      <td>0.056017</td>\n",
              "      <td>0.598701</td>\n",
              "    </tr>\n",
              "    <tr>\n",
              "      <th>1</th>\n",
              "      <td>LAX</td>\n",
              "      <td>0.029707</td>\n",
              "      <td>0.026628</td>\n",
              "      <td>0.765373</td>\n",
              "      <td>0.768892</td>\n",
              "      <td>0.051678</td>\n",
              "      <td>0.559466</td>\n",
              "    </tr>\n",
              "    <tr>\n",
              "      <th>11</th>\n",
              "      <td>DFW</td>\n",
              "      <td>0.034385</td>\n",
              "      <td>0.035120</td>\n",
              "      <td>0.714629</td>\n",
              "      <td>0.718580</td>\n",
              "      <td>0.064547</td>\n",
              "      <td>0.579146</td>\n",
              "    </tr>\n",
              "    <tr>\n",
              "      <th>10</th>\n",
              "      <td>LAS</td>\n",
              "      <td>0.027510</td>\n",
              "      <td>0.026360</td>\n",
              "      <td>0.654271</td>\n",
              "      <td>0.659883</td>\n",
              "      <td>0.092537</td>\n",
              "      <td>0.579146</td>\n",
              "    </tr>\n",
              "  </tbody>\n",
              "</table>\n",
              "</div>"
            ],
            "text/plain": [
              "   airport    degree  pagerank  authority       hub   between  closeness\n",
              "3      ATL  0.053397  0.051320   1.000000  1.000000  0.088661   0.593308\n",
              "9      ORD  0.039726  0.037651   0.837524  0.837720  0.056017   0.598701\n",
              "1      LAX  0.029707  0.026628   0.765373  0.768892  0.051678   0.559466\n",
              "11     DFW  0.034385  0.035120   0.714629  0.718580  0.064547   0.579146\n",
              "10     LAS  0.027510  0.026360   0.654271  0.659883  0.092537   0.579146"
            ]
          },
          "metadata": {},
          "execution_count": 330
        }
      ]
    },
    {
      "cell_type": "code",
      "metadata": {
        "colab": {
          "base_uri": "https://localhost:8080/",
          "height": 206
        },
        "id": "9hXolX5awwrM",
        "outputId": "6d6ef592-8826-469d-a8ae-9e357768585a"
      },
      "source": [
        "## sort w.r.t. hub, ASCENDING\n",
        "Cs_hub2 = C2.sort_values(by='hub', ascending=True)\n",
        "Cs_hub2.head()"
      ],
      "execution_count": 331,
      "outputs": [
        {
          "output_type": "execute_result",
          "data": {
            "text/html": [
              "<div>\n",
              "<style scoped>\n",
              "    .dataframe tbody tr th:only-of-type {\n",
              "        vertical-align: middle;\n",
              "    }\n",
              "\n",
              "    .dataframe tbody tr th {\n",
              "        vertical-align: top;\n",
              "    }\n",
              "\n",
              "    .dataframe thead th {\n",
              "        text-align: right;\n",
              "    }\n",
              "</style>\n",
              "<table border=\"1\" class=\"dataframe\">\n",
              "  <thead>\n",
              "    <tr style=\"text-align: right;\">\n",
              "      <th></th>\n",
              "      <th>airport</th>\n",
              "      <th>degree</th>\n",
              "      <th>pagerank</th>\n",
              "      <th>authority</th>\n",
              "      <th>hub</th>\n",
              "      <th>between</th>\n",
              "      <th>closeness</th>\n",
              "    </tr>\n",
              "  </thead>\n",
              "  <tbody>\n",
              "    <tr>\n",
              "      <th>460</th>\n",
              "      <td>AID</td>\n",
              "      <td>7.520941e-10</td>\n",
              "      <td>0.000337</td>\n",
              "      <td>3.968855e-08</td>\n",
              "      <td>0.0</td>\n",
              "      <td>0.0</td>\n",
              "      <td>0.356811</td>\n",
              "    </tr>\n",
              "    <tr>\n",
              "      <th>429</th>\n",
              "      <td>GUS</td>\n",
              "      <td>1.052932e-08</td>\n",
              "      <td>0.000342</td>\n",
              "      <td>3.048952e-11</td>\n",
              "      <td>0.0</td>\n",
              "      <td>0.0</td>\n",
              "      <td>0.307333</td>\n",
              "    </tr>\n",
              "    <tr>\n",
              "      <th>439</th>\n",
              "      <td>DWH</td>\n",
              "      <td>6.016753e-09</td>\n",
              "      <td>0.000426</td>\n",
              "      <td>1.443642e-13</td>\n",
              "      <td>0.0</td>\n",
              "      <td>0.0</td>\n",
              "      <td>0.288486</td>\n",
              "    </tr>\n",
              "    <tr>\n",
              "      <th>440</th>\n",
              "      <td>ISM</td>\n",
              "      <td>5.264659e-09</td>\n",
              "      <td>0.000337</td>\n",
              "      <td>7.000939e-09</td>\n",
              "      <td>0.0</td>\n",
              "      <td>0.0</td>\n",
              "      <td>0.316187</td>\n",
              "    </tr>\n",
              "    <tr>\n",
              "      <th>428</th>\n",
              "      <td>SKA</td>\n",
              "      <td>1.203351e-08</td>\n",
              "      <td>0.000337</td>\n",
              "      <td>0.000000e+00</td>\n",
              "      <td>0.0</td>\n",
              "      <td>0.0</td>\n",
              "      <td>0.263881</td>\n",
              "    </tr>\n",
              "  </tbody>\n",
              "</table>\n",
              "</div>"
            ],
            "text/plain": [
              "    airport        degree  pagerank     authority  hub  between  closeness\n",
              "460     AID  7.520941e-10  0.000337  3.968855e-08  0.0      0.0   0.356811\n",
              "429     GUS  1.052932e-08  0.000342  3.048952e-11  0.0      0.0   0.307333\n",
              "439     DWH  6.016753e-09  0.000426  1.443642e-13  0.0      0.0   0.288486\n",
              "440     ISM  5.264659e-09  0.000337  7.000939e-09  0.0      0.0   0.316187\n",
              "428     SKA  1.203351e-08  0.000337  0.000000e+00  0.0      0.0   0.263881"
            ]
          },
          "metadata": {},
          "execution_count": 331
        }
      ]
    },
    {
      "cell_type": "code",
      "metadata": {
        "colab": {
          "base_uri": "https://localhost:8080/",
          "height": 206
        },
        "id": "60AlQjzYwzmR",
        "outputId": "49347df0-1ef3-4874-a7a0-d4fe362ddc7a"
      },
      "source": [
        "## sort w.r.t. between\n",
        "Cs_between = C2.sort_values(by='between', ascending=False)\n",
        "Cs_between.head()"
      ],
      "execution_count": 332,
      "outputs": [
        {
          "output_type": "execute_result",
          "data": {
            "text/html": [
              "<div>\n",
              "<style scoped>\n",
              "    .dataframe tbody tr th:only-of-type {\n",
              "        vertical-align: middle;\n",
              "    }\n",
              "\n",
              "    .dataframe tbody tr th {\n",
              "        vertical-align: top;\n",
              "    }\n",
              "\n",
              "    .dataframe thead th {\n",
              "        text-align: right;\n",
              "    }\n",
              "</style>\n",
              "<table border=\"1\" class=\"dataframe\">\n",
              "  <thead>\n",
              "    <tr style=\"text-align: right;\">\n",
              "      <th></th>\n",
              "      <th>airport</th>\n",
              "      <th>degree</th>\n",
              "      <th>pagerank</th>\n",
              "      <th>authority</th>\n",
              "      <th>hub</th>\n",
              "      <th>between</th>\n",
              "      <th>closeness</th>\n",
              "    </tr>\n",
              "  </thead>\n",
              "  <tbody>\n",
              "    <tr>\n",
              "      <th>14</th>\n",
              "      <td>MSP</td>\n",
              "      <td>0.021191</td>\n",
              "      <td>0.025430</td>\n",
              "      <td>0.481455</td>\n",
              "      <td>0.485902</td>\n",
              "      <td>0.124928</td>\n",
              "      <td>0.595607</td>\n",
              "    </tr>\n",
              "    <tr>\n",
              "      <th>10</th>\n",
              "      <td>LAS</td>\n",
              "      <td>0.027510</td>\n",
              "      <td>0.026360</td>\n",
              "      <td>0.654271</td>\n",
              "      <td>0.659883</td>\n",
              "      <td>0.092537</td>\n",
              "      <td>0.579146</td>\n",
              "    </tr>\n",
              "    <tr>\n",
              "      <th>30</th>\n",
              "      <td>SLC</td>\n",
              "      <td>0.012783</td>\n",
              "      <td>0.016460</td>\n",
              "      <td>0.314009</td>\n",
              "      <td>0.314942</td>\n",
              "      <td>0.089128</td>\n",
              "      <td>0.574097</td>\n",
              "    </tr>\n",
              "    <tr>\n",
              "      <th>13</th>\n",
              "      <td>PHX</td>\n",
              "      <td>0.025980</td>\n",
              "      <td>0.025787</td>\n",
              "      <td>0.596346</td>\n",
              "      <td>0.596165</td>\n",
              "      <td>0.088831</td>\n",
              "      <td>0.571252</td>\n",
              "    </tr>\n",
              "    <tr>\n",
              "      <th>3</th>\n",
              "      <td>ATL</td>\n",
              "      <td>0.053397</td>\n",
              "      <td>0.051320</td>\n",
              "      <td>1.000000</td>\n",
              "      <td>1.000000</td>\n",
              "      <td>0.088661</td>\n",
              "      <td>0.593308</td>\n",
              "    </tr>\n",
              "  </tbody>\n",
              "</table>\n",
              "</div>"
            ],
            "text/plain": [
              "   airport    degree  pagerank  authority       hub   between  closeness\n",
              "14     MSP  0.021191  0.025430   0.481455  0.485902  0.124928   0.595607\n",
              "10     LAS  0.027510  0.026360   0.654271  0.659883  0.092537   0.579146\n",
              "30     SLC  0.012783  0.016460   0.314009  0.314942  0.089128   0.574097\n",
              "13     PHX  0.025980  0.025787   0.596346  0.596165  0.088831   0.571252\n",
              "3      ATL  0.053397  0.051320   1.000000  1.000000  0.088661   0.593308"
            ]
          },
          "metadata": {},
          "execution_count": 332
        }
      ]
    },
    {
      "cell_type": "code",
      "metadata": {
        "colab": {
          "base_uri": "https://localhost:8080/",
          "height": 206
        },
        "id": "WFdDqQ3Xw2f9",
        "outputId": "7b1cdc51-40aa-4cf1-c455-90aee46a8484"
      },
      "source": [
        "\n",
        "## sort w.r.t. between, ASCENDING\n",
        "Cs_between2 = C2.sort_values(by='between', ascending=True)\n",
        "Cs_between2.head()"
      ],
      "execution_count": 333,
      "outputs": [
        {
          "output_type": "execute_result",
          "data": {
            "text/html": [
              "<div>\n",
              "<style scoped>\n",
              "    .dataframe tbody tr th:only-of-type {\n",
              "        vertical-align: middle;\n",
              "    }\n",
              "\n",
              "    .dataframe tbody tr th {\n",
              "        vertical-align: top;\n",
              "    }\n",
              "\n",
              "    .dataframe thead th {\n",
              "        text-align: right;\n",
              "    }\n",
              "</style>\n",
              "<table border=\"1\" class=\"dataframe\">\n",
              "  <thead>\n",
              "    <tr style=\"text-align: right;\">\n",
              "      <th></th>\n",
              "      <th>airport</th>\n",
              "      <th>degree</th>\n",
              "      <th>pagerank</th>\n",
              "      <th>authority</th>\n",
              "      <th>hub</th>\n",
              "      <th>between</th>\n",
              "      <th>closeness</th>\n",
              "    </tr>\n",
              "  </thead>\n",
              "  <tbody>\n",
              "    <tr>\n",
              "      <th>230</th>\n",
              "      <td>WFB</td>\n",
              "      <td>0.000037</td>\n",
              "      <td>0.001761</td>\n",
              "      <td>6.629374e-07</td>\n",
              "      <td>5.908607e-07</td>\n",
              "      <td>0.0</td>\n",
              "      <td>0.285626</td>\n",
              "    </tr>\n",
              "    <tr>\n",
              "      <th>301</th>\n",
              "      <td>TSS</td>\n",
              "      <td>0.000005</td>\n",
              "      <td>0.000340</td>\n",
              "      <td>8.842856e-05</td>\n",
              "      <td>1.856728e-04</td>\n",
              "      <td>0.0</td>\n",
              "      <td>0.358197</td>\n",
              "    </tr>\n",
              "    <tr>\n",
              "      <th>306</th>\n",
              "      <td>RDG</td>\n",
              "      <td>0.000003</td>\n",
              "      <td>0.000340</td>\n",
              "      <td>1.080432e-04</td>\n",
              "      <td>1.088398e-04</td>\n",
              "      <td>0.0</td>\n",
              "      <td>0.355710</td>\n",
              "    </tr>\n",
              "    <tr>\n",
              "      <th>314</th>\n",
              "      <td>HGR</td>\n",
              "      <td>0.000002</td>\n",
              "      <td>0.000346</td>\n",
              "      <td>1.385522e-07</td>\n",
              "      <td>1.464630e-07</td>\n",
              "      <td>0.0</td>\n",
              "      <td>0.321927</td>\n",
              "    </tr>\n",
              "    <tr>\n",
              "      <th>320</th>\n",
              "      <td>MCE</td>\n",
              "      <td>0.000003</td>\n",
              "      <td>0.000655</td>\n",
              "      <td>5.313388e-05</td>\n",
              "      <td>7.428121e-05</td>\n",
              "      <td>0.0</td>\n",
              "      <td>0.367331</td>\n",
              "    </tr>\n",
              "  </tbody>\n",
              "</table>\n",
              "</div>"
            ],
            "text/plain": [
              "    airport    degree  pagerank     authority           hub  between  closeness\n",
              "230     WFB  0.000037  0.001761  6.629374e-07  5.908607e-07      0.0   0.285626\n",
              "301     TSS  0.000005  0.000340  8.842856e-05  1.856728e-04      0.0   0.358197\n",
              "306     RDG  0.000003  0.000340  1.080432e-04  1.088398e-04      0.0   0.355710\n",
              "314     HGR  0.000002  0.000346  1.385522e-07  1.464630e-07      0.0   0.321927\n",
              "320     MCE  0.000003  0.000655  5.313388e-05  7.428121e-05      0.0   0.367331"
            ]
          },
          "metadata": {},
          "execution_count": 333
        }
      ]
    },
    {
      "cell_type": "code",
      "metadata": {
        "colab": {
          "base_uri": "https://localhost:8080/",
          "height": 206
        },
        "id": "Kcnf9-BPw7vq",
        "outputId": "72129c28-a2ce-4bea-b811-f707914e2d3c"
      },
      "source": [
        "## sort w.r.t. closeness\n",
        "Cs_closeness = C2.sort_values(by='closeness', ascending=False)\n",
        "Cs_closeness.head()"
      ],
      "execution_count": 334,
      "outputs": [
        {
          "output_type": "execute_result",
          "data": {
            "text/html": [
              "<div>\n",
              "<style scoped>\n",
              "    .dataframe tbody tr th:only-of-type {\n",
              "        vertical-align: middle;\n",
              "    }\n",
              "\n",
              "    .dataframe tbody tr th {\n",
              "        vertical-align: top;\n",
              "    }\n",
              "\n",
              "    .dataframe thead th {\n",
              "        text-align: right;\n",
              "    }\n",
              "</style>\n",
              "<table border=\"1\" class=\"dataframe\">\n",
              "  <thead>\n",
              "    <tr style=\"text-align: right;\">\n",
              "      <th></th>\n",
              "      <th>airport</th>\n",
              "      <th>degree</th>\n",
              "      <th>pagerank</th>\n",
              "      <th>authority</th>\n",
              "      <th>hub</th>\n",
              "      <th>between</th>\n",
              "      <th>closeness</th>\n",
              "    </tr>\n",
              "  </thead>\n",
              "  <tbody>\n",
              "    <tr>\n",
              "      <th>9</th>\n",
              "      <td>ORD</td>\n",
              "      <td>0.039726</td>\n",
              "      <td>0.037651</td>\n",
              "      <td>0.837524</td>\n",
              "      <td>0.837720</td>\n",
              "      <td>0.056017</td>\n",
              "      <td>0.598701</td>\n",
              "    </tr>\n",
              "    <tr>\n",
              "      <th>14</th>\n",
              "      <td>MSP</td>\n",
              "      <td>0.021191</td>\n",
              "      <td>0.025430</td>\n",
              "      <td>0.481455</td>\n",
              "      <td>0.485902</td>\n",
              "      <td>0.124928</td>\n",
              "      <td>0.595607</td>\n",
              "    </tr>\n",
              "    <tr>\n",
              "      <th>3</th>\n",
              "      <td>ATL</td>\n",
              "      <td>0.053397</td>\n",
              "      <td>0.051320</td>\n",
              "      <td>1.000000</td>\n",
              "      <td>1.000000</td>\n",
              "      <td>0.088661</td>\n",
              "      <td>0.593308</td>\n",
              "    </tr>\n",
              "    <tr>\n",
              "      <th>28</th>\n",
              "      <td>IAD</td>\n",
              "      <td>0.011703</td>\n",
              "      <td>0.013069</td>\n",
              "      <td>0.310395</td>\n",
              "      <td>0.312308</td>\n",
              "      <td>0.078754</td>\n",
              "      <td>0.585769</td>\n",
              "    </tr>\n",
              "    <tr>\n",
              "      <th>10</th>\n",
              "      <td>LAS</td>\n",
              "      <td>0.027510</td>\n",
              "      <td>0.026360</td>\n",
              "      <td>0.654271</td>\n",
              "      <td>0.659883</td>\n",
              "      <td>0.092537</td>\n",
              "      <td>0.579146</td>\n",
              "    </tr>\n",
              "  </tbody>\n",
              "</table>\n",
              "</div>"
            ],
            "text/plain": [
              "   airport    degree  pagerank  authority       hub   between  closeness\n",
              "9      ORD  0.039726  0.037651   0.837524  0.837720  0.056017   0.598701\n",
              "14     MSP  0.021191  0.025430   0.481455  0.485902  0.124928   0.595607\n",
              "3      ATL  0.053397  0.051320   1.000000  1.000000  0.088661   0.593308\n",
              "28     IAD  0.011703  0.013069   0.310395  0.312308  0.078754   0.585769\n",
              "10     LAS  0.027510  0.026360   0.654271  0.659883  0.092537   0.579146"
            ]
          },
          "metadata": {},
          "execution_count": 334
        }
      ]
    },
    {
      "cell_type": "code",
      "metadata": {
        "colab": {
          "base_uri": "https://localhost:8080/",
          "height": 206
        },
        "id": "h-k1_lmQw-1F",
        "outputId": "d3b58326-bef8-45e8-a4a3-fd514223be32"
      },
      "source": [
        "## sort w.r.t. closeness, ASCENDING\n",
        "Cs_closeness2 = C2.sort_values(by='closeness', ascending=True)\n",
        "Cs_closeness2.head()"
      ],
      "execution_count": 335,
      "outputs": [
        {
          "output_type": "execute_result",
          "data": {
            "text/html": [
              "<div>\n",
              "<style scoped>\n",
              "    .dataframe tbody tr th:only-of-type {\n",
              "        vertical-align: middle;\n",
              "    }\n",
              "\n",
              "    .dataframe tbody tr th {\n",
              "        vertical-align: top;\n",
              "    }\n",
              "\n",
              "    .dataframe thead th {\n",
              "        text-align: right;\n",
              "    }\n",
              "</style>\n",
              "<table border=\"1\" class=\"dataframe\">\n",
              "  <thead>\n",
              "    <tr style=\"text-align: right;\">\n",
              "      <th></th>\n",
              "      <th>airport</th>\n",
              "      <th>degree</th>\n",
              "      <th>pagerank</th>\n",
              "      <th>authority</th>\n",
              "      <th>hub</th>\n",
              "      <th>between</th>\n",
              "      <th>closeness</th>\n",
              "    </tr>\n",
              "  </thead>\n",
              "  <tbody>\n",
              "    <tr>\n",
              "      <th>416</th>\n",
              "      <td>DNE</td>\n",
              "      <td>3.234005e-08</td>\n",
              "      <td>0.000337</td>\n",
              "      <td>0.000000e+00</td>\n",
              "      <td>1.158986e-17</td>\n",
              "      <td>0.0</td>\n",
              "      <td>0.220680</td>\n",
              "    </tr>\n",
              "    <tr>\n",
              "      <th>458</th>\n",
              "      <td>WGO</td>\n",
              "      <td>2.256282e-09</td>\n",
              "      <td>0.000753</td>\n",
              "      <td>0.000000e+00</td>\n",
              "      <td>0.000000e+00</td>\n",
              "      <td>0.0</td>\n",
              "      <td>0.236775</td>\n",
              "    </tr>\n",
              "    <tr>\n",
              "      <th>375</th>\n",
              "      <td>MVW</td>\n",
              "      <td>2.812832e-07</td>\n",
              "      <td>0.001501</td>\n",
              "      <td>3.810571e-14</td>\n",
              "      <td>1.591883e-15</td>\n",
              "      <td>0.0</td>\n",
              "      <td>0.262828</td>\n",
              "    </tr>\n",
              "    <tr>\n",
              "      <th>385</th>\n",
              "      <td>PWT</td>\n",
              "      <td>1.978008e-07</td>\n",
              "      <td>0.000450</td>\n",
              "      <td>2.515234e-13</td>\n",
              "      <td>9.466721e-15</td>\n",
              "      <td>0.0</td>\n",
              "      <td>0.262828</td>\n",
              "    </tr>\n",
              "    <tr>\n",
              "      <th>428</th>\n",
              "      <td>SKA</td>\n",
              "      <td>1.203351e-08</td>\n",
              "      <td>0.000337</td>\n",
              "      <td>0.000000e+00</td>\n",
              "      <td>0.000000e+00</td>\n",
              "      <td>0.0</td>\n",
              "      <td>0.263881</td>\n",
              "    </tr>\n",
              "  </tbody>\n",
              "</table>\n",
              "</div>"
            ],
            "text/plain": [
              "    airport        degree  pagerank  ...           hub  between  closeness\n",
              "416     DNE  3.234005e-08  0.000337  ...  1.158986e-17      0.0   0.220680\n",
              "458     WGO  2.256282e-09  0.000753  ...  0.000000e+00      0.0   0.236775\n",
              "375     MVW  2.812832e-07  0.001501  ...  1.591883e-15      0.0   0.262828\n",
              "385     PWT  1.978008e-07  0.000450  ...  9.466721e-15      0.0   0.262828\n",
              "428     SKA  1.203351e-08  0.000337  ...  0.000000e+00      0.0   0.263881\n",
              "\n",
              "[5 rows x 7 columns]"
            ]
          },
          "metadata": {},
          "execution_count": 335
        }
      ]
    },
    {
      "cell_type": "code",
      "metadata": {
        "id": "GeIlxh5hxCH1"
      },
      "source": [
        "#function that removes vertices until the graph is strongly connected, returns the number of vertices removed\n",
        "#uses sorted dataframe rows, to match sorted airport names with vertex airport names\n",
        "\n",
        "def strong_connection(graph, dataframe_airport, vertex_airport):\n",
        "    g_new = graph.subgraph([v for v in graph.vs()])\n",
        "\n",
        "    for x in dataframe_airport:\n",
        "        if x in vertex_airport:\n",
        "            g_new.delete_vertices((g_new.vs.find(x)).index)\n",
        "            if g_new.is_connected():\n",
        "                break\n",
        "    return graph.vcount() - g_new.vcount()"
      ],
      "execution_count": 336,
      "outputs": []
    },
    {
      "cell_type": "code",
      "metadata": {
        "colab": {
          "base_uri": "https://localhost:8080/"
        },
        "id": "TZimhu26xFqe",
        "outputId": "a0146856-0aa9-48fc-f16f-d178deb8f4ed"
      },
      "source": [
        "print(\"Number of nodes that need to be removed when sorted with:\")\n",
        "print(\"largest score, degree measure:\", \n",
        "      strong_connection(g2, Cs_degree['airport'], g2.vs()['name']))\n",
        "\n",
        "print(\"largest score, pagerank measure:\", \n",
        "    strong_connection(g2, Cs_pagerank['airport'], g2.vs()['name']))\n",
        "\n",
        "print(\"largest score, authority measure:\", \n",
        "   strong_connection(g2, Cs_authority['airport'], g2.vs()['name']))\n",
        "\n",
        "print(\"largest score, hub measure:\", \n",
        "    strong_connection(g2, Cs_hub['airport'], g2.vs()['name']))\n",
        "\n",
        "print(\"largest score, between measure:\", \n",
        "    strong_connection(g2, Cs_between['airport'], g2.vs()['name']))\n",
        "\n",
        "print(\"largest score, closeness measure:\", \n",
        "    strong_connection(g2, Cs_closeness['airport'], g2.vs()['name']))\n",
        "\n",
        "print(\"smallest score, degree measure:\", \n",
        "    strong_connection(g2, Cs_degree2['airport'], g2.vs()['name']))\n",
        "\n",
        "print(\"smallest score, pagerank measure:\",\n",
        "      strong_connection(g2, Cs_pagerank2['airport'], g2.vs()['name']))\n",
        "\n",
        "print(\"smallest score, authority measure:\",\n",
        "    strong_connection(g2, Cs_authority2['airport'], g2.vs()['name']))\n",
        "\n",
        "print(\"smallest score, hub measure:\",\n",
        "    strong_connection(g2, Cs_hub2['airport'], g2.vs()['name']))\n",
        "\n",
        "print(\"smallest score, between measure:\",\n",
        "    strong_connection(g2, Cs_between2['airport'], g2.vs()['name']))\n",
        "\n",
        "print(\"smallest score, closeness measure:\",\n",
        "    strong_connection(g2, Cs_closeness2['airport'], g2.vs()['name']))\n",
        "\n",
        "print(\"When removing nodes with largest scores, we need to remove almost all but one nodes. This number is greatly reduced when removing nodes with smallest scores \")"
      ],
      "execution_count": 337,
      "outputs": [
        {
          "output_type": "stream",
          "name": "stdout",
          "text": [
            "Number of nodes that need to be removed when sorted with:\n",
            "largest score, degree measure: 461\n",
            "largest score, pagerank measure: 461\n",
            "largest score, authority measure: 461\n",
            "largest score, hub measure: 461\n",
            "largest score, between measure: 461\n",
            "largest score, closeness measure: 461\n",
            "smallest score, degree measure: 66\n",
            "smallest score, pagerank measure: 412\n",
            "smallest score, authority measure: 116\n",
            "smallest score, hub measure: 102\n",
            "smallest score, between measure: 347\n",
            "smallest score, closeness measure: 140\n",
            "When removing nodes with largest scores, we need to remove almost all but one nodes. This number is greatly reduced when removing nodes with smallest scores \n"
          ]
        }
      ]
    },
    {
      "cell_type": "markdown",
      "metadata": {
        "id": "LRjEPN4ckm3M"
      },
      "source": [
        "## **Question 5:**"
      ]
    },
    {
      "cell_type": "code",
      "metadata": {
        "colab": {
          "base_uri": "https://localhost:8080/",
          "height": 206
        },
        "id": "FTXR-cJW5zP_",
        "outputId": "3e111f1d-37ad-4c6d-d266-29b0359faccb"
      },
      "source": [
        "## read edges and build weighted directed graph\n",
        "df = pd.read_csv('connections.csv')\n",
        "g = ig.Graph.TupleList([tuple(x) for x in df.values], directed=True, edge_attrs=['weight'])\n",
        "df.head() ## look at a few edges"
      ],
      "execution_count": 300,
      "outputs": [
        {
          "output_type": "execute_result",
          "data": {
            "text/html": [
              "<div>\n",
              "<style scoped>\n",
              "    .dataframe tbody tr th:only-of-type {\n",
              "        vertical-align: middle;\n",
              "    }\n",
              "\n",
              "    .dataframe tbody tr th {\n",
              "        vertical-align: top;\n",
              "    }\n",
              "\n",
              "    .dataframe thead th {\n",
              "        text-align: right;\n",
              "    }\n",
              "</style>\n",
              "<table border=\"1\" class=\"dataframe\">\n",
              "  <thead>\n",
              "    <tr style=\"text-align: right;\">\n",
              "      <th></th>\n",
              "      <th>orig_airport</th>\n",
              "      <th>dest_airport</th>\n",
              "      <th>total_passengers</th>\n",
              "    </tr>\n",
              "  </thead>\n",
              "  <tbody>\n",
              "    <tr>\n",
              "      <th>0</th>\n",
              "      <td>SFO</td>\n",
              "      <td>LAX</td>\n",
              "      <td>1442105</td>\n",
              "    </tr>\n",
              "    <tr>\n",
              "      <th>1</th>\n",
              "      <td>LAX</td>\n",
              "      <td>SFO</td>\n",
              "      <td>1438639</td>\n",
              "    </tr>\n",
              "    <tr>\n",
              "      <th>2</th>\n",
              "      <td>MCO</td>\n",
              "      <td>ATL</td>\n",
              "      <td>1436625</td>\n",
              "    </tr>\n",
              "    <tr>\n",
              "      <th>3</th>\n",
              "      <td>ATL</td>\n",
              "      <td>MCO</td>\n",
              "      <td>1424069</td>\n",
              "    </tr>\n",
              "    <tr>\n",
              "      <th>4</th>\n",
              "      <td>LAX</td>\n",
              "      <td>JFK</td>\n",
              "      <td>1277731</td>\n",
              "    </tr>\n",
              "  </tbody>\n",
              "</table>\n",
              "</div>"
            ],
            "text/plain": [
              "  orig_airport dest_airport  total_passengers\n",
              "0          SFO          LAX           1442105\n",
              "1          LAX          SFO           1438639\n",
              "2          MCO          ATL           1436625\n",
              "3          ATL          MCO           1424069\n",
              "4          LAX          JFK           1277731"
            ]
          },
          "metadata": {},
          "execution_count": 300
        }
      ]
    },
    {
      "cell_type": "code",
      "metadata": {
        "id": "v0h1uR1F6OJa"
      },
      "source": [
        "## read vertex attributes and add to graph\n",
        "A = pd.read_csv('airports_loc.csv')\n",
        "lookup = {k:v for v,k in enumerate(A['airport'])}\n",
        "l = [lookup[x] for x in g.vs()['name']]\n",
        "g.vs()['layout'] = [(A['lon'][i],A['lat'][i]) for i in l]\n",
        "g.vs()['state'] = [A['state'][i] for i in l]\n",
        "g.vs()['city'] = [A['city'][i] for i in l]\n",
        "A.head() ## first few rows in A\n",
        "A[\"state\"].unique()\n",
        "V_g=ig.VertexClustering(g)\n",
        "V_a = V_g.FromAttribute(g, attribute = 'state')\n"
      ],
      "execution_count": 301,
      "outputs": []
    },
    {
      "cell_type": "code",
      "metadata": {
        "id": "I8h0R5ymlX60"
      },
      "source": [
        "G= g.contract_vertices(V_a.membership, combine_attrs='first')\n",
        "## Removing the loops and summing the weights\n",
        "G = g.simplify(multiple=True, combine_edges='sum')\n"
      ],
      "execution_count": 302,
      "outputs": []
    },
    {
      "cell_type": "code",
      "metadata": {
        "id": "6GCkwxI98zk5"
      },
      "source": [
        "# memebersip list(mapping) to use as a parameter in contract vertices function\n",
        "mem_lst=[] # memebersip list\n",
        "state_lst= list(set(A['state']))\n",
        "for i in range(g.vcount()):\n",
        "    for j in state_lst:\n",
        "        if g.vs()[i]['state']==j:\n",
        "            mem_lst.append(state_lst.index(j))"
      ],
      "execution_count": 303,
      "outputs": []
    },
    {
      "cell_type": "markdown",
      "metadata": {
        "id": "umJt6RFUVg25"
      },
      "source": [
        "(a)"
      ]
    },
    {
      "cell_type": "code",
      "metadata": {
        "colab": {
          "base_uri": "https://localhost:8080/"
        },
        "id": "mQs7rm-h_AeR",
        "outputId": "b31eb7e8-1a09-43e2-e7f8-a0a579269db5"
      },
      "source": [
        "print(g.clusters(mode='WEAK').giant().vcount(),'out of',g.vcount(),'are in giant (weak) component')\n",
        "print(g.clusters(mode='STRONG').giant().vcount(),'out of',g.vcount(),'are in giant (strong) component')\n",
        "print(\"Is the new graph G weakly connected:\",G.is_connected(mode=\"weak\"))\n",
        "print(\"Is the new graph G strongly connected:\", G.is_connected(mode='strong'))"
      ],
      "execution_count": 304,
      "outputs": [
        {
          "output_type": "stream",
          "name": "stdout",
          "text": [
            "51 out of 51 are in giant (weak) component\n",
            "51 out of 51 are in giant (strong) component\n",
            "Is the new graph G weakly connected: True\n",
            "Is the new graph G strongly connected: True\n"
          ]
        }
      ]
    },
    {
      "cell_type": "code",
      "metadata": {
        "id": "FSsPOkMadqYo"
      },
      "source": [
        "#np.max(G.degree(mode=\"out\"))"
      ],
      "execution_count": 305,
      "outputs": []
    },
    {
      "cell_type": "markdown",
      "metadata": {
        "id": "Dmt4PCaKWjoW"
      },
      "source": [
        "(b)"
      ]
    },
    {
      "cell_type": "code",
      "metadata": {
        "colab": {
          "base_uri": "https://localhost:8080/"
        },
        "id": "bn4PStFkXUsM",
        "outputId": "47fc0c1c-417f-4c6c-82a6-8b3306a53f51"
      },
      "source": [
        "in_degree = G.vs()['state'][np.argmax(G.degree(mode=\"in\"))]\n",
        "\n",
        "print(\"State that has the most incoming passengers: \",in_degree) "
      ],
      "execution_count": 306,
      "outputs": [
        {
          "output_type": "stream",
          "name": "stdout",
          "text": [
            "State that has the most incoming passengers:  IL\n"
          ]
        }
      ]
    },
    {
      "cell_type": "code",
      "metadata": {
        "colab": {
          "base_uri": "https://localhost:8080/"
        },
        "id": "p8of7pBaaDXq",
        "outputId": "bca48580-089c-408a-deac-0cd140e03a54"
      },
      "source": [
        "out_degree = G.vs()['state'][np.argmax(G.degree(mode=\"out\"))]\n",
        "\n",
        "print(\"State that has the most departing passengers: \",out_degree) "
      ],
      "execution_count": 307,
      "outputs": [
        {
          "output_type": "stream",
          "name": "stdout",
          "text": [
            "State that has the most departing passengers:  IL\n"
          ]
        }
      ]
    },
    {
      "cell_type": "code",
      "metadata": {
        "colab": {
          "base_uri": "https://localhost:8080/"
        },
        "id": "fSgF_F4xHkhl",
        "outputId": "dd0cecd2-18e3-4464-b6b5-5e84f75d24b3"
      },
      "source": [
        "max_wt= max([i for i in G.es()['weight']])\n",
        "for e in G.es:\n",
        "    if e['weight']==max_wt:\n",
        "        print(G.vs()[e.tuple[0]]['state'] ,G.vs()[e.tuple[1]]['state'] )"
      ],
      "execution_count": 308,
      "outputs": [
        {
          "output_type": "stream",
          "name": "stdout",
          "text": [
            "FL GA\n"
          ]
        }
      ]
    },
    {
      "cell_type": "markdown",
      "metadata": {
        "id": "EX4cfDnihInF"
      },
      "source": [
        "(c) Which pair of two states, x and y, have the most passengers\n",
        "travelling from x to y (directed weight)?"
      ]
    },
    {
      "cell_type": "code",
      "metadata": {
        "colab": {
          "base_uri": "https://localhost:8080/"
        },
        "id": "5VdtYTGkghci",
        "outputId": "254fc462-54d1-4c81-f7ce-c983f5f4e5b9"
      },
      "source": [
        "\n",
        "x= g.vs()['state'][g.es[np.argmax((g.es['weight']))].source]\n",
        "y = g.vs()['state'][g.es[np.argmax((g.es['weight']))].target]\n",
        "print(\"The pair of states :{} and {}\".format(x,y))"
      ],
      "execution_count": 309,
      "outputs": [
        {
          "output_type": "stream",
          "name": "stdout",
          "text": [
            "The pair of states :FL and GA\n"
          ]
        }
      ]
    },
    {
      "cell_type": "markdown",
      "metadata": {
        "id": "FlLO_38uhjR-"
      },
      "source": [
        "(d) Recreate Table 3.3 for graph G. Which states have the highest\n",
        "degree centrality? Betweenness centrality?\n"
      ]
    },
    {
      "cell_type": "code",
      "metadata": {
        "id": "cUS0_ShXHyPF"
      },
      "source": [
        "## compute normalized weights \n",
        "mw = np.max(G.es['weight'])\n",
        "G.es()['normalized_weight'] = [w/mw for w in G.es()['weight']]\n",
        "\n",
        "## directed degree centrality\n",
        "def degree_centrality(g, weights=None):\n",
        "    n = g.vcount()\n",
        "    if g.is_directed():\n",
        "        dc = [sum(x)/(2*(n-1)) for x in zip(g.strength(mode='in',weights=weights),\\\n",
        "              g.strength(mode='out',weights=weights))]\n",
        "    else:\n",
        "        dc = [x/(n-1) for x in g.strength(weights=weights)]\n",
        "    return dc\n",
        "\n",
        "\n",
        "C = pd.DataFrame({'States':G.vs()['state'],\\\n",
        "                  'degree':degree_centrality(G,weights='normalized_weight'),\\\n",
        "                  'pagerank':G.pagerank(weights='weight'),'authority':G.authority_score(weights='weight'),\\\n",
        "                  'hub':G.hub_score(weights='weight'),'between':G.betweenness(),\\\n",
        "                  'closeness':G.closeness()})"
      ],
      "execution_count": 310,
      "outputs": []
    },
    {
      "cell_type": "code",
      "metadata": {
        "colab": {
          "base_uri": "https://localhost:8080/",
          "height": 206
        },
        "id": "GBo_ZdYy4SMS",
        "outputId": "cad6a78a-ac7f-4e84-cfb2-2a28310fb470"
      },
      "source": [
        "## normalize betweenness\n",
        "n2 = G.vcount()\n",
        "C['between'] = [2*x/((n2-1)*(n2-2)) for x in C['between']]\n",
        "\n",
        "## sort w.r.t. degree centrality, look at top airports\n",
        "Cs = C.sort_values(by='degree', ascending=False)\n",
        "Cs.head()\n"
      ],
      "execution_count": 311,
      "outputs": [
        {
          "output_type": "execute_result",
          "data": {
            "text/html": [
              "<div>\n",
              "<style scoped>\n",
              "    .dataframe tbody tr th:only-of-type {\n",
              "        vertical-align: middle;\n",
              "    }\n",
              "\n",
              "    .dataframe tbody tr th {\n",
              "        vertical-align: top;\n",
              "    }\n",
              "\n",
              "    .dataframe thead th {\n",
              "        text-align: right;\n",
              "    }\n",
              "</style>\n",
              "<table border=\"1\" class=\"dataframe\">\n",
              "  <thead>\n",
              "    <tr style=\"text-align: right;\">\n",
              "      <th></th>\n",
              "      <th>States</th>\n",
              "      <th>degree</th>\n",
              "      <th>pagerank</th>\n",
              "      <th>authority</th>\n",
              "      <th>hub</th>\n",
              "      <th>between</th>\n",
              "      <th>closeness</th>\n",
              "    </tr>\n",
              "  </thead>\n",
              "  <tbody>\n",
              "    <tr>\n",
              "      <th>0</th>\n",
              "      <td>CA</td>\n",
              "      <td>0.135169</td>\n",
              "      <td>0.075945</td>\n",
              "      <td>0.969771</td>\n",
              "      <td>0.971337</td>\n",
              "      <td>0.021798</td>\n",
              "      <td>0.943396</td>\n",
              "    </tr>\n",
              "    <tr>\n",
              "      <th>1</th>\n",
              "      <td>FL</td>\n",
              "      <td>0.131269</td>\n",
              "      <td>0.073844</td>\n",
              "      <td>1.000000</td>\n",
              "      <td>1.000000</td>\n",
              "      <td>0.025327</td>\n",
              "      <td>0.943396</td>\n",
              "    </tr>\n",
              "    <tr>\n",
              "      <th>7</th>\n",
              "      <td>TX</td>\n",
              "      <td>0.130073</td>\n",
              "      <td>0.077688</td>\n",
              "      <td>0.925013</td>\n",
              "      <td>0.925349</td>\n",
              "      <td>0.028044</td>\n",
              "      <td>0.980392</td>\n",
              "    </tr>\n",
              "    <tr>\n",
              "      <th>2</th>\n",
              "      <td>GA</td>\n",
              "      <td>0.107684</td>\n",
              "      <td>0.064350</td>\n",
              "      <td>0.829178</td>\n",
              "      <td>0.827263</td>\n",
              "      <td>0.024180</td>\n",
              "      <td>0.961538</td>\n",
              "    </tr>\n",
              "    <tr>\n",
              "      <th>5</th>\n",
              "      <td>IL</td>\n",
              "      <td>0.104197</td>\n",
              "      <td>0.063423</td>\n",
              "      <td>0.743696</td>\n",
              "      <td>0.742924</td>\n",
              "      <td>0.037366</td>\n",
              "      <td>1.000000</td>\n",
              "    </tr>\n",
              "  </tbody>\n",
              "</table>\n",
              "</div>"
            ],
            "text/plain": [
              "  States    degree  pagerank  authority       hub   between  closeness\n",
              "0     CA  0.135169  0.075945   0.969771  0.971337  0.021798   0.943396\n",
              "1     FL  0.131269  0.073844   1.000000  1.000000  0.025327   0.943396\n",
              "7     TX  0.130073  0.077688   0.925013  0.925349  0.028044   0.980392\n",
              "2     GA  0.107684  0.064350   0.829178  0.827263  0.024180   0.961538\n",
              "5     IL  0.104197  0.063423   0.743696  0.742924  0.037366   1.000000"
            ]
          },
          "metadata": {},
          "execution_count": 311
        }
      ]
    },
    {
      "cell_type": "code",
      "metadata": {
        "id": "zJQvHh9K4U88"
      },
      "source": [
        ""
      ],
      "execution_count": null,
      "outputs": []
    }
  ]
}