{
 "cells": [
  {
   "cell_type": "markdown",
   "id": "ideal-butler",
   "metadata": {},
   "source": [
    "# Question 1"
   ]
  },
  {
   "cell_type": "code",
   "execution_count": 1,
   "id": "manufactured-david",
   "metadata": {},
   "outputs": [],
   "source": [
    "import igraph as ig\n",
    "import numpy as np\n",
    "import pandas as pd\n",
    "import matplotlib.pyplot as plt\n",
    "from sklearn.linear_model import LinearRegression\n",
    "from collections import Counter\n",
    "from math import isnan"
   ]
  },
  {
   "cell_type": "code",
   "execution_count": 2,
   "id": "dying-reception",
   "metadata": {},
   "outputs": [],
   "source": [
    "##Below code was taken from our lab"
   ]
  },
  {
   "cell_type": "code",
   "execution_count": 3,
   "id": "communist-asian",
   "metadata": {},
   "outputs": [],
   "source": [
    "# undirected graph degree correlation\n",
    "def deg_corr(G):\n",
    "    idx = {v:k for k,v in enumerate([i for i in set(G.degree())])}\n",
    "    idx_inv = {k:v for k,v in enumerate(idx)}\n",
    "    deg = G.degree()\n",
    "    L = [[] for i in range(len(idx))]\n",
    "    for v in G.vs():\n",
    "        # w = [deg[i] for i in list(set(G.neighbors(v)))] \n",
    "        w = [deg[i] for i in G.neighbors(v)] \n",
    "        L[idx[v.degree()]].extend(w)\n",
    "    return {idx_inv[i]:np.mean(L[i]) for i in range(len(L))}\n",
    "\n",
    "# degree correlation for neutral graphs: <k^2>/<k>\n",
    "# to find uncorrelated knn\n",
    "def deg_corr_neutral(G, mode='all'):\n",
    "    x = G.degree(mode=mode)\n",
    "    return np.mean([i**2 for i in x])/np.mean(x)   \n",
    "\n",
    "# for a fixed l \n",
    "def richClub(g, l=1):\n",
    "    g.vs()['degree'] = g.degree()\n",
    "    l_max = np.max(g.degree())\n",
    "    c = Counter(g.degree())\n",
    "    n = g.vcount()\n",
    "    moment = np.sum([k*c[k]/n for k in c])**2\n",
    "    S = [k*c[k]/n for k in c if k>=l]\n",
    "    phi_hat = np.sum([x*y for x in S for y in S])*g.ecount()/moment\n",
    "    G = g.subgraph([v for v in g.vs() if v['degree']>=l])\n",
    "    phi = G.ecount()\n",
    "    return phi/phi_hat \n",
    "\n",
    "\n",
    "## Correlation exponent via linear regression (taking logs)\n",
    "def corr_exp(G):\n",
    "    ## compute knn's\n",
    "    knn = deg_corr(G)\n",
    "    \n",
    "    try:\n",
    "        # Fit the regression\n",
    "        regressor = LinearRegression()  \n",
    "        x = [np.log(i) for i in knn.keys()]\n",
    "        y = [np.log(i) for i in knn.values()]\n",
    "        regressor.fit(np.array(x).reshape(-1,1), y)\n",
    "        return regressor.coef_[0]\n",
    "\n",
    "    except:\n",
    "        #removes NAN values\n",
    "        knn = {key: knn[key] for key in knn if not isnan(knn[key])}\n",
    "        \n",
    "        # Fit the regression\n",
    "        regressor = LinearRegression()  \n",
    "        x = [np.log(i) for i in knn.keys()]\n",
    "        y = [np.log(i) for i in knn.values()]\n",
    "        regressor.fit(np.array(x).reshape(-1,1), y)\n",
    "        return regressor.coef_[0]"
   ]
  },
  {
   "cell_type": "code",
   "execution_count": 4,
   "id": "ancient-toolbox",
   "metadata": {},
   "outputs": [
    {
     "name": "stdout",
     "output_type": "stream",
     "text": [
      "GitHub nodes: 37700 ; ml developers: 9739 ; web developers: 27961\n"
     ]
    }
   ],
   "source": [
    "## GitHub Developers (undirected)\n",
    "D = pd.read_csv('musae_git_edges.csv')\n",
    "tuples = [tuple(x) for x in D.values]\n",
    "github_graph = ig.Graph.TupleList(tuples, directed = False)\n",
    "\n",
    "## read node features\n",
    "X = pd.read_csv('musae_git_target.csv')\n",
    "\n",
    "## map node names in edgelist to indices in the graph\n",
    "idx = [int(i) for i in github_graph.vs['name']]\n",
    "sorterIndex = dict(zip(idx,range(len(idx))))\n",
    "X['Rank'] = X['id'].map(sorterIndex) \n",
    "X.sort_values(['Rank'], ascending=[True],inplace=True)\n",
    "X.dropna(inplace=True)\n",
    "\n",
    "cls = ['grey','black'] ## node colors\n",
    "lbl = ['web','ml']     ## node labels\n",
    "github_graph.es['color'] = 'grey' ## edge color\n",
    "\n",
    "## there are 2 node types: ml or web\n",
    "github_graph.vs['color'] = [cls[i] for i in list(X['ml_target'])]\n",
    "github_graph.vs['lbl'] = [lbl[i] for i in list(X['ml_target'])]\n",
    "\n",
    "\n",
    "# building the subgraphs\n",
    "github_graph_ml = github_graph.subgraph([v for v in github_graph.vs() if v['lbl']=='ml'])\n",
    "github_graph_web = github_graph.subgraph([v for v in github_graph.vs() if v['lbl']=='web'])\n",
    "\n",
    "# Number of nodes\n",
    "print('GitHub nodes:',github_graph.vcount(),'; ml developers:',github_graph_ml.vcount(),'; web developers:',github_graph_web.vcount())\n"
   ]
  },
  {
   "cell_type": "code",
   "execution_count": 5,
   "id": "robust-junior",
   "metadata": {},
   "outputs": [],
   "source": [
    "# removing loops\n",
    "\n",
    "github_graph = github_graph.simplify(multiple=False)\n",
    "github_graph_ml = github_graph_ml.simplify(multiple=False)\n",
    "github_graph_web = github_graph_web.simplify(multiple=False)"
   ]
  },
  {
   "cell_type": "markdown",
   "id": "little-baltimore",
   "metadata": {},
   "source": [
    "# Original Graph"
   ]
  },
  {
   "cell_type": "code",
   "execution_count": 6,
   "id": "loving-audience",
   "metadata": {},
   "outputs": [
    {
     "name": "stdout",
     "output_type": "stream",
     "text": [
      "dotted horizontal line shows uncorrelated knn, which is  441.020594941921\n"
     ]
    },
    {
     "data": {
      "image/png": "[encoded data removed]",
      "text/plain": [
       "<Figure size 432x288 with 1 Axes>"
      ]
     },
     "metadata": {
      "needs_background": "light"
     },
     "output_type": "display_data"
    }
   ],
   "source": [
    "LIM = 1000 #degree limit for a clearer graph\n",
    "\n",
    "knn = deg_corr(github_graph)\n",
    "\n",
    "x = list(knn.keys())\n",
    "y = list(knn.values())\n",
    "\n",
    "knn2 = deg_corr_neutral(github_graph) #gives us uncorrelated knn\n",
    "\n",
    "plt.xlim((0,LIM))\n",
    "plt.scatter(x,y,marker='.',c='black')\n",
    "\n",
    "plt.hlines(y=knn2,xmin=min(x),xmax=max(x),linestyles=':')\n",
    "plt.xlabel(r'degree ($\\ell$)',fontsize=12)\n",
    "plt.ylabel(r'$k_{nn}(\\ell)$',fontsize=12);\n",
    "print(\"dotted horizontal line shows uncorrelated knn, which is \", knn2)"
   ]
  },
  {
   "cell_type": "code",
   "execution_count": 7,
   "id": "black-miniature",
   "metadata": {},
   "outputs": [
    {
     "name": "stdout",
     "output_type": "stream",
     "text": [
      "degree correlation coefficient r:  -0.07521713413904482\n",
      "correlation exponent (mu)  -0.5076879013701247\n"
     ]
    }
   ],
   "source": [
    "#degree correlation coefficient r (often referred to as assortativity)\n",
    "#correlation exponent (mu) via regression\n",
    "\n",
    "print(\"degree correlation coefficient r: \", github_graph.assortativity_degree())\n",
    "print(\"correlation exponent (mu) \", corr_exp(github_graph))"
   ]
  },
  {
   "cell_type": "code",
   "execution_count": 8,
   "id": "metropolitan-finance",
   "metadata": {},
   "outputs": [
    {
     "name": "stdout",
     "output_type": "stream",
     "text": [
      "given p(l) < 1, there is evidence for anti-rich club\n"
     ]
    },
    {
     "data": {
      "image/png": "[encoded data removed]",
      "text/plain": [
       "<Figure size 432x288 with 1 Axes>"
      ]
     },
     "metadata": {
      "needs_background": "light"
     },
     "output_type": "display_data"
    }
   ],
   "source": [
    "## Rich club \n",
    "d = list(set(github_graph.degree()))\n",
    "rc = []\n",
    "for i in d:\n",
    "    rc.append(richClub(github_graph, l=i))\n",
    "plt.semilogx(d,rc,'.',c='black')\n",
    "plt.xlabel(r'degree $\\ell$',fontsize=12)\n",
    "plt.ylabel(r'rich club coefficient $\\rho(\\ell)$');\n",
    "print(\"given p(l) < 1, there is evidence for anti-rich club\")"
   ]
  },
  {
   "cell_type": "markdown",
   "id": "regulated-tournament",
   "metadata": {},
   "source": [
    "# ML Developers"
   ]
  },
  {
   "cell_type": "code",
   "execution_count": 9,
   "id": "retained-michigan",
   "metadata": {},
   "outputs": [
    {
     "name": "stdout",
     "output_type": "stream",
     "text": [
      "dotted horizontal line shows uncorrelated knn, which is  36.43680146311726\n"
     ]
    },
    {
     "name": "stderr",
     "output_type": "stream",
     "text": [
      "C:\\Users\\G\\anaconda3\\envs\\tensorflow_sessions\\lib\\site-packages\\numpy\\core\\fromnumeric.py:3372: RuntimeWarning: Mean of empty slice.\n",
      "  return _methods._mean(a, axis=axis, dtype=dtype,\n",
      "C:\\Users\\G\\anaconda3\\envs\\tensorflow_sessions\\lib\\site-packages\\numpy\\core\\_methods.py:170: RuntimeWarning: invalid value encountered in double_scalars\n",
      "  ret = ret.dtype.type(ret / rcount)\n"
     ]
    },
    {
     "data": {
      "image/png": "[encoded data removed]",
      "text/plain": [
       "<Figure size 432x288 with 1 Axes>"
      ]
     },
     "metadata": {
      "needs_background": "light"
     },
     "output_type": "display_data"
    }
   ],
   "source": [
    "knn = deg_corr(github_graph_ml)\n",
    "\n",
    "x = list(knn.keys())\n",
    "y = list(knn.values())\n",
    "\n",
    "knn2 = deg_corr_neutral(github_graph_ml) #gives us uncorrelated knn\n",
    "\n",
    "\n",
    "plt.scatter(x,y,marker='.',c='black')\n",
    "\n",
    "plt.hlines(y=knn2,xmin=min(x),xmax=max(x),linestyles=':')\n",
    "plt.xlabel(r'degree ($\\ell$)',fontsize=12)\n",
    "plt.ylabel(r'$k_{nn}(\\ell)$',fontsize=12)\n",
    "print(\"dotted horizontal line shows uncorrelated knn, which is \", knn2)"
   ]
  },
  {
   "cell_type": "code",
   "execution_count": 10,
   "id": "american-concord",
   "metadata": {},
   "outputs": [
    {
     "name": "stdout",
     "output_type": "stream",
     "text": [
      "degree correlation coefficient r:  -0.09098692775064464\n",
      "correlation exponent (mu)  -0.25142348768180356\n"
     ]
    },
    {
     "name": "stderr",
     "output_type": "stream",
     "text": [
      "<ipython-input-3-fb3b56470193>:41: RuntimeWarning: divide by zero encountered in log\n",
      "  x = [np.log(i) for i in knn.keys()]\n"
     ]
    }
   ],
   "source": [
    "#degree correlation coefficient r (often referred to as assortativity)\n",
    "#correlation exponent (mu) via regression\n",
    "\n",
    "print(\"degree correlation coefficient r: \", github_graph_ml.assortativity_degree())\n",
    "print(\"correlation exponent (mu) \", corr_exp(github_graph_ml))"
   ]
  },
  {
   "cell_type": "code",
   "execution_count": 11,
   "id": "preliminary-tobago",
   "metadata": {},
   "outputs": [
    {
     "name": "stdout",
     "output_type": "stream",
     "text": [
      "given p(l) < 1, there is evidence for anti-rich club\n"
     ]
    },
    {
     "data": {
      "image/png": "[encoded data removed]",
      "text/plain": [
       "<Figure size 432x288 with 1 Axes>"
      ]
     },
     "metadata": {
      "needs_background": "light"
     },
     "output_type": "display_data"
    }
   ],
   "source": [
    "## Rich club \n",
    "d = list(set(github_graph_ml.degree()))\n",
    "rc = []\n",
    "for i in d:\n",
    "    rc.append(richClub(github_graph_ml, l=i))\n",
    "plt.semilogx(d,rc,'.',c='black')\n",
    "plt.xlabel(r'degree $\\ell$',fontsize=12)\n",
    "plt.ylabel(r'rich club coefficient $\\rho(\\ell)$')\n",
    "print(\"given p(l) < 1, there is evidence for anti-rich club\")"
   ]
  },
  {
   "cell_type": "markdown",
   "id": "comparable-islam",
   "metadata": {},
   "source": [
    "# Web Developers"
   ]
  },
  {
   "cell_type": "code",
   "execution_count": 12,
   "id": "turned-controversy",
   "metadata": {},
   "outputs": [
    {
     "name": "stdout",
     "output_type": "stream",
     "text": [
      "dotted horizontal line shows uncorrelated knn, which is  420.39156275181074\n"
     ]
    },
    {
     "name": "stderr",
     "output_type": "stream",
     "text": [
      "C:\\Users\\G\\anaconda3\\envs\\tensorflow_sessions\\lib\\site-packages\\numpy\\core\\fromnumeric.py:3372: RuntimeWarning: Mean of empty slice.\n",
      "  return _methods._mean(a, axis=axis, dtype=dtype,\n",
      "C:\\Users\\G\\anaconda3\\envs\\tensorflow_sessions\\lib\\site-packages\\numpy\\core\\_methods.py:170: RuntimeWarning: invalid value encountered in double_scalars\n",
      "  ret = ret.dtype.type(ret / rcount)\n"
     ]
    },
    {
     "data": {
      "image/png": "[encoded data removed]",
      "text/plain": [
       "<Figure size 432x288 with 1 Axes>"
      ]
     },
     "metadata": {
      "needs_background": "light"
     },
     "output_type": "display_data"
    }
   ],
   "source": [
    "knn = deg_corr(github_graph_web)\n",
    "\n",
    "LIM = 1000 #degree limit for a clearer graph\n",
    "\n",
    "x = list(knn.keys())\n",
    "y = list(knn.values())\n",
    "\n",
    "knn2 = deg_corr_neutral(github_graph_web) #gives us uncorrelated knn\n",
    "\n",
    "plt.xlim((0,LIM))\n",
    "plt.scatter(x,y,marker='.',c='black')\n",
    "\n",
    "plt.hlines(y=knn2,xmin=min(x),xmax=max(x),linestyles=':')\n",
    "plt.xlabel(r'degree ($\\ell$)',fontsize=12)\n",
    "plt.ylabel(r'$k_{nn}(\\ell)$',fontsize=12)\n",
    "print(\"dotted horizontal line shows uncorrelated knn, which is \", knn2)"
   ]
  },
  {
   "cell_type": "code",
   "execution_count": 13,
   "id": "racial-automation",
   "metadata": {},
   "outputs": [
    {
     "name": "stdout",
     "output_type": "stream",
     "text": [
      "degree correlation coefficient r:  -0.08714757315866846\n",
      "correlation exponent (mu)  -0.5151040696086917\n"
     ]
    },
    {
     "name": "stderr",
     "output_type": "stream",
     "text": [
      "<ipython-input-3-fb3b56470193>:41: RuntimeWarning: divide by zero encountered in log\n",
      "  x = [np.log(i) for i in knn.keys()]\n"
     ]
    }
   ],
   "source": [
    "#degree correlation coefficient r (often referred to as assortativity)\n",
    "#correlation exponent (mu) via regression\n",
    "\n",
    "print(\"degree correlation coefficient r: \", github_graph_web.assortativity_degree())\n",
    "print(\"correlation exponent (mu) \", corr_exp(github_graph_web))"
   ]
  },
  {
   "cell_type": "code",
   "execution_count": 14,
   "id": "hidden-resolution",
   "metadata": {},
   "outputs": [
    {
     "name": "stdout",
     "output_type": "stream",
     "text": [
      "given p(l) < 1, there is evidence for anti-rich club\n"
     ]
    },
    {
     "data": {
      "image/png": "[encoded data removed]",
      "text/plain": [
       "<Figure size 432x288 with 1 Axes>"
      ]
     },
     "metadata": {
      "needs_background": "light"
     },
     "output_type": "display_data"
    }
   ],
   "source": [
    "## Rich club \n",
    "d = list(set(github_graph_web.degree()))\n",
    "rc = []\n",
    "for i in d:\n",
    "    rc.append(richClub(github_graph_web, l=i))\n",
    "plt.semilogx(d,rc,'.',c='black')\n",
    "plt.xlabel(r'degree $\\ell$',fontsize=12)\n",
    "plt.ylabel(r'rich club coefficient $\\rho(\\ell)$')\n",
    "print(\"given p(l) < 1, there is evidence for anti-rich club\")"
   ]
  },
  {
   "cell_type": "code",
   "execution_count": null,
   "id": "basic-tiger",
   "metadata": {},
   "outputs": [],
   "source": []
  }
 ],
 "metadata": {
  "kernelspec": {
   "display_name": "Python 3",
   "language": "python",
   "name": "python3"
  },
  "language_info": {
   "codemirror_mode": {
    "name": "ipython",
    "version": 3
   },
   "file_extension": ".py",
   "mimetype": "text/x-python",
   "name": "python",
   "nbconvert_exporter": "python",
   "pygments_lexer": "ipython3",
   "version": "3.8.8"
  }
 },
 "nbformat": 4,
 "nbformat_minor": 5
}
