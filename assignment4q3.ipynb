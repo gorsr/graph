{
 "cells": [
  {
   "cell_type": "markdown",
   "id": "ready-device",
   "metadata": {
    "id": "ready-device"
   },
   "source": [
    "# Question 3"
   ]
  },
  {
   "cell_type": "code",
   "execution_count": 1,
   "id": "manufactured-david",
   "metadata": {
    "id": "manufactured-david"
   },
   "outputs": [],
   "source": [
    "import igraph as ig\n",
    "import numpy as np\n",
    "import pandas as pd\n",
    "import matplotlib.pyplot as plt\n",
    "from sklearn.linear_model import LinearRegression\n",
    "from collections import Counter\n",
    "from math import isnan"
   ]
  },
  {
   "cell_type": "code",
   "execution_count": 2,
   "id": "dying-reception",
   "metadata": {
    "id": "dying-reception"
   },
   "outputs": [],
   "source": [
    "##Below code was taken from our lab"
   ]
  },
  {
   "cell_type": "code",
   "execution_count": 3,
   "id": "communist-asian",
   "metadata": {
    "id": "communist-asian"
   },
   "outputs": [],
   "source": [
    "# undirected graph degree correlation\n",
    "def deg_corr(G):\n",
    "    idx = {v:k for k,v in enumerate([i for i in set(G.degree())])}\n",
    "    idx_inv = {k:v for k,v in enumerate(idx)}\n",
    "    deg = G.degree()\n",
    "    L = [[] for i in range(len(idx))]\n",
    "    for v in G.vs():\n",
    "        # w = [deg[i] for i in list(set(G.neighbors(v)))] \n",
    "        w = [deg[i] for i in G.neighbors(v)] \n",
    "        L[idx[v.degree()]].extend(w)\n",
    "    return {idx_inv[i]:np.mean(L[i]) for i in range(len(L))}\n",
    "\n",
    "# degree correlation for neutral graphs: <k^2>/<k>\n",
    "# to find uncorrelated knn\n",
    "def deg_corr_neutral(G, mode='all'):\n",
    "    x = G.degree(mode=mode)\n",
    "    return np.mean([i**2 for i in x])/np.mean(x)   \n",
    "\n",
    "# for a fixed l \n",
    "def richClub(g, l=1):\n",
    "    g.vs()['degree'] = g.degree()\n",
    "    l_max = np.max(g.degree())\n",
    "    c = Counter(g.degree())\n",
    "    n = g.vcount()\n",
    "    moment = np.sum([k*c[k]/n for k in c])**2\n",
    "    S = [k*c[k]/n for k in c if k>=l]\n",
    "    phi_hat = np.sum([x*y for x in S for y in S])*g.ecount()/moment\n",
    "    G = g.subgraph([v for v in g.vs() if v['degree']>=l])\n",
    "    phi = G.ecount()\n",
    "    return phi/phi_hat \n",
    "\n",
    "\n",
    "## Correlation exponent via linear regression (taking logs)\n",
    "def corr_exp(G):\n",
    "    ## compute knn's\n",
    "    knn = deg_corr(G)\n",
    "    \n",
    "    try:\n",
    "        # Fit the regression\n",
    "        regressor = LinearRegression()  \n",
    "        x = [np.log(i) for i in knn.keys()]\n",
    "        y = [np.log(i) for i in knn.values()]\n",
    "        regressor.fit(np.array(x).reshape(-1,1), y)\n",
    "        return regressor.coef_[0]\n",
    "\n",
    "    except:\n",
    "        #removes NAN values\n",
    "        knn = {key: knn[key] for key in knn if not isnan(knn[key])}\n",
    "        \n",
    "        # Fit the regression\n",
    "        regressor = LinearRegression()  \n",
    "        x = [np.log(i) for i in knn.keys()]\n",
    "        y = [np.log(i) for i in knn.values()]\n",
    "        regressor.fit(np.array(x).reshape(-1,1), y)\n",
    "        return regressor.coef_[0]"
   ]
  },
  {
   "cell_type": "code",
   "execution_count": 4,
   "id": "ancient-toolbox",
   "metadata": {
    "id": "ancient-toolbox",
    "outputId": "c9916309-3f2e-4c59-9b05-e5914d0c762b"
   },
   "outputs": [
    {
     "name": "stdout",
     "output_type": "stream",
     "text": [
      "GitHub nodes: 37700 ; ml developers: 9739 ; web developers: 27961\n"
     ]
    }
   ],
   "source": [
    "## GitHub Developers (undirected)\n",
    "D = pd.read_csv('musae_git_edges.csv')\n",
    "tuples = [tuple(x) for x in D.values]\n",
    "github_graph = ig.Graph.TupleList(tuples, directed = False)\n",
    "\n",
    "## read node features\n",
    "X = pd.read_csv('musae_git_target.csv')\n",
    "\n",
    "## map node names in edgelist to indices in the graph\n",
    "idx = [int(i) for i in github_graph.vs['name']]\n",
    "sorterIndex = dict(zip(idx,range(len(idx))))\n",
    "X['Rank'] = X['id'].map(sorterIndex) \n",
    "X.sort_values(['Rank'], ascending=[True],inplace=True)\n",
    "X.dropna(inplace=True)\n",
    "\n",
    "cls = ['grey','black'] ## node colors\n",
    "lbl = ['web','ml']     ## node labels\n",
    "github_graph.es['color'] = 'grey' ## edge color\n",
    "\n",
    "## there are 2 node types: ml or web\n",
    "github_graph.vs['color'] = [cls[i] for i in list(X['ml_target'])]\n",
    "github_graph.vs['lbl'] = [lbl[i] for i in list(X['ml_target'])]\n",
    "\n",
    "\n",
    "# building the subgraphs\n",
    "github_graph_ml = github_graph.subgraph([v for v in github_graph.vs() if v['lbl']=='ml'])\n",
    "github_graph_web = github_graph.subgraph([v for v in github_graph.vs() if v['lbl']=='web'])\n",
    "\n",
    "# Number of nodes\n",
    "print('GitHub nodes:',github_graph.vcount(),'; ml developers:',github_graph_ml.vcount(),'; web developers:',github_graph_web.vcount())\n"
   ]
  },
  {
   "cell_type": "code",
   "execution_count": 5,
   "id": "handed-democrat",
   "metadata": {
    "id": "handed-democrat",
    "outputId": "ee664b8c-7445-46f8-9aa7-a3b73edd7262"
   },
   "outputs": [
    {
     "name": "stdout",
     "output_type": "stream",
     "text": [
      "GitHub edges: 289003 ; ml developers: 19684 ; web developers: 224623\n"
     ]
    }
   ],
   "source": [
    "# Number of edges\n",
    "print('GitHub edges:',github_graph.ecount(),'; ml developers:',github_graph_ml.ecount(),'; web developers:',github_graph_web.ecount())\n"
   ]
  },
  {
   "cell_type": "code",
   "execution_count": 6,
   "id": "robust-junior",
   "metadata": {
    "id": "robust-junior"
   },
   "outputs": [],
   "source": [
    "# removing loops\n",
    "\n",
    "github_graph = github_graph.simplify(multiple=False)\n",
    "github_graph_ml = github_graph_ml.simplify(multiple=False)\n",
    "github_graph_web = github_graph_web.simplify(multiple=False)"
   ]
  },
  {
   "cell_type": "markdown",
   "id": "incorporated-punishment",
   "metadata": {
    "id": "incorporated-punishment"
   },
   "source": [
    "# c = 0.5"
   ]
  },
  {
   "cell_type": "code",
   "execution_count": 7,
   "id": "known-federation",
   "metadata": {
    "id": "known-federation"
   },
   "outputs": [],
   "source": [
    "# rewiring using rewire() function\n",
    "# rewire(n=1000, mode='simple')\n",
    "# n, is the number of trials\n",
    "# mode='simple' does not create or destroy loops\n",
    "# for the number of trials, I did number of edges * c (cm edge switching)\n",
    "\n",
    "c = 0.5\n",
    "\n",
    "github_graph2 = github_graph.copy()\n",
    "github_graph2.rewire(round(github_graph.ecount()*c), mode='simple')\n",
    "\n",
    "github_graph_ml2 = github_graph_ml.copy()\n",
    "github_graph_ml2.rewire(round(github_graph_ml.ecount()*c), mode='simple')\n",
    "\n",
    "github_graph_web2 = github_graph_web.copy()\n",
    "github_graph_web2.rewire(round(github_graph_web.ecount()*c), mode='simple')"
   ]
  },
  {
   "cell_type": "markdown",
   "id": "little-baltimore",
   "metadata": {
    "id": "little-baltimore"
   },
   "source": [
    "# Original Graph, c = 0.5"
   ]
  },
  {
   "cell_type": "code",
   "execution_count": 8,
   "id": "loving-audience",
   "metadata": {
    "id": "loving-audience",
    "outputId": "4cffc68c-bb5a-42b3-c966-e2fd0689b55f"
   },
   "outputs": [
    {
     "name": "stdout",
     "output_type": "stream",
     "text": [
      "dotted horizontal line shows uncorrelated knn, which is  441.020594941921\n"
     ]
    },
    {
     "data": {
      "image/png": "[encoded data removed]",
      "text/plain": [
       "<Figure size 432x288 with 1 Axes>"
      ]
     },
     "metadata": {
      "needs_background": "light"
     },
     "output_type": "display_data"
    }
   ],
   "source": [
    "LIM = 1000 #degree limit for a clearer graph\n",
    "\n",
    "knn = deg_corr(github_graph2)\n",
    "\n",
    "x = list(knn.keys())\n",
    "y = list(knn.values())\n",
    "\n",
    "knn2 = deg_corr_neutral(github_graph2) #gives us uncorrelated knn\n",
    "\n",
    "plt.xlim((0,LIM))\n",
    "plt.scatter(x,y,marker='.',c='black')\n",
    "\n",
    "plt.hlines(y=knn2,xmin=min(x),xmax=max(x),linestyles=':')\n",
    "plt.xlabel(r'degree ($\\ell$)',fontsize=12)\n",
    "plt.ylabel(r'$k_{nn}(\\ell)$',fontsize=12);\n",
    "print(\"dotted horizontal line shows uncorrelated knn, which is \", knn2)"
   ]
  },
  {
   "cell_type": "markdown",
   "id": "regulated-tournament",
   "metadata": {
    "id": "regulated-tournament"
   },
   "source": [
    "# ML Developers, c = 0.5"
   ]
  },
  {
   "cell_type": "code",
   "execution_count": 9,
   "id": "retained-michigan",
   "metadata": {
    "id": "retained-michigan",
    "outputId": "ea4b518e-4622-49a8-d470-a61090fd3402"
   },
   "outputs": [
    {
     "name": "stdout",
     "output_type": "stream",
     "text": [
      "dotted horizontal line shows uncorrelated knn, which is  36.43680146311726\n"
     ]
    },
    {
     "name": "stderr",
     "output_type": "stream",
     "text": [
      "C:\\Users\\G\\anaconda3\\envs\\tensorflow_sessions\\lib\\site-packages\\numpy\\core\\fromnumeric.py:3372: RuntimeWarning: Mean of empty slice.\n",
      "  return _methods._mean(a, axis=axis, dtype=dtype,\n",
      "C:\\Users\\G\\anaconda3\\envs\\tensorflow_sessions\\lib\\site-packages\\numpy\\core\\_methods.py:170: RuntimeWarning: invalid value encountered in double_scalars\n",
      "  ret = ret.dtype.type(ret / rcount)\n"
     ]
    },
    {
     "data": {
      "image/png": "[encoded data removed]",
      "text/plain": [
       "<Figure size 432x288 with 1 Axes>"
      ]
     },
     "metadata": {
      "needs_background": "light"
     },
     "output_type": "display_data"
    }
   ],
   "source": [
    "knn = deg_corr(github_graph_ml2)\n",
    "\n",
    "x = list(knn.keys())\n",
    "y = list(knn.values())\n",
    "\n",
    "knn2 = deg_corr_neutral(github_graph_ml2) #gives us uncorrelated knn\n",
    "\n",
    "\n",
    "plt.scatter(x,y,marker='.',c='black')\n",
    "\n",
    "plt.hlines(y=knn2,xmin=min(x),xmax=max(x),linestyles=':')\n",
    "plt.xlabel(r'degree ($\\ell$)',fontsize=12)\n",
    "plt.ylabel(r'$k_{nn}(\\ell)$',fontsize=12)\n",
    "print(\"dotted horizontal line shows uncorrelated knn, which is \", knn2)"
   ]
  },
  {
   "cell_type": "markdown",
   "id": "comparable-islam",
   "metadata": {
    "id": "comparable-islam"
   },
   "source": [
    "# Web Developers, c = 0.5"
   ]
  },
  {
   "cell_type": "code",
   "execution_count": 10,
   "id": "turned-controversy",
   "metadata": {
    "id": "turned-controversy",
    "outputId": "ba7e325e-80a0-41cb-cc21-b735b71801a5"
   },
   "outputs": [
    {
     "name": "stdout",
     "output_type": "stream",
     "text": [
      "dotted horizontal line shows uncorrelated knn, which is  420.39156275181074\n"
     ]
    },
    {
     "data": {
      "image/png": "[encoded data removed]",
      "text/plain": [
       "<Figure size 432x288 with 1 Axes>"
      ]
     },
     "metadata": {
      "needs_background": "light"
     },
     "output_type": "display_data"
    }
   ],
   "source": [
    "knn = deg_corr(github_graph_web2)\n",
    "\n",
    "LIM = 1000 #degree limit for a clearer graph\n",
    "\n",
    "x = list(knn.keys())\n",
    "y = list(knn.values())\n",
    "\n",
    "knn2 = deg_corr_neutral(github_graph_web2) #gives us uncorrelated knn\n",
    "\n",
    "plt.xlim((0,LIM))\n",
    "plt.scatter(x,y,marker='.',c='black')\n",
    "\n",
    "plt.hlines(y=knn2,xmin=min(x),xmax=max(x),linestyles=':')\n",
    "plt.xlabel(r'degree ($\\ell$)',fontsize=12)\n",
    "plt.ylabel(r'$k_{nn}(\\ell)$',fontsize=12)\n",
    "print(\"dotted horizontal line shows uncorrelated knn, which is \", knn2)"
   ]
  },
  {
   "cell_type": "markdown",
   "id": "handled-denmark",
   "metadata": {
    "id": "handled-denmark"
   },
   "source": [
    "# c = 1"
   ]
  },
  {
   "cell_type": "code",
   "execution_count": 11,
   "id": "wound-lecture",
   "metadata": {
    "id": "wound-lecture"
   },
   "outputs": [],
   "source": [
    "# rewiring using rewire() function\n",
    "# rewire(n=1000, mode='simple')\n",
    "# n, is the number of trials\n",
    "# mode='simple' does not create or destroy loops\n",
    "# for the number of trials, I did number of edges * c (cm edge switching)\n",
    "\n",
    "c = 1\n",
    "\n",
    "github_graph2 = github_graph.copy()\n",
    "github_graph2.rewire(github_graph.ecount()*c, mode='simple')\n",
    "\n",
    "github_graph_ml2 = github_graph_ml.copy()\n",
    "github_graph_ml2.rewire(github_graph_ml.ecount()*c, mode='simple')\n",
    "\n",
    "github_graph_web2 = github_graph_web.copy()\n",
    "github_graph_web2.rewire(github_graph_web.ecount()*c, mode='simple')"
   ]
  },
  {
   "cell_type": "markdown",
   "id": "tight-spell",
   "metadata": {
    "id": "tight-spell"
   },
   "source": [
    "# Original Graph, c = 1"
   ]
  },
  {
   "cell_type": "code",
   "execution_count": 12,
   "id": "center-country",
   "metadata": {
    "id": "center-country",
    "outputId": "78f04f50-c3c5-4e6d-e383-35a3b5df8aec"
   },
   "outputs": [
    {
     "name": "stdout",
     "output_type": "stream",
     "text": [
      "dotted horizontal line shows uncorrelated knn, which is  441.020594941921\n"
     ]
    },
    {
     "data": {
      "image/png": "[encoded data removed]",
      "text/plain": [
       "<Figure size 432x288 with 1 Axes>"
      ]
     },
     "metadata": {
      "needs_background": "light"
     },
     "output_type": "display_data"
    }
   ],
   "source": [
    "LIM = 1000 #degree limit for a clearer graph\n",
    "\n",
    "knn = deg_corr(github_graph2)\n",
    "\n",
    "x = list(knn.keys())\n",
    "y = list(knn.values())\n",
    "\n",
    "knn2 = deg_corr_neutral(github_graph2) #gives us uncorrelated knn\n",
    "\n",
    "plt.xlim((0,LIM))\n",
    "plt.scatter(x,y,marker='.',c='black')\n",
    "\n",
    "plt.hlines(y=knn2,xmin=min(x),xmax=max(x),linestyles=':')\n",
    "plt.xlabel(r'degree ($\\ell$)',fontsize=12)\n",
    "plt.ylabel(r'$k_{nn}(\\ell)$',fontsize=12);\n",
    "print(\"dotted horizontal line shows uncorrelated knn, which is \", knn2)"
   ]
  },
  {
   "cell_type": "markdown",
   "id": "subject-enterprise",
   "metadata": {
    "id": "subject-enterprise"
   },
   "source": [
    "# ML Developers, c = 1"
   ]
  },
  {
   "cell_type": "code",
   "execution_count": 13,
   "id": "combined-justice",
   "metadata": {
    "id": "combined-justice",
    "outputId": "1d31ac7a-e461-4258-ab48-4684787146b6"
   },
   "outputs": [
    {
     "name": "stdout",
     "output_type": "stream",
     "text": [
      "dotted horizontal line shows uncorrelated knn, which is  36.43680146311726\n"
     ]
    },
    {
     "data": {
      "image/png": "[encoded data removed]",
      "text/plain": [
       "<Figure size 432x288 with 1 Axes>"
      ]
     },
     "metadata": {
      "needs_background": "light"
     },
     "output_type": "display_data"
    }
   ],
   "source": [
    "knn = deg_corr(github_graph_ml2)\n",
    "\n",
    "x = list(knn.keys())\n",
    "y = list(knn.values())\n",
    "\n",
    "knn2 = deg_corr_neutral(github_graph_ml2) #gives us uncorrelated knn\n",
    "\n",
    "\n",
    "plt.scatter(x,y,marker='.',c='black')\n",
    "\n",
    "plt.hlines(y=knn2,xmin=min(x),xmax=max(x),linestyles=':')\n",
    "plt.xlabel(r'degree ($\\ell$)',fontsize=12)\n",
    "plt.ylabel(r'$k_{nn}(\\ell)$',fontsize=12)\n",
    "print(\"dotted horizontal line shows uncorrelated knn, which is \", knn2)"
   ]
  },
  {
   "cell_type": "markdown",
   "id": "precious-meaning",
   "metadata": {
    "id": "precious-meaning"
   },
   "source": [
    "# Web Developers, c = 1"
   ]
  },
  {
   "cell_type": "code",
   "execution_count": 14,
   "id": "illegal-negative",
   "metadata": {
    "id": "illegal-negative",
    "outputId": "82dd6883-d780-431c-ae2f-ab9c6f64e4f8"
   },
   "outputs": [
    {
     "name": "stdout",
     "output_type": "stream",
     "text": [
      "dotted horizontal line shows uncorrelated knn, which is  420.39156275181074\n"
     ]
    },
    {
     "data": {
      "image/png": "[encoded data removed]",
      "text/plain": [
       "<Figure size 432x288 with 1 Axes>"
      ]
     },
     "metadata": {
      "needs_background": "light"
     },
     "output_type": "display_data"
    }
   ],
   "source": [
    "knn = deg_corr(github_graph_web2)\n",
    "\n",
    "LIM = 1000 #degree limit for a clearer graph\n",
    "\n",
    "x = list(knn.keys())\n",
    "y = list(knn.values())\n",
    "\n",
    "knn2 = deg_corr_neutral(github_graph_web2) #gives us uncorrelated knn\n",
    "\n",
    "plt.xlim((0,LIM))\n",
    "plt.scatter(x,y,marker='.',c='black')\n",
    "\n",
    "plt.hlines(y=knn2,xmin=min(x),xmax=max(x),linestyles=':')\n",
    "plt.xlabel(r'degree ($\\ell$)',fontsize=12)\n",
    "plt.ylabel(r'$k_{nn}(\\ell)$',fontsize=12)\n",
    "print(\"dotted horizontal line shows uncorrelated knn, which is \", knn2)"
   ]
  },
  {
   "cell_type": "markdown",
   "id": "secondary-spanking",
   "metadata": {
    "id": "secondary-spanking"
   },
   "source": [
    "# c = 2"
   ]
  },
  {
   "cell_type": "code",
   "execution_count": 15,
   "id": "declared-happening",
   "metadata": {
    "id": "declared-happening"
   },
   "outputs": [],
   "source": [
    "# rewiring using rewire() function\n",
    "# rewire(n=1000, mode='simple')\n",
    "# n, is the number of trials\n",
    "# mode='simple' does not create or destroy loops\n",
    "# for the number of trials, I did number of edges * c (cm edge switching)\n",
    "\n",
    "c = 2\n",
    "\n",
    "github_graph2 = github_graph.copy()\n",
    "github_graph2.rewire(github_graph.ecount()*c, mode='simple')\n",
    "\n",
    "github_graph_ml2 = github_graph_ml.copy()\n",
    "github_graph_ml2.rewire(github_graph_ml.ecount()*c, mode='simple')\n",
    "\n",
    "github_graph_web2 = github_graph_web.copy()\n",
    "github_graph_web2.rewire(github_graph_web.ecount()*c, mode='simple')"
   ]
  },
  {
   "cell_type": "markdown",
   "id": "equivalent-literature",
   "metadata": {
    "id": "equivalent-literature"
   },
   "source": [
    "# Original Graph, c = 2"
   ]
  },
  {
   "cell_type": "code",
   "execution_count": 16,
   "id": "fleet-powder",
   "metadata": {
    "id": "fleet-powder",
    "outputId": "35463227-a951-4d10-c93a-d01155ff691a"
   },
   "outputs": [
    {
     "name": "stdout",
     "output_type": "stream",
     "text": [
      "dotted horizontal line shows uncorrelated knn, which is  441.020594941921\n"
     ]
    },
    {
     "data": {
      "image/png": "[encoded data removed]",
      "text/plain": [
       "<Figure size 432x288 with 1 Axes>"
      ]
     },
     "metadata": {
      "needs_background": "light"
     },
     "output_type": "display_data"
    }
   ],
   "source": [
    "LIM = 1000 #degree limit for a clearer graph\n",
    "\n",
    "knn = deg_corr(github_graph2)\n",
    "\n",
    "x = list(knn.keys())\n",
    "y = list(knn.values())\n",
    "\n",
    "knn2 = deg_corr_neutral(github_graph2) #gives us uncorrelated knn\n",
    "\n",
    "plt.xlim((0,LIM))\n",
    "plt.scatter(x,y,marker='.',c='black')\n",
    "\n",
    "plt.hlines(y=knn2,xmin=min(x),xmax=max(x),linestyles=':')\n",
    "plt.xlabel(r'degree ($\\ell$)',fontsize=12)\n",
    "plt.ylabel(r'$k_{nn}(\\ell)$',fontsize=12);\n",
    "print(\"dotted horizontal line shows uncorrelated knn, which is \", knn2)"
   ]
  },
  {
   "cell_type": "markdown",
   "id": "compatible-andrews",
   "metadata": {
    "id": "compatible-andrews"
   },
   "source": [
    "# ML Developers, c = 2"
   ]
  },
  {
   "cell_type": "code",
   "execution_count": 17,
   "id": "executive-senate",
   "metadata": {
    "id": "executive-senate",
    "outputId": "863f1d02-5c6d-43d7-864a-a257c2d02257"
   },
   "outputs": [
    {
     "name": "stdout",
     "output_type": "stream",
     "text": [
      "dotted horizontal line shows uncorrelated knn, which is  36.43680146311726\n"
     ]
    },
    {
     "data": {
      "image/png": "[encoded data removed]",
      "text/plain": [
       "<Figure size 432x288 with 1 Axes>"
      ]
     },
     "metadata": {
      "needs_background": "light"
     },
     "output_type": "display_data"
    }
   ],
   "source": [
    "knn = deg_corr(github_graph_ml2)\n",
    "\n",
    "x = list(knn.keys())\n",
    "y = list(knn.values())\n",
    "\n",
    "knn2 = deg_corr_neutral(github_graph_ml2) #gives us uncorrelated knn\n",
    "\n",
    "\n",
    "plt.scatter(x,y,marker='.',c='black')\n",
    "\n",
    "plt.hlines(y=knn2,xmin=min(x),xmax=max(x),linestyles=':')\n",
    "plt.xlabel(r'degree ($\\ell$)',fontsize=12)\n",
    "plt.ylabel(r'$k_{nn}(\\ell)$',fontsize=12)\n",
    "print(\"dotted horizontal line shows uncorrelated knn, which is \", knn2)"
   ]
  },
  {
   "cell_type": "markdown",
   "id": "quarterly-inspector",
   "metadata": {
    "id": "quarterly-inspector"
   },
   "source": [
    "# Web Developers, c = 2"
   ]
  },
  {
   "cell_type": "code",
   "execution_count": 18,
   "id": "manual-cookie",
   "metadata": {
    "id": "manual-cookie",
    "outputId": "1ae6cbd8-c86c-464d-bc04-115c68848934"
   },
   "outputs": [
    {
     "name": "stdout",
     "output_type": "stream",
     "text": [
      "dotted horizontal line shows uncorrelated knn, which is  420.39156275181074\n"
     ]
    },
    {
     "data": {
      "image/png": "[encoded data removed]",
      "text/plain": [
       "<Figure size 432x288 with 1 Axes>"
      ]
     },
     "metadata": {
      "needs_background": "light"
     },
     "output_type": "display_data"
    }
   ],
   "source": [
    "knn = deg_corr(github_graph_web2)\n",
    "\n",
    "LIM = 1000 #degree limit for a clearer graph\n",
    "\n",
    "x = list(knn.keys())\n",
    "y = list(knn.values())\n",
    "\n",
    "knn2 = deg_corr_neutral(github_graph_web2) #gives us uncorrelated knn\n",
    "\n",
    "plt.xlim((0,LIM))\n",
    "plt.scatter(x,y,marker='.',c='black')\n",
    "\n",
    "plt.hlines(y=knn2,xmin=min(x),xmax=max(x),linestyles=':')\n",
    "plt.xlabel(r'degree ($\\ell$)',fontsize=12)\n",
    "plt.ylabel(r'$k_{nn}(\\ell)$',fontsize=12)\n",
    "print(\"dotted horizontal line shows uncorrelated knn, which is \", knn2)"
   ]
  },
  {
   "cell_type": "code",
   "execution_count": 19,
   "id": "exposed-swift",
   "metadata": {
    "id": "exposed-swift",
    "outputId": "0493245a-7dee-48e6-ca44-96a66889dd8f"
   },
   "outputs": [
    {
     "name": "stdout",
     "output_type": "stream",
     "text": [
      "In conclusion, the rewired graphs are still not the same with original graphs, with cm edge rewirings. Again, this suggests github graphs are not uncorrelated.\n"
     ]
    }
   ],
   "source": [
    "print(\"In conclusion, the rewired graphs are still not the same with original graphs, with cm edge rewirings. Again, this suggests github graphs are not uncorrelated.\")"
   ]
  },
  {
   "cell_type": "markdown",
   "id": "charged-guyana",
   "metadata": {
    "id": "quiet-clerk"
   },
   "source": [
    "# Alternative rewiring function"
   ]
  },
  {
   "cell_type": "markdown",
   "id": "YSms5tcyMWKw",
   "metadata": {
    "id": "YSms5tcyMWKw"
   },
   "source": [
    "We also tried to build our own rewire function, we pass two arguments g(graph), and c(with 3 different values of cm). This functions rewires the edges and prints the count of numbers of edges switched then returns the graph so we can do futher computations."
   ]
  },
  {
   "cell_type": "code",
   "execution_count": 22,
   "id": "7YIHuu03NAsu",
   "metadata": {
    "id": "7YIHuu03NAsu"
   },
   "outputs": [],
   "source": [
    "def edge_switch(g,c):\n",
    "    edge_lst = g.get_edgelist()\n",
    "    m= g.ecount()\n",
    "    loop_range = (m+1)//2\n",
    "  \n",
    "  \n",
    "    count = 0\n",
    "    for j  in range(c):\n",
    "    \n",
    "        # pick two random edges\n",
    "        rnd1 = int(np.random.uniform(0,len(edge_lst)))\n",
    "        edge1 = edge_lst[rnd1]\n",
    "        #print(edge1)\n",
    "        rnd2 = int(np.random.uniform(0,len(edge_lst)))\n",
    "        edge2 = edge_lst[rnd2]\n",
    "        #print(edge2)\n",
    "\n",
    "        #switching the vertices of both the edges\n",
    "        new_edge1 = (edge1[0],edge2[1])\n",
    "        new_edge2 = (edge1[1],edge2[0])\n",
    "        #print(new_edge1)\n",
    "        #print(new_edge2)\n",
    "        flag=False\n",
    "        # add the switched vertices for the edge if these does not exit already\n",
    "        for ed in g.get_edgelist():\n",
    "            if ed==new_edge1 or ed== new_edge2:\n",
    "                flag = True\n",
    "\n",
    "        #print(flag)\n",
    "        if flag == False:\n",
    "            count +=1\n",
    "            # Deleting the edges from the graph\n",
    "            g.delete_edges(edge1)\n",
    "            g.delete_edges(edge2)\n",
    "            #print(g.ecount())\n",
    "            g.add_edge(new_edge1[0],new_edge1[1])\n",
    "            g.add_edge(new_edge2[0],new_edge2[1])\n",
    "            #print(g.ecount())\n",
    "        else:\n",
    "            pass\n",
    "    print(\"Number of switchings happened: \",count)\n",
    "    return g\n",
    "    \n",
    "    \n"
   ]
  },
  {
   "cell_type": "code",
   "execution_count": 26,
   "id": "mysterious-painting",
   "metadata": {},
   "outputs": [],
   "source": [
    "#c = [0.5,1,2]\n",
    "#c1 = int(c[0]*github_graph.ecount())\n",
    "#G  = edge_switch(github_graph,c1)\n",
    "#c2 = int(c[1]*github_graph.ecount())\n",
    "#c3 = int(c[2]*github_graph.ecount())"
   ]
  },
  {
   "cell_type": "code",
   "execution_count": null,
   "id": "narrow-scenario",
   "metadata": {},
   "outputs": [],
   "source": []
  }
 ],
 "metadata": {
  "colab": {
   "collapsed_sections": [],
   "name": "hw4q3v2.ipynb",
   "provenance": []
  },
  "kernelspec": {
   "display_name": "Python 3",
   "language": "python",
   "name": "python3"
  },
  "language_info": {
   "codemirror_mode": {
    "name": "ipython",
    "version": 3
   },
   "file_extension": ".py",
   "mimetype": "text/x-python",
   "name": "python",
   "nbconvert_exporter": "python",
   "pygments_lexer": "ipython3",
   "version": "3.8.8"
  }
 },
 "nbformat": 4,
 "nbformat_minor": 5
}
